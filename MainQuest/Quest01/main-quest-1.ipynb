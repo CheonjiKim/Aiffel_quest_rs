{
 "cells": [
  {
   "cell_type": "markdown",
   "id": "ca3ddec9",
   "metadata": {},
   "source": [
    "# GPT1 모델 구현해보기\n",
    "\n",
    "improving language understanding by generative pre-training라는 논문을 읽기\n"
   ]
  },
  {
   "cell_type": "markdown",
   "id": "705d79a3",
   "metadata": {},
   "source": [
    "## 1. Transformer와 비교하여 GPT에서 변경이 필요한 부분 서술하기\n",
    "\n",
    "- Transformer는 인코더와 디코더로 이루어져 있다. GPT는 Transformer의 decoder만을 사용한다.\n",
    "- 그러므로, gpt1 모델을 구축할 때에는 Transformer의 decoder 속에 있는 masked multi-head attention, layer normalization, feed forward를 이용하여 구현하면 된다. \n",
    "\n",
    "- 논문 3-3에서 제시된 것처럼, task에 맞게 input 데이터를 변환시켜주어야 한다.\n"
   ]
  },
  {
   "cell_type": "markdown",
   "id": "0ee112d5",
   "metadata": {},
   "source": [
    "## 2. 모델의 입력 형태에 맞게 전처리를 수행하기\n",
    "- 우리 프로젝트는 대화형 챗봇을 구현하는 것이므로, QA모델에 맞는 input 형태로 변환하는 것이 적절하다.\n",
    "- 그러므로, 논문에 제시된 내용을 참고할 때 적절할 input의 형태는 다음과 같다.\n",
    "    - startoken + context + $(delimiter) + answer + endtoken"
   ]
  },
  {
   "cell_type": "code",
   "execution_count": 67,
   "id": "fdca8414",
   "metadata": {},
   "outputs": [
    {
     "name": "stdout",
     "output_type": "stream",
     "text": [
      "50000\n"
     ]
    }
   ],
   "source": [
    "# 모델 불러오기\n",
    "path_to_zip = tf.keras.utils.get_file(\n",
    "    'cornell_movie_dialogs.zip',\n",
    "    origin='http://www.cs.cornell.edu/~cristian/data/cornell_movie_dialogs_corpus.zip',\n",
    "    extract=True)\n",
    "\n",
    "path_to_dataset = os.path.join(\n",
    "    os.path.dirname(path_to_zip), \"cornell movie-dialogs corpus\")\n",
    "\n",
    "path_to_movie_lines = os.path.join(path_to_dataset, 'movie_lines.txt')\n",
    "path_to_movie_conversations = os.path.join(path_to_dataset,'movie_conversations.txt')\n",
    "\n",
    "# 사용할 샘플의 최대 개수\n",
    "MAX_SAMPLES = 50000\n",
    "print(MAX_SAMPLES)"
   ]
  },
  {
   "cell_type": "code",
   "execution_count": 97,
   "id": "d3bc39f3",
   "metadata": {},
   "outputs": [],
   "source": [
    "# 전처리 함수\n",
    "def preprocess_sentence(sentence):\n",
    "  # 입력받은 sentence를 소문자로 변경하고 양쪽 공백을 제거\n",
    "  sentence = sentence.lower().strip()\n",
    "\n",
    "  # 단어와 구두점(punctuation) 사이의 거리를 만듭니다.\n",
    "  # 예를 들어서 \"I am a student.\" => \"I am a student .\"와 같이\n",
    "  # student와 온점 사이에 거리를 만듭니다.\n",
    "  sentence = re.sub(r\"([?.!,])\", r\" \\1 \", sentence)\n",
    "  sentence = re.sub(r'[\" \"]+', \" \", sentence)\n",
    "\n",
    "  # (a-z, A-Z, \".\", \"?\", \"!\", \",\", \"$\")를 제외한 모든 문자를 공백인 ' '로 대체합니다.\n",
    "  sentence = re.sub(r'[^a-zA-Z.,?!$]', ' ', sentence)\n",
    "  sentence = sentence.strip()\n",
    "  return sentence"
   ]
  },
  {
   "cell_type": "code",
   "execution_count": 84,
   "id": "51dbca69",
   "metadata": {},
   "outputs": [
    {
     "name": "stdout",
     "output_type": "stream",
     "text": [
      "슝=3\n"
     ]
    }
   ],
   "source": [
    "# 질문과 답변의 쌍인 데이터셋을 구성하기 위한 데이터 로드 함수\n",
    "def load_conversations():\n",
    "  id2line = {}\n",
    "  with open(path_to_movie_lines, errors='ignore') as file:\n",
    "    lines = file.readlines()\n",
    "  for line in lines:\n",
    "    parts = line.replace('\\n', '').split(' +++$+++ ')\n",
    "    id2line[parts[0]] = parts[4]\n",
    "\n",
    "  inputs, outputs = [], []\n",
    "  with open(path_to_movie_conversations, 'r') as file:\n",
    "    lines = file.readlines()\n",
    "\n",
    "  for line in lines:\n",
    "    parts = line.replace('\\n', '').split(' +++$+++ ')\n",
    "    conversation = [line[1:-1] for line in parts[3][1:-1].split(', ')]\n",
    "\n",
    "    for i in range(len(conversation) - 1):\n",
    "      # 전처리 함수를 질문에 해당되는 inputs와 답변에 해당되는 outputs에 적용.\n",
    "      inputs.append(preprocess_sentence(id2line[conversation[i]]))\n",
    "      outputs.append(preprocess_sentence(id2line[conversation[i + 1]]))\n",
    "\n",
    "  # input과 output을 delimiter인 $를 사이로 연결해준다. \n",
    "      if len(inputs) >= MAX_SAMPLES:\n",
    "        sequence = []\n",
    "        for i in range(len(inputs)):\n",
    "          sequence.append(inputs[i] + ' $ ' + outputs[i])\n",
    "        return sequence\n",
    "  \n",
    "  sequence = []\n",
    "  for i in range(len(inputs)):\n",
    "    sequence.append(inputs[i] + ' $ ' + outputs[i])\n",
    "  \n",
    "  return sequence\n",
    "print(\"슝=3\")"
   ]
  },
  {
   "cell_type": "code",
   "execution_count": 85,
   "id": "bde3e280",
   "metadata": {},
   "outputs": [
    {
     "name": "stdout",
     "output_type": "stream",
     "text": [
      "전체 샘플 수 : 50000\n"
     ]
    }
   ],
   "source": [
    "# 데이터를 로드하고 전처리하여 질문을 questions, 답변을 answers에 저장합니다.\n",
    "input_seq = load_conversations()\n",
    "print('전체 샘플 수 :', len(input_seq))"
   ]
  },
  {
   "cell_type": "code",
   "execution_count": 117,
   "id": "b06170e8",
   "metadata": {
    "scrolled": false
   },
   "outputs": [
    {
     "name": "stdout",
     "output_type": "stream",
     "text": [
      "전처리 후의 질문 샘플들\n",
      "can we make this quick ? roxanne korrine and andrew barrett are having an incredibly horrendous public break  up on the quad . again . $ well , i thought we d start with pronunciation , if that s okay with you .\n",
      "\n",
      "well , i thought we d start with pronunciation , if that s okay with you . $ not the hacking and gagging and spitting part . please .\n",
      "\n",
      "not the hacking and gagging and spitting part . please . $ okay . . . then how  bout we try out some french cuisine . saturday ? night ?\n",
      "\n",
      "you re asking me out . that s so cute . what s your name again ? $ forget it .\n",
      "\n",
      "no , no , it s my fault    we didn t have a proper introduction $ cameron .\n",
      "\n"
     ]
    }
   ],
   "source": [
    "# 질문 $ 답변 순서로 이루어진 것을 확인할 수 있다.\n",
    "\n",
    "print(\"전처리 후의 질문 샘플들\")\n",
    "for i in range(5):\n",
    "    print(input_seq[i] + \"\\n\")"
   ]
  },
  {
   "cell_type": "code",
   "execution_count": 94,
   "id": "dd7310bc",
   "metadata": {},
   "outputs": [],
   "source": [
    "import tensorflow_datasets as tfds\n",
    "\n",
    "# 질문과 답변 데이터셋에 대해서 Vocabulary 생성\n",
    "tokenizer = tfds.deprecated.text.SubwordTextEncoder.build_from_corpus(input_seq, target_vocab_size=2**13)"
   ]
  },
  {
   "cell_type": "code",
   "execution_count": 95,
   "id": "c907a00e",
   "metadata": {},
   "outputs": [
    {
     "name": "stdout",
     "output_type": "stream",
     "text": [
      "슝=3\n"
     ]
    }
   ],
   "source": [
    "# 시작 토큰과 종료 토큰에 고유한 정수를 부여합니다.\n",
    "START_TOKEN, END_TOKEN = [tokenizer.vocab_size], [tokenizer.vocab_size + 1]\n",
    "print(\"슝=3\")"
   ]
  },
  {
   "cell_type": "code",
   "execution_count": 96,
   "id": "d0527056",
   "metadata": {},
   "outputs": [
    {
     "name": "stdout",
     "output_type": "stream",
     "text": [
      "START_TOKEN의 번호 : [8058]\n",
      "END_TOKEN의 번호 : [8059]\n"
     ]
    }
   ],
   "source": [
    "print('START_TOKEN의 번호 :' ,[tokenizer.vocab_size])\n",
    "print('END_TOKEN의 번호 :' ,[tokenizer.vocab_size + 1])"
   ]
  },
  {
   "cell_type": "code",
   "execution_count": 112,
   "id": "985a3b0b",
   "metadata": {
    "scrolled": true
   },
   "outputs": [
    {
     "name": "stdout",
     "output_type": "stream",
     "text": [
      "8060\n"
     ]
    }
   ],
   "source": [
    "# 시작 토큰과 종료 토큰을 고려하여 +2를 하여 단어장의 크기를 산정합니다.\n",
    "VOCAB_SIZE = tokenizer.vocab_size + 2\n",
    "print(VOCAB_SIZE)"
   ]
  },
  {
   "cell_type": "code",
   "execution_count": 113,
   "id": "8f135448",
   "metadata": {
    "scrolled": true
   },
   "outputs": [
    {
     "name": "stdout",
     "output_type": "stream",
     "text": [
      "80\n"
     ]
    }
   ],
   "source": [
    "# 샘플의 최대 허용 길이 또는 패딩 후의 최종 길이\n",
    "# inputs와 outputs의 두 텍스트 길이를 각각 40이라고 가정하면,\n",
    "# decoder에 들어갈 총 문장은 80이라고 단순하게 생각할 수 있다.\n",
    "\n",
    "MAX_LENGTH = 80\n",
    "print(MAX_LENGTH)"
   ]
  },
  {
   "cell_type": "code",
   "execution_count": 114,
   "id": "d19b3b13",
   "metadata": {},
   "outputs": [
    {
     "name": "stdout",
     "output_type": "stream",
     "text": [
      "슝=3\n"
     ]
    }
   ],
   "source": [
    "# 정수 인코딩, 최대 길이를 초과하는 샘플 제거, 패딩\n",
    "def tokenize_and_filter(input_sequences):\n",
    "  tokenized_inputs = []\n",
    "  \n",
    "  for sentence in input_sequences:\n",
    "    # 정수 인코딩 과정에서 시작 토큰과 종료 토큰을 추가\n",
    "    sentence = START_TOKEN + tokenizer.encode(sentence) + END_TOKEN\n",
    "\n",
    "    # 최대 길이 40 이하인 경우에만 데이터셋으로 허용\n",
    "    if len(sentence) <= MAX_LENGTH:\n",
    "      tokenized_inputs.append(sentence)\n",
    "  \n",
    "  # 최대 길이 40으로 모든 데이터셋을 패딩\n",
    "  tokenized_inputs = tf.keras.preprocessing.sequence.pad_sequences(\n",
    "      tokenized_inputs, maxlen=MAX_LENGTH, padding='post')\n",
    "  \n",
    "  return tokenized_inputs\n",
    "print(\"슝=3\")"
   ]
  },
  {
   "cell_type": "code",
   "execution_count": 115,
   "id": "afb5c4e9",
   "metadata": {
    "scrolled": true
   },
   "outputs": [
    {
     "name": "stdout",
     "output_type": "stream",
     "text": [
      "단어장의 크기 : 8060\n",
      "필터링 후의 input 샘플 개수: 50000\n"
     ]
    }
   ],
   "source": [
    "tokenized_seq = tokenize_and_filter(input_seq)\n",
    "print('단어장의 크기 :',(VOCAB_SIZE))\n",
    "print('필터링 후의 input 샘플 개수: {}'.format(len(input_seq)))"
   ]
  },
  {
   "cell_type": "code",
   "execution_count": 116,
   "id": "4cd09a9c",
   "metadata": {},
   "outputs": [
    {
     "name": "stdout",
     "output_type": "stream",
     "text": [
      "[8058   73    2    3  188   20   58  372   41 1066 1754 3774  844    2\n",
      "   54   16    8 1331   41   28    7   38    5 4623   96   14 3800 3930\n",
      "   14 2947 1244 1923    1  266    6 8059    0    0    0    0    0    0\n",
      "    0    0    0    0    0    0    0    0    0    0    0    0    0    0\n",
      "    0    0    0    0    0    0    0    0    0    0    0    0    0    0\n",
      "    0    0    0    0    0    0    0    0    0    0]\n"
     ]
    }
   ],
   "source": [
    "print(tokenized_seq[1])"
   ]
  },
  {
   "cell_type": "markdown",
   "id": "3c5cce90",
   "metadata": {},
   "source": [
    "## 3. 모델의 입력 블럭을 GPT 논문에 기반하여 수정하기"
   ]
  },
  {
   "cell_type": "code",
   "execution_count": null,
   "id": "38bc42c9",
   "metadata": {},
   "outputs": [],
   "source": [
    "# 포지셔널 인코딩 레이어\n",
    "class PositionalEncoding(tf.keras.layers.Layer):\n",
    "\n",
    "  def __init__(self, position, d_model):\n",
    "    super(PositionalEncoding, self).__init__()\n",
    "    self.pos_encoding = self.positional_encoding(position, d_model)\n",
    "\n",
    "  def get_angles(self, position, i, d_model):\n",
    "    angles = 1 / tf.pow(10000, (2 * (i // 2)) / tf.cast(d_model, tf.float32))\n",
    "    return position * angles\n",
    "\n",
    "  def positional_encoding(self, position, d_model):\n",
    "    # 각도 배열 생성\n",
    "    angle_rads = self.get_angles(\n",
    "        position=tf.range(position, dtype=tf.float32)[:, tf.newaxis],\n",
    "        i=tf.range(d_model, dtype=tf.float32)[tf.newaxis, :],\n",
    "        d_model=d_model)\n",
    "\n",
    "    # 배열의 짝수 인덱스에는 sin 함수 적용\n",
    "    sines = tf.math.sin(angle_rads[:, 0::2])\n",
    "    # 배열의 홀수 인덱스에는 cosine 함수 적용\n",
    "    cosines = tf.math.cos(angle_rads[:, 1::2])\n",
    "\n",
    "    # sin과 cosine이 교차되도록 재배열\n",
    "    pos_encoding = tf.stack([sines, cosines], axis=0)\n",
    "    pos_encoding = tf.transpose(pos_encoding,[1, 2, 0]) \n",
    "    pos_encoding = tf.reshape(pos_encoding, [position, d_model])\n",
    "\n",
    "    pos_encoding = pos_encoding[tf.newaxis, ...]\n",
    "    return tf.cast(pos_encoding, tf.float32)\n",
    "\n",
    "  def call(self, inputs):\n",
    "    return inputs + self.pos_encoding[:, :tf.shape(inputs)[1], :]\n",
    "\n",
    "print(\"슝=3\")"
   ]
  },
  {
   "cell_type": "code",
   "execution_count": null,
   "id": "a0518382",
   "metadata": {},
   "outputs": [],
   "source": [
    "# 스케일드 닷 프로덕트 어텐션 함수\n",
    "def scaled_dot_product_attention(query, key, value, mask):\n",
    "  # 어텐션 가중치는 Q와 K의 닷 프로덕트\n",
    "  matmul_qk = tf.matmul(query, key, transpose_b=True)\n",
    "\n",
    "  # 가중치를 정규화\n",
    "  depth = tf.cast(tf.shape(key)[-1], tf.float32)\n",
    "  logits = matmul_qk / tf.math.sqrt(depth)\n",
    "\n",
    "  # 패딩에 마스크 추가\n",
    "  if mask is not None:\n",
    "    logits += (mask * -1e9)\n",
    "\n",
    "  # softmax적용\n",
    "  attention_weights = tf.nn.softmax(logits, axis=-1)\n",
    "\n",
    "  # 최종 어텐션은 가중치와 V의 닷 프로덕트\n",
    "  output = tf.matmul(attention_weights, value)\n",
    "  return output\n",
    "\n",
    "print(\"슝=3\")"
   ]
  },
  {
   "cell_type": "code",
   "execution_count": null,
   "id": "6af9aaff",
   "metadata": {},
   "outputs": [],
   "source": [
    "class MultiHeadAttention(tf.keras.layers.Layer):\n",
    "\n",
    "  def __init__(self, d_model, num_heads, name=\"multi_head_attention\"):\n",
    "    super(MultiHeadAttention, self).__init__(name=name)\n",
    "    self.num_heads = num_heads\n",
    "    self.d_model = d_model\n",
    "\n",
    "    assert d_model % self.num_heads == 0 # 자연수로 딱 맞게 떨어져야 한다.\n",
    "\n",
    "    self.depth = d_model // self.num_heads\n",
    "\n",
    "    self.query_dense = tf.keras.layers.Dense(units=d_model)\n",
    "    self.key_dense = tf.keras.layers.Dense(units=d_model)\n",
    "    self.value_dense = tf.keras.layers.Dense(units=d_model)\n",
    "\n",
    "    self.dense = tf.keras.layers.Dense(units=d_model)\n",
    "\n",
    "  def split_heads(self, inputs, batch_size):\n",
    "    inputs = tf.reshape(\n",
    "        inputs, shape=(batch_size, -1, self.num_heads, self.depth))\n",
    "    return tf.transpose(inputs, perm=[0, 2, 1, 3])\n",
    "\n",
    "  def call(self, inputs):\n",
    "    query, key, value, mask = inputs['query'], inputs['key'], inputs['value'], inputs['mask']\n",
    "    batch_size = tf.shape(query)[0]\n",
    "\n",
    "    # Q, K, V에 각각 Dense를 적용합니다\n",
    "    query = self.query_dense(query)  # (batch_size, seq_len, d_model)\n",
    "    key = self.key_dense(key)        # (batch_size, seq_len, d_model)\n",
    "    value = self.value_dense(value)  # (batch_size, seq_len, d_model)\n",
    "\n",
    "    # 병렬 연산을 위한 머리를 여러 개 만듭니다\n",
    "    query = self.split_heads(query, batch_size)  # (batch_size, num_heads, seq_len_q, depth)\n",
    "    key = self.split_heads(key, batch_size)      # (batch_size, num_heads, seq_len_k, depth)\n",
    "    value = self.split_heads(value, batch_size)  # (batch_size, num_heads, seq_len_v, depth)\n",
    "\n",
    "    # 스케일드 닷 프로덕트 어텐션 함수\n",
    "    scaled_attention = scaled_dot_product_attention(query, key, value, mask)\n",
    "\n",
    "    scaled_attention = tf.transpose(scaled_attention, perm=[0, 2, 1, 3])\n",
    "\n",
    "    # 어텐션 연산 후에 각 결과를 다시 연결(concatenate)합니다\n",
    "    concat_attention = tf.reshape(scaled_attention,\n",
    "                                  (batch_size, -1, self.d_model))\n",
    "\n",
    "    # 최종 결과에도 Dense를 한 번 더 적용합니다\n",
    "    outputs = self.dense(concat_attention)\n",
    "\n",
    "    return outputs\n",
    "print(\"슝=3\")"
   ]
  },
  {
   "cell_type": "code",
   "execution_count": null,
   "id": "74c4d218",
   "metadata": {},
   "outputs": [],
   "source": [
    "def create_padding_mask(x):\n",
    "  mask = tf.cast(tf.math.equal(x, 0), tf.float32)\n",
    "  # (batch_size, 1, 1, sequence length)\n",
    "  return mask[:, tf.newaxis, tf.newaxis, :]\n",
    "print(\"슝=3\")"
   ]
  },
  {
   "cell_type": "code",
   "execution_count": null,
   "id": "2427e691",
   "metadata": {},
   "outputs": [],
   "source": [
    "def create_look_ahead_mask(x):\n",
    "  seq_len = tf.shape(x)[1]\n",
    "  look_ahead_mask = 1 - tf.linalg.band_part(tf.ones((seq_len, seq_len)), -1, 0)\n",
    "  padding_mask = create_padding_mask(x)\n",
    "  return tf.maximum(look_ahead_mask, padding_mask)\n",
    "print(\"슝=3\")"
   ]
  },
  {
   "cell_type": "code",
   "execution_count": 130,
   "id": "0efc6504",
   "metadata": {},
   "outputs": [],
   "source": [
    "# GPT의 디코더 블록을 정의한다.\n",
    "def gpt_decoder_layer(units, d_model, num_heads, dropout, name=\"gpt_decoder_layer\"):\n",
    "    inputs = tf.keras.Input(shape=(None, d_model), name=\"inputs\")\n",
    "    look_ahead_mask = tf.keras.Input(shape=(1, None, None), name=\"look_ahead_mask\")\n",
    "    \n",
    "    # 멀티 헤드 어텐션 (셀프 어텐션)\n",
    "    attention = MultiHeadAttention(d_model, num_heads, name=\"self_attention\")({\n",
    "        'query': inputs,\n",
    "        'key': inputs,\n",
    "        'value': inputs,\n",
    "        'mask': look_ahead_mask\n",
    "    })\n",
    "    attention = tf.keras.layers.Dropout(rate=dropout)(attention) \n",
    "    attention = tf.keras.layers.LayerNormalization(epsilon=1e-6)(inputs + attention) # Layer normalization\n",
    "    \n",
    "    # 완전연결층\n",
    "    outputs = tf.keras.layers.Dense(units=units, activation='relu')(attention)\n",
    "    outputs = tf.keras.layers.Dense(units=d_model)(outputs)\n",
    "    outputs = tf.keras.layers.Dropout(rate=dropout)(outputs)\n",
    "    outputs = tf.keras.layers.LayerNormalization(epsilon=1e-6)(attention + outputs)\n",
    "    \n",
    "    return tf.keras.Model(inputs=[inputs, look_ahead_mask], outputs=outputs, name=name)"
   ]
  },
  {
   "cell_type": "markdown",
   "id": "c269d9f4",
   "metadata": {},
   "source": [
    "## 4. GPT 모델을 정상적으로 구성하기"
   ]
  },
  {
   "cell_type": "code",
   "execution_count": 138,
   "id": "26cb3e79",
   "metadata": {},
   "outputs": [
    {
     "name": "stdout",
     "output_type": "stream",
     "text": [
      "GPT 모델 정의됨.\n"
     ]
    }
   ],
   "source": [
    "def gpt_model(vocab_size,\n",
    "              num_layers, # 논문에서는 12개의 레이어를 사용한다.\n",
    "              units,\n",
    "              d_model,\n",
    "              num_heads,\n",
    "              dropout,\n",
    "              name=\"gpt_model\"):\n",
    "    inputs = tf.keras.Input(shape=(None,), name=\"inputs\")\n",
    "    look_ahead_mask = tf.keras.Input(shape=(1, None, None), name=\"look_ahead_mask\")\n",
    "    \n",
    "    # 임베딩 레이어\n",
    "    embeddings = tf.keras.layers.Embedding(vocab_size, d_model)(inputs)\n",
    "    embeddings *= tf.math.sqrt(tf.cast(d_model, tf.float32))\n",
    "    embeddings = PositionalEncoding(vocab_size, d_model)(embeddings)\n",
    "    outputs = tf.keras.layers.Dropout(rate=dropout)(embeddings)\n",
    "    \n",
    "    # GPT 디코더 블록 반복 적용\n",
    "    for i in range(num_layers):\n",
    "        outputs = gpt_decoder_layer(units, d_model, num_heads, dropout, name=f\"gpt_decoder_layer_{i}\")(\n",
    "            [outputs, look_ahead_mask]\n",
    "        )\n",
    "    # 최종 레이어 정규화\n",
    "    outputs = tf.keras.layers.LayerNormalization(epsilon=1e-5)(outputs)\n",
    "    \n",
    "    # 출력층 (언어 모델링을 위한 Softmax)\n",
    "    logits = tf.keras.layers.Dense(vocab_size, name=\"logits\")(outputs)\n",
    "    \n",
    "    return tf.keras.Model(inputs=[inputs, look_ahead_mask], outputs=logits, name=name)\n",
    "\n",
    "print(\"GPT 모델 정의됨.\")\n",
    "\n"
   ]
  },
  {
   "cell_type": "code",
   "execution_count": 139,
   "id": "1b87cb63",
   "metadata": {},
   "outputs": [
    {
     "name": "stdout",
     "output_type": "stream",
     "text": [
      "Model: \"gpt_model\"\n",
      "__________________________________________________________________________________________________\n",
      "Layer (type)                    Output Shape         Param #     Connected to                     \n",
      "==================================================================================================\n",
      "inputs (InputLayer)             [(None, None)]       0                                            \n",
      "__________________________________________________________________________________________________\n",
      "embedding_10 (Embedding)        (None, None, 256)    2063360     inputs[0][0]                     \n",
      "__________________________________________________________________________________________________\n",
      "tf.math.multiply_10 (TFOpLambda (None, None, 256)    0           embedding_10[0][0]               \n",
      "__________________________________________________________________________________________________\n",
      "positional_encoding_10 (Positio (None, None, 256)    0           tf.math.multiply_10[0][0]        \n",
      "__________________________________________________________________________________________________\n",
      "dropout_58 (Dropout)            (None, None, 256)    0           positional_encoding_10[0][0]     \n",
      "__________________________________________________________________________________________________\n",
      "look_ahead_mask (InputLayer)    [(None, 1, None, Non 0                                            \n",
      "__________________________________________________________________________________________________\n",
      "gpt_decoder_layer_0 (Functional (None, None, 256)    527104      dropout_58[0][0]                 \n",
      "                                                                 look_ahead_mask[0][0]            \n",
      "__________________________________________________________________________________________________\n",
      "gpt_decoder_layer_1 (Functional (None, None, 256)    527104      gpt_decoder_layer_0[0][0]        \n",
      "                                                                 look_ahead_mask[0][0]            \n",
      "__________________________________________________________________________________________________\n",
      "gpt_decoder_layer_2 (Functional (None, None, 256)    527104      gpt_decoder_layer_1[0][0]        \n",
      "                                                                 look_ahead_mask[0][0]            \n",
      "__________________________________________________________________________________________________\n",
      "gpt_decoder_layer_3 (Functional (None, None, 256)    527104      gpt_decoder_layer_2[0][0]        \n",
      "                                                                 look_ahead_mask[0][0]            \n",
      "__________________________________________________________________________________________________\n",
      "layer_normalization_59 (LayerNo (None, None, 256)    512         gpt_decoder_layer_3[0][0]        \n",
      "__________________________________________________________________________________________________\n",
      "logits (Dense)                  (None, None, 8060)   2071420     layer_normalization_59[0][0]     \n",
      "==================================================================================================\n",
      "Total params: 6,243,708\n",
      "Trainable params: 6,243,708\n",
      "Non-trainable params: 0\n",
      "__________________________________________________________________________________________________\n"
     ]
    }
   ],
   "source": [
    "d_model = 256\n",
    "units = 512\n",
    "num_heads = 8\n",
    "num_layers = 4\n",
    "dropout = 0.1\n",
    "\n",
    "# 모델 초기화\n",
    "model = gpt_model(VOCAB_SIZE, num_layers, units, d_model, num_heads, dropout)\n",
    "\n",
    "model.summary()"
   ]
  },
  {
   "cell_type": "markdown",
   "id": "e7d0b672",
   "metadata": {},
   "source": [
    "## 5. 입력에 따른 출력을 생성하기"
   ]
  },
  {
   "cell_type": "code",
   "execution_count": null,
   "id": "a5c1b563",
   "metadata": {},
   "outputs": [],
   "source": []
  }
 ],
 "metadata": {
  "kernelspec": {
   "display_name": "Python 3 (ipykernel)",
   "language": "python",
   "name": "python3"
  },
  "language_info": {
   "codemirror_mode": {
    "name": "ipython",
    "version": 3
   },
   "file_extension": ".py",
   "mimetype": "text/x-python",
   "name": "python",
   "nbconvert_exporter": "python",
   "pygments_lexer": "ipython3",
   "version": "3.9.7"
  }
 },
 "nbformat": 4,
 "nbformat_minor": 5
}
