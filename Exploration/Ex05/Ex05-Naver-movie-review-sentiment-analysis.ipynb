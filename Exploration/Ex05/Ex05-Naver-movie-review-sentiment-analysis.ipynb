{
 "cells": [
  {
   "cell_type": "markdown",
   "metadata": {
    "id": "t7f-UaDsCgTB"
   },
   "source": [
    "# Ex05 네이버 영화리뷰 감성분석"
   ]
  },
  {
   "cell_type": "markdown",
   "metadata": {
    "id": "UX2UIqwpCbGz"
   },
   "source": [
    "## 1. 데이터 준비와 확인"
   ]
  },
  {
   "cell_type": "code",
   "execution_count": 3,
   "metadata": {
    "colab": {
     "base_uri": "https://localhost:8080/"
    },
    "id": "NbeivNkmCjDa",
    "outputId": "aa1ed391-3cf6-48bb-965a-66c4eb4899be"
   },
   "outputs": [
    {
     "name": "stdout",
     "output_type": "stream",
     "text": [
      "1.3.3\n",
      "0.5.2\n",
      "4.1.2\n"
     ]
    }
   ],
   "source": [
    "import pandas\n",
    "import konlpy\n",
    "import gensim\n",
    "\n",
    "print(pandas.__version__)\n",
    "print(konlpy.__version__)\n",
    "print(gensim.__version__)"
   ]
  },
  {
   "cell_type": "code",
   "execution_count": 4,
   "metadata": {
    "colab": {
     "base_uri": "https://localhost:8080/",
     "height": 423
    },
    "id": "R_RAmwr4Bhe4",
    "outputId": "a3121516-2c9b-40a6-9efe-488664f25d87"
   },
   "outputs": [
    {
     "data": {
      "text/html": [
       "<div>\n",
       "<style scoped>\n",
       "    .dataframe tbody tr th:only-of-type {\n",
       "        vertical-align: middle;\n",
       "    }\n",
       "\n",
       "    .dataframe tbody tr th {\n",
       "        vertical-align: top;\n",
       "    }\n",
       "\n",
       "    .dataframe thead th {\n",
       "        text-align: right;\n",
       "    }\n",
       "</style>\n",
       "<table border=\"1\" class=\"dataframe\">\n",
       "  <thead>\n",
       "    <tr style=\"text-align: right;\">\n",
       "      <th></th>\n",
       "      <th>id</th>\n",
       "      <th>document</th>\n",
       "      <th>label</th>\n",
       "    </tr>\n",
       "  </thead>\n",
       "  <tbody>\n",
       "    <tr>\n",
       "      <th>0</th>\n",
       "      <td>9976970</td>\n",
       "      <td>아 더빙.. 진짜 짜증나네요 목소리</td>\n",
       "      <td>0</td>\n",
       "    </tr>\n",
       "    <tr>\n",
       "      <th>1</th>\n",
       "      <td>3819312</td>\n",
       "      <td>흠...포스터보고 초딩영화줄....오버연기조차 가볍지 않구나</td>\n",
       "      <td>1</td>\n",
       "    </tr>\n",
       "    <tr>\n",
       "      <th>2</th>\n",
       "      <td>10265843</td>\n",
       "      <td>너무재밓었다그래서보는것을추천한다</td>\n",
       "      <td>0</td>\n",
       "    </tr>\n",
       "    <tr>\n",
       "      <th>3</th>\n",
       "      <td>9045019</td>\n",
       "      <td>교도소 이야기구먼 ..솔직히 재미는 없다..평점 조정</td>\n",
       "      <td>0</td>\n",
       "    </tr>\n",
       "    <tr>\n",
       "      <th>4</th>\n",
       "      <td>6483659</td>\n",
       "      <td>사이몬페그의 익살스런 연기가 돋보였던 영화!스파이더맨에서 늙어보이기만 했던 커스틴 ...</td>\n",
       "      <td>1</td>\n",
       "    </tr>\n",
       "  </tbody>\n",
       "</table>\n",
       "</div>"
      ],
      "text/plain": [
       "         id                                           document  label\n",
       "0   9976970                                아 더빙.. 진짜 짜증나네요 목소리      0\n",
       "1   3819312                  흠...포스터보고 초딩영화줄....오버연기조차 가볍지 않구나      1\n",
       "2  10265843                                  너무재밓었다그래서보는것을추천한다      0\n",
       "3   9045019                      교도소 이야기구먼 ..솔직히 재미는 없다..평점 조정      0\n",
       "4   6483659  사이몬페그의 익살스런 연기가 돋보였던 영화!스파이더맨에서 늙어보이기만 했던 커스틴 ...      1"
      ]
     },
     "execution_count": 4,
     "metadata": {},
     "output_type": "execute_result"
    }
   ],
   "source": [
    "import pandas as pd\n",
    "\n",
    "# 데이터를 읽어봅시다. \n",
    "train_data = pd.read_table('~/aiffel/sentiment_classification/data/ratings_train.txt')\n",
    "test_data = pd.read_table('~/aiffel/sentiment_classification/data/ratings_test.txt')\n",
    "\n",
    "train_data.head()"
   ]
  },
  {
   "cell_type": "markdown",
   "metadata": {
    "id": "seRUOcQ-DBl4"
   },
   "source": [
    "## 2. 데이터 로더\n",
    "\n",
    "- 데이터의 중복 제거\n",
    "- NaN 결측치 제거\n",
    "- 한국어 토크나이저로 토큰화\n",
    "- 불용어(Stopwords) 제거\n",
    "- 사전word_to_index 구성\n",
    "- 텍스트 스트링을 사전 인덱스 스트링으로 변환\n",
    "- X_train, y_train, X_test, y_test, word_to_index 리턴"
   ]
  },
  {
   "cell_type": "code",
   "execution_count": 5,
   "metadata": {
    "id": "WNVN8eo2CWWc"
   },
   "outputs": [],
   "source": [
    "from konlpy.tag import Mecab\n",
    "import numpy as np\n",
    "from collections import Counter\n",
    "\n",
    "tokenizer = Mecab()\n",
    "stopwords = ['의','가','이','은','들','는','좀','잘','걍','과','도','를','으로','자','에','와','한','하다']\n",
    "\n",
    "\n",
    "def load_data(train_data, test_data, num_words=10000):\n",
    "    # 데이터 중복 및 결측치 제거\n",
    "    train_data.drop_duplicates(subset=['document'], inplace=True) # document 열에서 중복인 내용이 있다면 중복 제거\n",
    "    train_data = train_data.dropna(how = 'any') # Null 값이 존재하는 행 제거\n",
    "    test_data.drop_duplicates(subset=['document'], inplace=True) # document 열에서 중복인 내용이 있다면 중복 제거\n",
    "    test_data = test_data.dropna(how = 'any') # Null 값이 존재하는 행 제거\n",
    "\n",
    "    # 문장을 토큰화한 후 불용어를 제거하여 리스트로 변환\n",
    "    train_sentences = list(train_data['document'] # 훈련 세트\n",
    "                           .apply(lambda x: tokenizer.morphs(x)) # 토큰화\n",
    "                           .apply(lambda x: [item for item in x if item not in stopwords])) # 불용어 제거\n",
    "    test_sentences = list(test_data['document'] # 테스트 세트\n",
    "                          .apply(lambda x: tokenizer.morphs(x)) # 토큰화\n",
    "                          .apply(lambda x: [item for item in x if item not in stopwords])) # 불용어 제거\n",
    "\n",
    "    # 각 토큰을 words 리스트에 담는다.\n",
    "    words = []\n",
    "    for sentence in train_sentences: # train 속 단어\n",
    "        words.extend(sentence)\n",
    "    for sentence in test_sentences: # test 속 단어\n",
    "        words.extend(sentence)\n",
    "\n",
    "    # 상위 10000개의 단어만을 선택한다.\n",
    "    counter = Counter(words).most_common(10000 - 4)\n",
    "    #print(counter)\n",
    "\n",
    "    vocab = ['<PAD>', '<BOS>', '<UNK>', ''] + [key for key, _ in counter]\n",
    "    word_to_index = {word:index for index, word in enumerate(vocab)}\n",
    "\n",
    "    def wordlist_to_indexlist(wordlist):\n",
    "        return [word_to_index[word] if word in word_to_index else word_to_index[''] for word in wordlist]\n",
    "\n",
    "    # 문장 속 단어를 인덱스에 매핑해준다.\n",
    "    X_train = list(map(wordlist_to_indexlist, train_sentences))\n",
    "    y_train = np.array(train_data['label'])\n",
    "    X_test = list(map(wordlist_to_indexlist, test_sentences))\n",
    "    y_test = np.array(test_data['label'])\n",
    "    return X_train, y_train, X_test, y_test, word_to_index\n",
    "\n",
    "X_train, y_train, X_test, y_test, word_to_index = load_data(train_data, test_data)"
   ]
  },
  {
   "cell_type": "code",
   "execution_count": 6,
   "metadata": {
    "colab": {
     "base_uri": "https://localhost:8080/"
    },
    "id": "juRHMhxN-XmR",
    "outputId": "54432938-848f-4e2b-8a74-fb355a13233f"
   },
   "outputs": [
    {
     "name": "stdout",
     "output_type": "stream",
     "text": [
      "146182\n",
      "146182\n",
      "49157\n",
      "49157\n",
      "10000\n"
     ]
    }
   ],
   "source": [
    "print(len(X_train))\n",
    "print(len(y_train))\n",
    "print(len(X_test))\n",
    "print(len(y_test))\n",
    "print(len(word_to_index))"
   ]
  },
  {
   "cell_type": "code",
   "execution_count": 7,
   "metadata": {
    "id": "BQEQsjzAbagi"
   },
   "outputs": [],
   "source": [
    "index_to_word = {index:word for word, index in word_to_index.items()}"
   ]
  },
  {
   "cell_type": "code",
   "execution_count": 8,
   "metadata": {
    "id": "ql3eFxdOa_iO"
   },
   "outputs": [],
   "source": [
    "# 문장 1개를 활용할 딕셔너리와 함께 주면, 단어 인덱스 리스트 벡터로 변환해 주는 함수입니다.\n",
    "# 단, 모든 문장은 <BOS>로 시작하는 것으로 합니다.\n",
    "def get_encoded_sentence(sentence, word_to_index):\n",
    "    return [word_to_index['<BOS>']]+[word_to_index[word] if word in word_to_index else word_to_index['<UNK>'] for word in sentence.split()]\n",
    "\n",
    "# 여러 개의 문장 리스트를 한꺼번에 단어 인덱스 리스트 벡터로 encode해 주는 함수입니다.\n",
    "def get_encoded_sentences(sentences, word_to_index):\n",
    "    return [get_encoded_sentence(sentence, word_to_index) for sentence in sentences]\n",
    "\n",
    "# 숫자 벡터로 encode된 문장을 원래대로 decode하는 함수입니다.\n",
    "def get_decoded_sentence(encoded_sentence, index_to_word):\n",
    "    return ' '.join(index_to_word[index] if index in index_to_word else '<UNK>' for index in encoded_sentence[1:])  #[1:]를 통해 <BOS>를 제외\n",
    "\n",
    "# 여러 개의 숫자 벡터로 encode된 문장을 한꺼번에 원래대로 decode하는 함수입니다.\n",
    "def get_decoded_sentences(encoded_sentences, index_to_word):\n",
    "    return [get_decoded_sentence(encoded_sentence, index_to_word) for encoded_sentence in encoded_sentences]"
   ]
  },
  {
   "cell_type": "code",
   "execution_count": 9,
   "metadata": {
    "colab": {
     "base_uri": "https://localhost:8080/",
     "height": 35
    },
    "id": "Ze0CdpzGbHSz",
    "outputId": "75da5e19-9a64-4452-bb56-7f3657d9f6b9"
   },
   "outputs": [
    {
     "data": {
      "text/plain": [
       "'. .. 포스터 보고 초딩 영화 줄 . ... 오버 연기 조차 가볍 지 않 구나'"
      ]
     },
     "execution_count": 9,
     "metadata": {},
     "output_type": "execute_result"
    }
   ],
   "source": [
    "# 테스트\n",
    "\n",
    "get_decoded_sentence(X_train[1], index_to_word)"
   ]
  },
  {
   "cell_type": "markdown",
   "metadata": {
    "id": "klamkPrv42Ki"
   },
   "source": [
    "##  모델 구성을 위한 데이터 분석 및 가공"
   ]
  },
  {
   "cell_type": "code",
   "execution_count": 10,
   "metadata": {
    "colab": {
     "base_uri": "https://localhost:8080/",
     "height": 490
    },
    "id": "iN1CUa1h4x1C",
    "outputId": "f9a9ee4a-8f33-4772-9ebd-f2d241b392ef"
   },
   "outputs": [
    {
     "name": "stdout",
     "output_type": "stream",
     "text": [
      "평균: 15.98170773419436 표준편차: 12.82473766384545\n"
     ]
    },
    {
     "data": {
      "image/png": "[encoded data removed]",
      "text/plain": [
       "<Figure size 432x288 with 1 Axes>"
      ]
     },
     "metadata": {
      "needs_background": "light"
     },
     "output_type": "display_data"
    }
   ],
   "source": [
    "# 문장 내 토큰 길이 분포 보기\n",
    "import matplotlib.pyplot as plt\n",
    "import math\n",
    "\n",
    "token_lens = [len(sentence) for sentence in X_train]\n",
    "plt.hist(token_lens, bins = 16)\n",
    "plt.xlabel('tokens')\n",
    "plt.ylabel('count')\n",
    "plt.title('Length of Sentences')\n",
    "\n",
    "# draw a line at average\n",
    "plt.axvline(x=np.mean(token_lens), color='r', linestyle='dashed', linewidth=1)\n",
    "print(f\"평균: {np.mean(token_lens)} 표준편차: {np.std(token_lens)}\")\n",
    "\n",
    "\n",
    "plt.show()"
   ]
  },
  {
   "cell_type": "code",
   "execution_count": 11,
   "metadata": {
    "id": "-R9xQ2nt5KR7"
   },
   "outputs": [],
   "source": [
    "# 평균 길이: 16\n",
    "# 표준편차 : 13\n",
    "\n",
    "maxlen = 40 # 설정할 최대 길이 40\n",
    "\n",
    "# import keras.preprocessing.sequence.pad_sequences\n",
    "from keras.preprocessing.sequence import pad_sequences\n",
    "padded_X_train = pad_sequences(X_train, maxlen=maxlen, padding='pre')\n",
    "padded_X_test = pad_sequences(X_test, maxlen=maxlen, padding='pre')"
   ]
  },
  {
   "cell_type": "markdown",
   "metadata": {
    "id": "mmyQFOdxBNKV"
   },
   "source": [
    "## 모델 구성 및 validation set 구성"
   ]
  },
  {
   "cell_type": "code",
   "execution_count": 12,
   "metadata": {
    "colab": {
     "base_uri": "https://localhost:8080/"
    },
    "id": "riTz6oXr8UGM",
    "outputId": "4432f9ba-232f-4599-aad5-838678aabe24"
   },
   "outputs": [
    {
     "name": "stdout",
     "output_type": "stream",
     "text": [
      "final_X_train.shape: (116945, 40)\n",
      "final_y_train.shape: (116945,)\n",
      "final_X_val.shape: (29237, 40)\n",
      "final_y_val.shape: (29237,)\n"
     ]
    }
   ],
   "source": [
    "# Validation set 구성\n",
    "# 기존 훈련 세트를 쪼개서 훈련 세트와 검증 세트로 분할한다.\n",
    "split_ratio = int(padded_X_train.shape[0] * 0.8) # 8:2 비율로 분할한다.\n",
    "\n",
    "final_X_train, final_X_val = padded_X_train[:split_ratio], padded_X_train[split_ratio:]\n",
    "final_y_train, final_y_val = y_train[:split_ratio], y_train[split_ratio:]\n",
    "\n",
    "print(f\"final_X_train.shape: {final_X_train.shape}\")\n",
    "print(f\"final_y_train.shape: {final_y_train.shape}\")\n",
    "print(f\"final_X_val.shape: {final_X_val.shape}\")\n",
    "print(f\"final_y_val.shape: {final_y_val.shape}\")"
   ]
  },
  {
   "cell_type": "code",
   "execution_count": 13,
   "metadata": {
    "id": "r_lUFrPGJjDJ"
   },
   "outputs": [],
   "source": [
    "# 모델 구성\n",
    "from tensorflow.keras import layers\n",
    "from tensorflow.keras.models import Sequential\n",
    "from tensorflow.keras.callbacks import EarlyStopping, ModelCheckpoint\n",
    "\n",
    "# 무슨 모델이 좋을까?\n",
    "# Conv1D, LSTM, GRU이렇게 써보자.\n",
    "vocab_size = 10000  # 어휘 사전의 크기입니다(10개의 단어)\n",
    "word_vector_dim = 128   # 단어 하나를 표현하는 임베딩 벡터의 차원 수입니다."
   ]
  },
  {
   "cell_type": "code",
   "execution_count": 14,
   "metadata": {
    "id": "0DbL1AgaQdLz"
   },
   "outputs": [
    {
     "name": "stdout",
     "output_type": "stream",
     "text": [
      "WARNING:tensorflow:Layer lstm will not use cuDNN kernels since it doesn't meet the criteria. It will use a generic GPU kernel as fallback when running on GPU.\n",
      "WARNING:tensorflow:Layer gru will not use cuDNN kernels since it doesn't meet the criteria. It will use a generic GPU kernel as fallback when running on GPU.\n"
     ]
    }
   ],
   "source": [
    "conv_model = Sequential(\n",
    "    [\n",
    "        layers.Embedding(len(word_to_index), word_vector_dim),\n",
    "        layers.Conv1D(16, 3, activation=\"relu\"),\n",
    "        layers.GlobalMaxPooling1D(),\n",
    "        layers.Dense(1, activation=\"sigmoid\")\n",
    "    ]\n",
    ")\n",
    "\n",
    "lstm_model = Sequential(\n",
    "    [\n",
    "        layers.Embedding(len(word_to_index), word_vector_dim),\n",
    "        layers.LSTM(128, activation=\"relu\"),\n",
    "        layers.Dense(1, activation=\"sigmoid\")\n",
    "    ]\n",
    ")\n",
    "\n",
    "gru_model = Sequential(\n",
    "    [\n",
    "        layers.Embedding(len(word_to_index), word_vector_dim),\n",
    "        layers.GRU(128, activation=\"relu\"),\n",
    "        layers.Dense(1, activation=\"sigmoid\")\n",
    "    ]\n",
    ")"
   ]
  },
  {
   "cell_type": "code",
   "execution_count": 223,
   "metadata": {
    "id": "JX3x-7DYM5zO"
   },
   "outputs": [],
   "source": [
    "conv_model.compile(\n",
    "    loss='binary_crossentropy',\n",
    "    optimizer='adam',\n",
    "    metrics=['accuracy']\n",
    ")\n",
    "lstm_model.compile(\n",
    "    loss='binary_crossentropy',\n",
    "    optimizer='adam',\n",
    "    metrics=['accuracy']\n",
    ")\n",
    "gru_model.compile(\n",
    "    loss='binary_crossentropy',\n",
    "    optimizer='adam',\n",
    "    metrics=['accuracy']\n",
    ")"
   ]
  },
  {
   "cell_type": "markdown",
   "metadata": {
    "id": "ROoK4VxFNCk0"
   },
   "source": [
    "## 모델 훈련 개시"
   ]
  },
  {
   "cell_type": "code",
   "execution_count": 224,
   "metadata": {
    "colab": {
     "base_uri": "https://localhost:8080/",
     "height": 553
    },
    "id": "F94JTI57ND63",
    "outputId": "b244869e-f53a-429e-cf89-e053648b5245",
    "scrolled": true
   },
   "outputs": [
    {
     "name": "stdout",
     "output_type": "stream",
     "text": [
      "Epoch 1/5\n",
      "3655/3655 [==============================] - 14s 4ms/step - loss: 0.2673 - accuracy: 0.8892 - val_loss: 0.3550 - val_accuracy: 0.8563\n",
      "Epoch 2/5\n",
      "3655/3655 [==============================] - 13s 4ms/step - loss: 0.1708 - accuracy: 0.9343 - val_loss: 0.3992 - val_accuracy: 0.8502\n",
      "Epoch 3/5\n",
      "3655/3655 [==============================] - 13s 4ms/step - loss: 0.1249 - accuracy: 0.9550 - val_loss: 0.4670 - val_accuracy: 0.8453\n",
      "Epoch 4/5\n",
      "3655/3655 [==============================] - 14s 4ms/step - loss: 0.0961 - accuracy: 0.9660 - val_loss: 0.5278 - val_accuracy: 0.8387\n",
      "Epoch 5/5\n",
      "3655/3655 [==============================] - 14s 4ms/step - loss: 0.0749 - accuracy: 0.9746 - val_loss: 0.6042 - val_accuracy: 0.8373\n"
     ]
    }
   ],
   "source": [
    "conv_history = conv_model.fit(\n",
    "    final_X_train,\n",
    "    final_y_train,\n",
    "    epochs=5,\n",
    "    batch_size=32,\n",
    "    validation_data=((final_X_val), (final_y_val))  # Add validation set here\n",
    ")\n",
    "\n",
    "lstm_history = lstm_model.fit(\n",
    "    final_X_train,\n",
    "    final_y_train,\n",
    "    epochs=5,\n",
    "    batch_size=32,\n",
    "    validation_data=((final_X_val), (final_y_val))  # Add validation set here\n",
    ")\n",
    "\n",
    "gru_history = gru_model.fit(\n",
    "    final_X_train,\n",
    "    final_y_train,\n",
    "    epochs=5,\n",
    "    batch_size=32,\n",
    "    validation_data=((final_X_val), (final_y_val))  # Add validation set here\n",
    ")"
   ]
  },
  {
   "cell_type": "markdown",
   "metadata": {
    "id": "IrkuA3SukUIR"
   },
   "source": [
    "## Loss, Accuracy 그래프 시각화"
   ]
  },
  {
   "cell_type": "code",
   "execution_count": 130,
   "metadata": {
    "colab": {
     "base_uri": "https://localhost:8080/",
     "height": 410
    },
    "id": "iKUln89tkSuS",
    "outputId": "a07d77fe-6a4d-41d5-e5b0-a68e375e9a66"
   },
   "outputs": [
    {
     "data": {
      "image/png": "[encoded data removed]",
      "text/plain": [
       "<Figure size 864x288 with 1 Axes>"
      ]
     },
     "metadata": {
      "needs_background": "light"
     },
     "output_type": "display_data"
    }
   ],
   "source": [
    "# Visualize loss\n",
    "import matplotlib.pyplot as plt\n",
    "\n",
    "plt.figure(figsize=(12, 4))\n",
    "plt.plot(conv_history.history['loss'], label='Conv1D Loss')\n",
    "plt.plot(lstm_history.history['loss'], label='LSTM Loss')\n",
    "plt.plot(gru_history.history['loss'], label='GRU Loss')\n",
    "plt.plot(conv_history.history['val_loss'], label='Conv1D Val Loss')\n",
    "plt.plot(lstm_history.history['val_loss'], label='LSTM Val Loss')\n",
    "plt.plot(gru_history.history['val_loss'], label='GRU Val Loss')\n",
    "plt.title('Loss')\n",
    "plt.xlabel('Epoch')\n",
    "plt.ylabel('Loss')\n",
    "plt.legend()\n",
    "plt.show()\n"
   ]
  },
  {
   "cell_type": "code",
   "execution_count": 131,
   "metadata": {
    "colab": {
     "base_uri": "https://localhost:8080/",
     "height": 428
    },
    "id": "mgHZEFqgn_oB",
    "outputId": "0d40605e-d83e-4ebe-e9f6-9b6168c90edf"
   },
   "outputs": [
    {
     "data": {
      "image/png": "[encoded data removed]",
      "text/plain": [
       "<Figure size 864x288 with 1 Axes>"
      ]
     },
     "metadata": {
      "needs_background": "light"
     },
     "output_type": "display_data"
    }
   ],
   "source": [
    "#visualize accuracy\n",
    "plt.figure(figsize=(12, 4))\n",
    "plt.plot(conv_history.history['accuracy'], label='Conv1D Accuracy')\n",
    "plt.plot(lstm_history.history['accuracy'], label='LSTM Accuracy')\n",
    "plt.plot(gru_history.history['accuracy'], label='GRU Accuracy')\n",
    "plt.plot(conv_history.history['val_accuracy'], label='Conv1D Val Accuracy')\n",
    "plt.plot(lstm_history.history['val_accuracy'], label='LSTM Val Accuracy')\n",
    "plt.plot(gru_history.history['val_accuracy'], label='GRU Val Accuracy')\n",
    "plt.title('Accuracy')\n",
    "plt.xlabel('Epoch')\n",
    "plt.ylabel('Accuracy')\n",
    "plt.legend()\n",
    "plt.show()"
   ]
  },
  {
   "cell_type": "code",
   "execution_count": 256,
   "metadata": {
    "id": "NPp6X7u6N8uS",
    "scrolled": true
   },
   "outputs": [
    {
     "name": "stdout",
     "output_type": "stream",
     "text": [
      "1537/1537 [==============================] - 3s 2ms/step - loss: 0.6101 - accuracy: 0.8338\n",
      "conv1D 모델의 Accuracy: 0.8337571620941162\n",
      "1537/1537 [==============================] - 11s 7ms/step - loss: 0.3731 - accuracy: 0.8567\n",
      "LSTM 모델의 Accuracy: 0.8566836714744568\n",
      "1537/1537 [==============================] - 12s 8ms/step - loss: 0.3847 - accuracy: 0.8587\n",
      "GRU Accuracy: 0.8586976528167725\n"
     ]
    }
   ],
   "source": [
    "# 모델의 최종 성능 확인하기\n",
    "# 테스트 세트를 사용함\n",
    "print(f\"conv1D 모델의 Accuracy: {conv_model.evaluate(padded_X_test, y_test)[1]}\")\n",
    "print(f\"LSTM 모델의 Accuracy: {lstm_model.evaluate(padded_X_test, y_test)[1]}\")\n",
    "print(f\"GRU Accuracy: {gru_model.evaluate(padded_X_test, y_test)[1]}\")"
   ]
  },
  {
   "cell_type": "markdown",
   "metadata": {},
   "source": [
    "## 학습된 embedding layer 분석"
   ]
  },
  {
   "cell_type": "code",
   "execution_count": 189,
   "metadata": {},
   "outputs": [],
   "source": [
    "model = conv_model"
   ]
  },
  {
   "cell_type": "code",
   "execution_count": 190,
   "metadata": {},
   "outputs": [
    {
     "name": "stdout",
     "output_type": "stream",
     "text": [
      "(10000, 128)\n"
     ]
    }
   ],
   "source": [
    "embedding_layer = model.layers[0]\n",
    "weights = embedding_layer.get_weights()[0]\n",
    "print(weights.shape)    # shape: (vocab_size, embedding_dim)"
   ]
  },
  {
   "cell_type": "code",
   "execution_count": 191,
   "metadata": {},
   "outputs": [],
   "source": [
    "# 학습한 Embedding 파라미터를 파일에 써서 저장합니다. \n",
    "word2vec_file_path = os.getenv('HOME')+'/my-embedding.txt'\n",
    "f = open(word2vec_file_path, 'w')\n",
    "f.write('{} {}\\n'.format(vocab_size-4, 128))  # 몇개의 벡터를 얼마 사이즈로 기재할지 타이틀을 씁니다.\n",
    "\n",
    "# 단어 개수(에서 특수문자 4개는 제외하고)만큼의 워드 벡터를 파일에 기록합니다. \n",
    "vectors = model.get_weights()[0]\n",
    "for i in range(4, vocab_size):\n",
    "    f.write('{} {}\\n'.format(index_to_word[i], ' '.join(map(str, list(vectors[i, :])))))\n",
    "f.close()"
   ]
  },
  {
   "cell_type": "code",
   "execution_count": 245,
   "metadata": {
    "scrolled": true
   },
   "outputs": [
    {
     "data": {
      "text/plain": [
       "array([-0.15103143,  0.19986501, -0.06942774,  0.00749561, -0.04567439,\n",
       "        0.16409817,  0.19846734,  0.0550456 ,  0.09106716,  0.00217222,\n",
       "       -0.0078209 , -0.113345  , -0.01981571, -0.00288536, -0.03656545,\n",
       "       -0.00370429,  0.05623198, -0.07319062, -0.15948072, -0.11161423,\n",
       "        0.10248981, -0.00257162, -0.06474182,  0.08995298,  0.10317146,\n",
       "        0.06980935,  0.24956441, -0.00804462, -0.06042767,  0.08354449,\n",
       "       -0.15514688, -0.07780403, -0.0010478 ,  0.24719484,  0.09927498,\n",
       "        0.06731019, -0.11344356,  0.08576212,  0.23677954, -0.03286676,\n",
       "       -0.191049  , -0.07764528,  0.0083264 , -0.33160648,  0.1428481 ,\n",
       "       -0.02320308, -0.01426934,  0.01804603,  0.05158601,  0.05484661,\n",
       "       -0.11720053,  0.01289381, -0.07336015, -0.13001756, -0.10596491,\n",
       "       -0.12592119, -0.01335002, -0.05207836, -0.00323619,  0.11833824,\n",
       "       -0.08908487,  0.10439941,  0.1487775 ,  0.09273888, -0.17132637,\n",
       "       -0.04818881, -0.179487  ,  0.02751178, -0.17434588,  0.20112392,\n",
       "       -0.03445973, -0.10479847,  0.01631962,  0.06460855, -0.06180978,\n",
       "        0.15530312, -0.00438683, -0.07690421, -0.07458   ,  0.05145257,\n",
       "        0.1206605 , -0.00183047,  0.05008063, -0.13895872,  0.03396559,\n",
       "       -0.02499801,  0.06692376, -0.315472  ,  0.14961897, -0.06077342,\n",
       "        0.09718374, -0.03480195, -0.1051736 , -0.0613232 ,  0.10737338,\n",
       "        0.23368986, -0.17225653, -0.28541204, -0.02804388,  0.04268997,\n",
       "        0.11714926, -0.18053854, -0.0706841 , -0.01072317,  0.00422991,\n",
       "       -0.13742413, -0.14134356,  0.23142204, -0.2138558 ,  0.27536944,\n",
       "        0.22961698,  0.00158089, -0.16695228,  0.05195724,  0.17372619,\n",
       "        0.0017254 , -0.01307146, -0.02117851,  0.1586591 ,  0.05779227,\n",
       "        0.0624459 ,  0.01960986, -0.12576425, -0.03331515, -0.0026399 ,\n",
       "       -0.02355269, -0.0281741 , -0.03761114], dtype=float32)"
      ]
     },
     "execution_count": 245,
     "metadata": {},
     "output_type": "execute_result"
    }
   ],
   "source": [
    "from gensim.models.keyedvectors import Word2VecKeyedVectors\n",
    "\n",
    "my_word_vectors = Word2VecKeyedVectors.load_word2vec_format(word2vec_file_path, binary=False)\n",
    "vector = my_word_vectors['재미']\n",
    "vector"
   ]
  },
  {
   "cell_type": "code",
   "execution_count": 193,
   "metadata": {},
   "outputs": [],
   "source": [
    "# 임베딩 속 단어를 살펴보는 함수를 만들기\n",
    "def lookup_similar_words(word_vectors, word):\n",
    "    try:\n",
    "        result = [word[0] for word in word_vectors.similar_by_word(word)]\n",
    "    except:\n",
    "        result = f\"{word}: 해당 단어는 없습니다.\"\n",
    "        print(result)\n",
    "        return;\n",
    "    print(f\"'{word}'의 유사어:\", end=\" \")\n",
    "    print(result)"
   ]
  },
  {
   "cell_type": "code",
   "execution_count": 246,
   "metadata": {
    "scrolled": true
   },
   "outputs": [
    {
     "name": "stdout",
     "output_type": "stream",
     "text": [
      "\n",
      "### 자체학습 임베딩의 긍정적인 단어들\n",
      "'재미'의 유사어: ['엠마', '젬', '브금', '희열', '내려놓', '철학', '숨죽이', '쪙', '폐인', '행운']\n",
      "'강추'의 유사어: ['^.^', '>.<', '><', '두려움', '♡', '바르뎀', '겸손', '슬퍼요', '웰메이드', '빛난다']\n",
      "'추천'의 유사어: ['쏠쏠', '귀여워', '과소평가', '오늘', '정점', '쩐', '♥', '아름다워요', '메마른', '굳']\n",
      "'감동'의 유사어: ['뜨겁', '인연', '끝장', '슬픔', '최수종', '마음', '어우러져', 'It', '젬', '숨죽이']\n",
      "\n",
      "### 자체학습 임베딩의 부정적인 단어들\n",
      "'비추'의 유사어: ['.-_-;;', '충동', '든가', '개콘', '.,,', '지겨워서', '오그라들', '바꿔서', '모야', '놔서']\n",
      "'짜증'의 유사어: ['자빠졌', '모야', '최시원', '동남아', '산만', '어이', '읍', '차라리', '자질', '영점']\n",
      "'쓸데없'의 유사어: ['이용', '어장', '납치', '인과', '도로', '우습', '따로', '괴', '무미건조', '도저히']\n",
      "'최악'의 유사어: ['꺼버렸', '먹칠', '짝퉁', '화났', '꺼버린', '낚시질', '성괴', '유치원생', '하품', '쓰레']\n",
      "\n",
      "### 자체학습 임베딩의 중립적인 단어들\n",
      "'별점'의 유사어: ['좌파', '카피', '???', '쌈', '단다', '호모', '떨어지', '제로', '적합', '듣보잡']\n",
      "'각본'의 유사어: ['금포', '패기', '상투', '돌렸', '욕했', '뻔했', '건너', '투성이', '눈길', '바닥']\n",
      "'연기'의 유사어: ['가르쳐', '대중', '무민', '김소연', '극장판', '돌아갈', '스런', '조크', '직접', '촬영']\n",
      "'배우'의 유사어: ['소재', '무려', '방', '대표', '씨', '끼리', 'B', '강도', '다는', '아무것']\n"
     ]
    }
   ],
   "source": [
    "# 자체학습 임베딩의 단어 살펴보기\n",
    "print(\"\\n### 자체학습 임베딩의 긍정적인 단어들\")\n",
    "lookup_similar_words(my_word_vectors, \"재미\")\n",
    "lookup_similar_words(my_word_vectors,\"강추\")\n",
    "lookup_similar_words(my_word_vectors,\"추천\")\n",
    "lookup_similar_words(my_word_vectors,\"감동\")\n",
    "\n",
    "print(\"\\n### 자체학습 임베딩의 부정적인 단어들\")\n",
    "lookup_similar_words(my_word_vectors,\"비추\")\n",
    "lookup_similar_words(my_word_vectors,\"짜증\")\n",
    "lookup_similar_words(my_word_vectors,\"쓸데없\")\n",
    "lookup_similar_words(my_word_vectors,\"최악\")\n",
    "\n",
    "print(\"\\n### 자체학습 임베딩의 중립적인 단어들\")\n",
    "lookup_similar_words(my_word_vectors,\"별점\")\n",
    "lookup_similar_words(my_word_vectors,\"각본\")\n",
    "lookup_similar_words(my_word_vectors,\"연기\")\n",
    "lookup_similar_words(my_word_vectors,\"배우\")"
   ]
  },
  {
   "cell_type": "markdown",
   "metadata": {},
   "source": [
    "## 한국어 word2vec 임베딩 활용하여 성능 개선"
   ]
  },
  {
   "cell_type": "code",
   "execution_count": 195,
   "metadata": {},
   "outputs": [],
   "source": [
    "from gensim.models.keyedvectors import Word2VecKeyedVectors, KeyedVectors\n",
    "word2vec_ko_path = os.getenv('HOME')+'/data/word2vec_ko.model'\n",
    "pretrained_word_vectors = KeyedVectors.load(word2vec_ko_path)\n"
   ]
  },
  {
   "cell_type": "code",
   "execution_count": 199,
   "metadata": {
    "scrolled": true
   },
   "outputs": [
    {
     "data": {
      "text/plain": [
       "100"
      ]
     },
     "execution_count": 199,
     "metadata": {},
     "output_type": "execute_result"
    }
   ],
   "source": [
    "pretrained_word_vectors.wv.vector_size"
   ]
  },
  {
   "cell_type": "code",
   "execution_count": 247,
   "metadata": {},
   "outputs": [
    {
     "name": "stdout",
     "output_type": "stream",
     "text": [
      "\n",
      "### 사전학습 임베딩의 긍정적인 단어들\n",
      "'재미'의 유사어: ['묘미', '취미', '흥미', '유머', '보람', '즐거움', '개그', '이야기', '연애', '열의']\n",
      "강추: 해당 단어는 없습니다.\n",
      "'추천'의 유사어: ['천거', '초빙', '초청', '위촉', '포상', '선출', '소개', '임명', '등용', '추대']\n",
      "'감동'의 유사어: ['감격', '감탄', '매혹', '매력', '감명', '웃음', '열정', '칭찬', '실망', '슬픔']\n",
      "\n",
      "### 사전학습 임베딩의 부정적인 단어들\n",
      "'비추'의 유사어: ['깃들', '맞추', '꿰뚫', '빗대', '물들', '되짚', '파고들', '녹아들', '미루', '스며들']\n",
      "'짜증'의 유사어: ['웃기', '슬프', '들통', '싫증', '아무렇', '정말', '거짓말', '더럽', '뭔가', '부끄러움']\n",
      "'쓸데없'의 유사어: ['그저', '헛된', '재밌', '애써', '터무니없', '아무리', '절대로', '달려드', '일부러', '멋대로']\n",
      "'최악'의 유사어: ['전대미문', '초유', '최고', '희대', '뜻밖', '엄청난', '최저', '역대', '최저치', '유례없']\n",
      "\n",
      "### 사전학습 임베딩의 중립적인 단어들\n",
      "'별점'의 유사어: ['만점', '평점', 'chan', 'COOL', '벌점', '메타크리틱', 'mp', 'watchOS', '스코어', '오답']\n",
      "'각본'의 유사어: ['대본', '극본', '연출', '놀런', '주연', '시나리오', '내레이션', '배역', '원안', '히치콕']\n",
      "'연기'의 유사어: ['연출', '열연', '캐스팅', '촬영', '데이트', '섭외', '각색', '분장', '립싱크', '출연']\n",
      "'배우'의 유사어: ['가수', '코미디언', '만화가', '영화배우', '여배우', '연출가', '극작가', '삽화가', '안무가', '무용가']\n"
     ]
    }
   ],
   "source": [
    "# 사전학습 임베딩의 단어 살펴보기\n",
    "print(\"\\n### 사전학습 임베딩의 긍정적인 단어들\")\n",
    "lookup_similar_words(pretrained_word_vectors.wv, \"재미\")\n",
    "lookup_similar_words(pretrained_word_vectors.wv,\"강추\")\n",
    "lookup_similar_words(pretrained_word_vectors.wv,\"추천\")\n",
    "lookup_similar_words(pretrained_word_vectors.wv,\"감동\")\n",
    "\n",
    "print(\"\\n### 사전학습 임베딩의 부정적인 단어들\")\n",
    "lookup_similar_words(pretrained_word_vectors.wv,\"비추\")\n",
    "lookup_similar_words(pretrained_word_vectors.wv,\"짜증\")\n",
    "lookup_similar_words(pretrained_word_vectors.wv,\"쓸데없\")\n",
    "lookup_similar_words(pretrained_word_vectors.wv,\"최악\")\n",
    "\n",
    "print(\"\\n### 사전학습 임베딩의 중립적인 단어들\")\n",
    "lookup_similar_words(pretrained_word_vectors.wv,\"별점\")\n",
    "lookup_similar_words(pretrained_word_vectors.wv,\"각본\")\n",
    "lookup_similar_words(pretrained_word_vectors.wv,\"연기\")\n",
    "lookup_similar_words(pretrained_word_vectors.wv,\"배우\")"
   ]
  },
  {
   "cell_type": "code",
   "execution_count": 202,
   "metadata": {
    "scrolled": false
   },
   "outputs": [],
   "source": [
    "vocab_size = 10000    # 어휘 사전의 크기입니다(10,000개의 단어)\n",
    "word_vector_dim = 128  # 워드 벡터의 차원수\n",
    "embedding_matrix = np.random.rand(vocab_size, word_vector_dim)\n",
    "\n",
    "# embedding_matrix에 Word2Vec 워드 벡터를 단어 하나씩마다 차례차례 카피한다.\n",
    "for i in range(4,vocab_size):\n",
    "    if index_to_word[i] in my_word_vectors:\n",
    "        embedding_matrix[i] = my_word_vectors[index_to_word[i]]"
   ]
  },
  {
   "cell_type": "code",
   "execution_count": 212,
   "metadata": {},
   "outputs": [
    {
     "data": {
      "text/plain": [
       "(128,)"
      ]
     },
     "execution_count": 212,
     "metadata": {},
     "output_type": "execute_result"
    }
   ],
   "source": [
    "embedding_matrix[0].shape"
   ]
  },
  {
   "cell_type": "code",
   "execution_count": 257,
   "metadata": {},
   "outputs": [
    {
     "name": "stdout",
     "output_type": "stream",
     "text": [
      "WARNING:tensorflow:Layer lstm_1 will not use cuDNN kernels since it doesn't meet the criteria. It will use a generic GPU kernel as fallback when running on GPU.\n",
      "Model: \"sequential_10\"\n",
      "_________________________________________________________________\n",
      "Layer (type)                 Output Shape              Param #   \n",
      "=================================================================\n",
      "embedding_10 (Embedding)     (None, None, 128)         1280000   \n",
      "_________________________________________________________________\n",
      "lstm_1 (LSTM)                (None, 128)               131584    \n",
      "_________________________________________________________________\n",
      "dense_8 (Dense)              (None, 1)                 129       \n",
      "=================================================================\n",
      "Total params: 1,411,713\n",
      "Trainable params: 1,411,713\n",
      "Non-trainable params: 0\n",
      "_________________________________________________________________\n"
     ]
    }
   ],
   "source": [
    "from tensorflow.keras.initializers import Constant\n",
    "import tensorflow as tf\n",
    "\n",
    "vocab_size = 10000    # 어휘 사전의 크기입니다(10,000개의 단어)\n",
    "word_vector_dim = 128  # 워드 벡터의 차원 수 \n",
    "\n",
    "# 모델 구성\n",
    "conv_model_with_pt = Sequential(\n",
    "    [\n",
    "        layers.Embedding(len(word_to_index), word_vector_dim, embeddings_initializer=Constant(embedding_matrix), trainable=True),\n",
    "        layers.LSTM(128, activation=\"relu\"),\n",
    "        layers.Dense(1, activation=\"sigmoid\")\n",
    "    ]\n",
    ")\n",
    "\n",
    "conv_model_with_pt.summary()"
   ]
  },
  {
   "cell_type": "code",
   "execution_count": 258,
   "metadata": {},
   "outputs": [
    {
     "name": "stdout",
     "output_type": "stream",
     "text": [
      "Epoch 1/5\n",
      "3655/3655 [==============================] - 260s 71ms/step - loss: 0.3652 - accuracy: 0.8540 - val_loss: 0.3211 - val_accuracy: 0.8624\n",
      "Epoch 2/5\n",
      "3655/3655 [==============================] - 252s 69ms/step - loss: 0.2590 - accuracy: 0.8932 - val_loss: 0.3210 - val_accuracy: 0.8660\n",
      "Epoch 3/5\n",
      "3655/3655 [==============================] - 252s 69ms/step - loss: 0.2149 - accuracy: 0.9134 - val_loss: 0.3256 - val_accuracy: 0.8643\n",
      "Epoch 4/5\n",
      "3655/3655 [==============================] - 251s 69ms/step - loss: 0.1741 - accuracy: 0.9318 - val_loss: 0.3595 - val_accuracy: 0.8599\n",
      "Epoch 5/5\n",
      "3655/3655 [==============================] - 251s 69ms/step - loss: 0.1400 - accuracy: 0.9463 - val_loss: 0.4343 - val_accuracy: 0.8563\n"
     ]
    }
   ],
   "source": [
    "# 학습의 진행\n",
    "\n",
    "conv_model_with_pt.compile(optimizer='adam',\n",
    "              loss='binary_crossentropy',\n",
    "              metrics=['accuracy'])\n",
    "              \n",
    "epochs=5  # 몇 epoch를 훈련하면 좋을지 결과를 보면서 바꾸어 봅시다. \n",
    "\n",
    "history = conv_model_with_pt.fit(final_X_train,\n",
    "                    final_y_train,\n",
    "                    epochs=epochs,\n",
    "                    batch_size=32,\n",
    "                    validation_data=(final_X_val, final_y_val),\n",
    "                    verbose=1)"
   ]
  },
  {
   "cell_type": "code",
   "execution_count": 259,
   "metadata": {},
   "outputs": [
    {
     "data": {
      "image/png": "[encoded data removed]",
      "text/plain": [
       "<Figure size 864x288 with 1 Axes>"
      ]
     },
     "metadata": {
      "needs_background": "light"
     },
     "output_type": "display_data"
    }
   ],
   "source": [
    "# Visualize loss\n",
    "\n",
    "plt.figure(figsize=(12, 4))\n",
    "plt.plot(history.history['loss'], label='Conv1D Loss')\n",
    "plt.plot(history.history['val_loss'], label='Conv1D Val Loss')\n",
    "plt.title('Loss')\n",
    "plt.xlabel('Epoch')\n",
    "plt.ylabel('Loss')\n",
    "plt.legend()\n",
    "plt.show()"
   ]
  },
  {
   "cell_type": "code",
   "execution_count": 260,
   "metadata": {},
   "outputs": [
    {
     "data": {
      "image/png": "[encoded data removed]",
      "text/plain": [
       "<Figure size 864x288 with 1 Axes>"
      ]
     },
     "metadata": {
      "needs_background": "light"
     },
     "output_type": "display_data"
    }
   ],
   "source": [
    "# Visualize accuracy\n",
    "\n",
    "plt.figure(figsize=(12, 4))\n",
    "plt.plot(history.history['accuracy'], label='Conv1D Accuracy')\n",
    "plt.plot(history.history['val_accuracy'], label='Conv1D Val Accuracy')\n",
    "plt.title('Accuracy')\n",
    "plt.xlabel('Epoch')\n",
    "plt.ylabel('Accuracy')\n",
    "plt.legend()\n",
    "plt.show()"
   ]
  },
  {
   "cell_type": "code",
   "execution_count": 264,
   "metadata": {},
   "outputs": [
    {
     "name": "stdout",
     "output_type": "stream",
     "text": [
      "1537/1537 [==============================] - 11s 7ms/step - loss: 0.4471 - accuracy: 0.8535\n",
      "0.8534694910049438\n"
     ]
    }
   ],
   "source": [
    "# 테스트셋을 통한 모델 평가\n",
    "results = conv_model_with_pt.evaluate(padded_X_test, y_test)\n",
    "\n",
    "print(results[1])"
   ]
  },
  {
   "cell_type": "markdown",
   "metadata": {},
   "source": [
    "### 결과 살펴보기\n",
    "자체학습한 임베딩을 사용한 LSTM 모델과 사전학습된 임베딩을 사용한 LSTM 모델을 비교해보았다. 임베딩을 제외한 두 모델의 다른 조건들은 모두 동일하다.\n",
    " - 자체학습한 임베딩의 LSTM 모델 accuracy: 0.8567\n",
    " - 사전학습된 임베딩의 LSTM 모델 accuracy: 0.8535\n",
    " \n",
    "현재 accracy는 두 모델에서 크게 차이나지는 않는다. 이제 한 번 모델의 구조를 천천히 바꾸어보며 성능을 올려보자.\n"
   ]
  },
  {
   "cell_type": "code",
   "execution_count": 284,
   "metadata": {
    "scrolled": false
   },
   "outputs": [
    {
     "name": "stdout",
     "output_type": "stream",
     "text": [
      "WARNING:tensorflow:Layer lstm_8 will not use cuDNN kernels since it doesn't meet the criteria. It will use a generic GPU kernel as fallback when running on GPU.\n",
      "Epoch 1/3\n",
      "457/457 [==============================] - 36s 76ms/step - loss: 0.4736 - accuracy: 0.8343 - val_loss: 0.3568 - val_accuracy: 0.8489\n",
      "Epoch 2/3\n",
      "457/457 [==============================] - 34s 75ms/step - loss: 0.3356 - accuracy: 0.8677 - val_loss: 0.3359 - val_accuracy: 0.8568\n",
      "Epoch 3/3\n",
      "457/457 [==============================] - 35s 76ms/step - loss: 0.2863 - accuracy: 0.8818 - val_loss: 0.3265 - val_accuracy: 0.8619\n"
     ]
    }
   ],
   "source": [
    "final_model = Sequential(\n",
    "    [\n",
    "        layers.Embedding(len(word_to_index), word_vector_dim, embeddings_initializer=Constant(embedding_matrix), trainable=True),\n",
    "        layers.LSTM(128, activation=\"relu\", dropout=0.2),\n",
    "        layers.Dense(1, activation=\"sigmoid\")\n",
    "    ]\n",
    ")\n",
    "\n",
    "final_model.compile(optimizer='adam',\n",
    "              loss='binary_crossentropy',\n",
    "              metrics=['accuracy'])\n",
    "              \n",
    "epochs=3  # 몇 epoch를 훈련하면 좋을지 결과를 보면서 바꾸어 봅시다. \n",
    "\n",
    "history = final_model.fit(final_X_train,\n",
    "                    final_y_train,\n",
    "                    epochs=epochs,\n",
    "                    batch_size=256,\n",
    "                    validation_data=(final_X_val, final_y_val),\n",
    "                    verbose=1)"
   ]
  },
  {
   "cell_type": "code",
   "execution_count": 285,
   "metadata": {},
   "outputs": [
    {
     "name": "stdout",
     "output_type": "stream",
     "text": [
      "1537/1537 [==============================] - 10s 7ms/step - loss: 0.3342 - accuracy: 0.8585\n",
      "0.8585145473480225\n"
     ]
    }
   ],
   "source": [
    "results = final_model.evaluate(padded_X_test, y_test)\n",
    "\n",
    "print(results[1])"
   ]
  },
  {
   "cell_type": "markdown",
   "metadata": {},
   "source": [
    "배치 사이즈와 에포크를 변경하고 드롭아웃을 적용하여 미세하게 성능을 올릴 수 있었다.\n",
    "\n",
    "하지만, 사전학습된 임베딩으로 극적인 성능 향상은 하지 못한 것이 아쉽다. 결과적으로 임베딩만으로는 모델 성능을 향상시키는 것은 한계가 있는 것 같다고 느낀다. 학습 데이터와 모델의 구조 등의 다른 영향들도 같이 고려해야 성능을 올릴 수 있다고 느낀다."
   ]
  }
 ],
 "metadata": {
  "colab": {
   "provenance": []
  },
  "kernelspec": {
   "display_name": "Python 3 (ipykernel)",
   "language": "python",
   "name": "python3"
  },
  "language_info": {
   "codemirror_mode": {
    "name": "ipython",
    "version": 3
   },
   "file_extension": ".py",
   "mimetype": "text/x-python",
   "name": "python",
   "nbconvert_exporter": "python",
   "pygments_lexer": "ipython3",
   "version": "3.9.7"
  }
 },
 "nbformat": 4,
 "nbformat_minor": 1
}
