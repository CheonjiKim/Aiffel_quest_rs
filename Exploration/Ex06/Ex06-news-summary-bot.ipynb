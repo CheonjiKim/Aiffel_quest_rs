{
 "cells": [
  {
   "cell_type": "markdown",
   "id": "60ce56af",
   "metadata": {},
   "source": [
    "# Ex06 뉴스 요약봇 만들기"
   ]
  },
  {
   "cell_type": "code",
   "execution_count": 1,
   "id": "721bba02",
   "metadata": {},
   "outputs": [
    {
     "name": "stdout",
     "output_type": "stream",
     "text": [
      "3.6.5\n",
      "2.6.0\n",
      "1.3.3\n",
      "1.2.0\n"
     ]
    },
    {
     "name": "stderr",
     "output_type": "stream",
     "text": [
      "[nltk_data] Downloading package stopwords to /aiffel/nltk_data...\n",
      "[nltk_data]   Package stopwords is already up-to-date!\n"
     ]
    }
   ],
   "source": [
    "from importlib.metadata import version\n",
    "import nltk\n",
    "import tensorflow\n",
    "import summa\n",
    "import pandas as pd\n",
    "import numpy as np\n",
    "import matplotlib.pyplot as plt\n",
    "import re\n",
    "nltk.download('stopwords')\n",
    "from nltk.corpus import stopwords\n",
    "from tensorflow.keras.preprocessing.text import Tokenizer \n",
    "from tensorflow.keras.preprocessing.sequence import pad_sequences\n",
    "import urllib.request\n",
    "\n",
    "print(nltk.__version__)\n",
    "print(tensorflow.__version__)\n",
    "print(pd.__version__)\n",
    "print(version('summa'))"
   ]
  },
  {
   "cell_type": "code",
   "execution_count": 2,
   "id": "80c8b556",
   "metadata": {},
   "outputs": [],
   "source": [
    "import urllib.request\n",
    "urllib.request.urlretrieve(\"https://raw.githubusercontent.com/sunnysai12345/News_Summary/master/news_summary_more.csv\", filename=\"news_summary_more.csv\")\n",
    "data = pd.read_csv('news_summary_more.csv', encoding='iso-8859-1')"
   ]
  },
  {
   "cell_type": "code",
   "execution_count": 3,
   "id": "3ac72c9c",
   "metadata": {},
   "outputs": [
    {
     "data": {
      "text/plain": [
       "{'headlines': {91957: 'Reliance reports 45% rise in revenue for March quarter'},\n",
       " 'text': {91957: 'Mukesh Ambani-led Reliance Industries posted a 45.2% rise in consolidated revenue to Ã¢Â\\x82Â¹92,889 crore for the March quarter. The company also reported a 12.3% year-on-year increase in net profit to Ã¢Â\\x82Â¹8,046 crore. The boost came after posting higher-than-expected gross refining margin. Notably, telco Reliance Jio posted a net loss of Ã¢Â\\x82Â¹22.5 crore for the six months ended March 31.'}}"
      ]
     },
     "execution_count": 3,
     "metadata": {},
     "output_type": "execute_result"
    }
   ],
   "source": [
    "data.sample(1).to_dict()"
   ]
  },
  {
   "cell_type": "code",
   "execution_count": 4,
   "id": "935131b8",
   "metadata": {},
   "outputs": [
    {
     "data": {
      "text/plain": [
       "{'headlines': {0: 'upGrad learner switches to career in ML & Al with 90% salary hike'},\n",
       " 'text': {0: \"Saurav Kant, an alumnus of upGrad and IIIT-B's PG Program in Machine learning and Artificial Intelligence, was a Sr Systems Engineer at Infosys with almost 5 years of work experience. The program and upGrad's 360-degree career support helped him transition to a Data Scientist at Tech Mahindra with 90% salary hike. upGrad's Online Power Learning has powered 3 lakh+ careers.\"}}"
      ]
     },
     "execution_count": 4,
     "metadata": {},
     "output_type": "execute_result"
    }
   ],
   "source": [
    "data[:1].to_dict()"
   ]
  },
  {
   "cell_type": "code",
   "execution_count": 6,
   "id": "aa447515",
   "metadata": {},
   "outputs": [
    {
     "name": "stdout",
     "output_type": "stream",
     "text": [
      "전체 샘플수 : 98401\n"
     ]
    }
   ],
   "source": [
    "print('전체 샘플수 :', (len(data)))"
   ]
  },
  {
   "cell_type": "code",
   "execution_count": 7,
   "id": "cbc96388",
   "metadata": {},
   "outputs": [
    {
     "name": "stdout",
     "output_type": "stream",
     "text": [
      "Text 열에서 중복을 배제한 유일한 샘플의 수 : 98280\n",
      "Summary 열에서 중복을 배제한 유일한 샘플의 수 : 98360\n"
     ]
    }
   ],
   "source": [
    "print('Text 열에서 중복을 배제한 유일한 샘플의 수 :', data['headlines'].nunique())\n",
    "print('Summary 열에서 중복을 배제한 유일한 샘플의 수 :', data['text'].nunique())"
   ]
  },
  {
   "cell_type": "markdown",
   "id": "56f82ecf",
   "metadata": {},
   "source": [
    "### 데이터 전처리"
   ]
  },
  {
   "cell_type": "code",
   "execution_count": 8,
   "id": "acb2e6cc",
   "metadata": {},
   "outputs": [
    {
     "name": "stdout",
     "output_type": "stream",
     "text": [
      "전체 샘플수 : 98262\n"
     ]
    }
   ],
   "source": [
    "# 중복된 데이터를 제거하기\n",
    "data.drop_duplicates(subset = ['text'], inplace=True)\n",
    "data.drop_duplicates(subset = ['headlines'], inplace=True)\n",
    "print('전체 샘플수 :', (len(data)))"
   ]
  },
  {
   "cell_type": "code",
   "execution_count": 9,
   "id": "4e3436de",
   "metadata": {},
   "outputs": [
    {
     "name": "stdout",
     "output_type": "stream",
     "text": [
      "headlines    0\n",
      "text         0\n",
      "dtype: int64\n"
     ]
    }
   ],
   "source": [
    "print(data.isnull().sum()) # null 값의 유무 확인"
   ]
  },
  {
   "cell_type": "code",
   "execution_count": 10,
   "id": "2ee9348a",
   "metadata": {},
   "outputs": [
    {
     "name": "stdout",
     "output_type": "stream",
     "text": [
      "정규화 사전의 수:  120\n"
     ]
    }
   ],
   "source": [
    "# 정규화 사전\n",
    "contractions = {\"ain't\": \"is not\", \"aren't\": \"are not\",\"can't\": \"cannot\", \"'cause\": \"because\", \"could've\": \"could have\", \"couldn't\": \"could not\",\n",
    "                           \"didn't\": \"did not\",  \"doesn't\": \"does not\", \"don't\": \"do not\", \"hadn't\": \"had not\", \"hasn't\": \"has not\", \"haven't\": \"have not\",\n",
    "                           \"he'd\": \"he would\",\"he'll\": \"he will\", \"he's\": \"he is\", \"how'd\": \"how did\", \"how'd'y\": \"how do you\", \"how'll\": \"how will\", \"how's\": \"how is\",\n",
    "                           \"I'd\": \"I would\", \"I'd've\": \"I would have\", \"I'll\": \"I will\", \"I'll've\": \"I will have\",\"I'm\": \"I am\", \"I've\": \"I have\", \"i'd\": \"i would\",\n",
    "                           \"i'd've\": \"i would have\", \"i'll\": \"i will\",  \"i'll've\": \"i will have\",\"i'm\": \"i am\", \"i've\": \"i have\", \"isn't\": \"is not\", \"it'd\": \"it would\",\n",
    "                           \"it'd've\": \"it would have\", \"it'll\": \"it will\", \"it'll've\": \"it will have\",\"it's\": \"it is\", \"let's\": \"let us\", \"ma'am\": \"madam\",\n",
    "                           \"mayn't\": \"may not\", \"might've\": \"might have\",\"mightn't\": \"might not\",\"mightn't've\": \"might not have\", \"must've\": \"must have\",\n",
    "                           \"mustn't\": \"must not\", \"mustn't've\": \"must not have\", \"needn't\": \"need not\", \"needn't've\": \"need not have\",\"o'clock\": \"of the clock\",\n",
    "                           \"oughtn't\": \"ought not\", \"oughtn't've\": \"ought not have\", \"shan't\": \"shall not\", \"sha'n't\": \"shall not\", \"shan't've\": \"shall not have\",\n",
    "                           \"she'd\": \"she would\", \"she'd've\": \"she would have\", \"she'll\": \"she will\", \"she'll've\": \"she will have\", \"she's\": \"she is\",\n",
    "                           \"should've\": \"should have\", \"shouldn't\": \"should not\", \"shouldn't've\": \"should not have\", \"so've\": \"so have\",\"so's\": \"so as\",\n",
    "                           \"this's\": \"this is\",\"that'd\": \"that would\", \"that'd've\": \"that would have\", \"that's\": \"that is\", \"there'd\": \"there would\",\n",
    "                           \"there'd've\": \"there would have\", \"there's\": \"there is\", \"here's\": \"here is\",\"they'd\": \"they would\", \"they'd've\": \"they would have\",\n",
    "                           \"they'll\": \"they will\", \"they'll've\": \"they will have\", \"they're\": \"they are\", \"they've\": \"they have\", \"to've\": \"to have\",\n",
    "                           \"wasn't\": \"was not\", \"we'd\": \"we would\", \"we'd've\": \"we would have\", \"we'll\": \"we will\", \"we'll've\": \"we will have\", \"we're\": \"we are\",\n",
    "                           \"we've\": \"we have\", \"weren't\": \"were not\", \"what'll\": \"what will\", \"what'll've\": \"what will have\", \"what're\": \"what are\",\n",
    "                           \"what's\": \"what is\", \"what've\": \"what have\", \"when's\": \"when is\", \"when've\": \"when have\", \"where'd\": \"where did\", \"where's\": \"where is\",\n",
    "                           \"where've\": \"where have\", \"who'll\": \"who will\", \"who'll've\": \"who will have\", \"who's\": \"who is\", \"who've\": \"who have\",\n",
    "                           \"why's\": \"why is\", \"why've\": \"why have\", \"will've\": \"will have\", \"won't\": \"will not\", \"won't've\": \"will not have\",\n",
    "                           \"would've\": \"would have\", \"wouldn't\": \"would not\", \"wouldn't've\": \"would not have\", \"y'all\": \"you all\",\n",
    "                           \"y'all'd\": \"you all would\",\"y'all'd've\": \"you all would have\",\"y'all're\": \"you all are\",\"y'all've\": \"you all have\",\n",
    "                           \"you'd\": \"you would\", \"you'd've\": \"you would have\", \"you'll\": \"you will\", \"you'll've\": \"you will have\",\n",
    "                           \"you're\": \"you are\", \"you've\": \"you have\"}\n",
    "\n",
    "print(\"정규화 사전의 수: \", len(contractions))"
   ]
  },
  {
   "cell_type": "code",
   "execution_count": 11,
   "id": "0b0d5988",
   "metadata": {},
   "outputs": [
    {
     "name": "stdout",
     "output_type": "stream",
     "text": [
      "불용어 개수 : 179\n",
      "['i', 'me', 'my', 'myself', 'we', 'our', 'ours', 'ourselves', 'you', \"you're\", \"you've\", \"you'll\", \"you'd\", 'your', 'yours', 'yourself', 'yourselves', 'he', 'him', 'his', 'himself', 'she', \"she's\", 'her', 'hers', 'herself', 'it', \"it's\", 'its', 'itself', 'they', 'them', 'their', 'theirs', 'themselves', 'what', 'which', 'who', 'whom', 'this', 'that', \"that'll\", 'these', 'those', 'am', 'is', 'are', 'was', 'were', 'be', 'been', 'being', 'have', 'has', 'had', 'having', 'do', 'does', 'did', 'doing', 'a', 'an', 'the', 'and', 'but', 'if', 'or', 'because', 'as', 'until', 'while', 'of', 'at', 'by', 'for', 'with', 'about', 'against', 'between', 'into', 'through', 'during', 'before', 'after', 'above', 'below', 'to', 'from', 'up', 'down', 'in', 'out', 'on', 'off', 'over', 'under', 'again', 'further', 'then', 'once', 'here', 'there', 'when', 'where', 'why', 'how', 'all', 'any', 'both', 'each', 'few', 'more', 'most', 'other', 'some', 'such', 'no', 'nor', 'not', 'only', 'own', 'same', 'so', 'than', 'too', 'very', 's', 't', 'can', 'will', 'just', 'don', \"don't\", 'should', \"should've\", 'now', 'd', 'll', 'm', 'o', 're', 've', 'y', 'ain', 'aren', \"aren't\", 'couldn', \"couldn't\", 'didn', \"didn't\", 'doesn', \"doesn't\", 'hadn', \"hadn't\", 'hasn', \"hasn't\", 'haven', \"haven't\", 'isn', \"isn't\", 'ma', 'mightn', \"mightn't\", 'mustn', \"mustn't\", 'needn', \"needn't\", 'shan', \"shan't\", 'shouldn', \"shouldn't\", 'wasn', \"wasn't\", 'weren', \"weren't\", 'won', \"won't\", 'wouldn', \"wouldn't\"]\n"
     ]
    }
   ],
   "source": [
    "# 불용어 사전 불러오기\n",
    "\n",
    "print('불용어 개수 :', len(stopwords.words('english') ))\n",
    "print(stopwords.words('english'))"
   ]
  },
  {
   "cell_type": "code",
   "execution_count": 12,
   "id": "3c9703e4",
   "metadata": {},
   "outputs": [],
   "source": [
    "# 데이터 전처리 함수\n",
    "def preprocess_sentence(sentence, remove_stopwords=True):\n",
    "    sentence = sentence.lower() # 텍스트 소문자화\n",
    "    # sentence = BeautifulSoup(sentence, \"lxml\").text # <br />, <a href = ...> 등의 html 태그 제거\n",
    "    sentence = re.sub(r'\\([^)]*\\)', '', sentence) # 괄호로 닫힌 문자열 (...) 제거 Ex) my husband (and myself!) for => my husband for\n",
    "    sentence = re.sub('\"','', sentence) # 쌍따옴표 \" 제거\n",
    "    sentence = ' '.join([contractions[t] if t in contractions else t for t in sentence.split(\" \")]) # 약어 정규화\n",
    "    sentence = re.sub(r\"'s\\b\",\"\", sentence) # 소유격 제거. Ex) roland's -> roland\n",
    "    sentence = re.sub(\"[^a-zA-Z]\", \" \", sentence) # 영어 외 문자(숫자, 특수문자 등) 공백으로 변환\n",
    "    sentence = re.sub('[m]{2,}', 'mm', sentence) # m이 3개 이상이면 2개로 변경. Ex) ummmmmmm yeah -> umm yeah\n",
    "    \n",
    "    # 불용어 제거 (Text)\n",
    "    if remove_stopwords:\n",
    "        tokens = ' '.join(word for word in sentence.split() if not word in stopwords.words('english') if len(word) > 1)\n",
    "    # 불용어 미제거 (Summary)\n",
    "    else:\n",
    "        tokens = ' '.join(word for word in sentence.split() if len(word) > 1)\n",
    "    return tokens"
   ]
  },
  {
   "cell_type": "code",
   "execution_count": 13,
   "id": "9673216c",
   "metadata": {},
   "outputs": [
    {
     "name": "stdout",
     "output_type": "stream",
     "text": [
      "headline: srk ranveer or saif to replace varun in judwaa report\n",
      "text:  according reports shah rukh khan ranveer singh saif ali khan replace varun dhawan judwaa source said every judwaa film feature new lister double role filmmaker david dhawan directed judwaa judwaa reportedly also direct upcoming films franchise\n"
     ]
    }
   ],
   "source": [
    "temp_headline = \"SRK, Ranveer or Saif to replace Varun in Judwaa 3: Report\"\n",
    "temp_text = 'According to reports, Shah Rukh Khan, Ranveer Singh or Saif Ali Khan will replace Varun Dhawan in \\'Judwaa 3\\'. A source said, \"Every Judwaa film will feature a new A-lister in a double role.\" Filmmaker David Dhawan, who directed \\'Judwaa\\' and \\'Judwaa 2\\', will reportedly also direct all the upcoming films in the franchise. '\n",
    "\n",
    "print(\"headline:\", preprocess_sentence(temp_headline, False))  # 불용어를 제거하지 않습니다.\n",
    "print(\"text: \", preprocess_sentence(temp_text))"
   ]
  },
  {
   "cell_type": "code",
   "execution_count": 14,
   "id": "876da690",
   "metadata": {},
   "outputs": [
    {
     "name": "stdout",
     "output_type": "stream",
     "text": [
      "Text 전처리 후 결과:  ['upgrad learner switches career ml al salary hike', 'delhi techie wins free food swiggy one year cred', 'new zealand end rohit sharma led india match winning streak', 'aegon life iterm insurance plan helps customers save tax', 'known hirani yrs metoo claims true sonam']\n",
      "Summary 전처리 후 결과:  ['saurav kant an alumnus of upgrad and iiit pg program in machine learning and artificial intelligence was sr systems engineer at infosys with almost years of work experience the program and upgrad degree career support helped him transition to data scientist at tech mahindra with salary hike upgrad online power learning has powered lakh careers', 'kunal shah credit card bill payment platform cred gave users chance to win free food from swiggy for one year pranav kaushik delhi techie bagged this reward after spending cred coins users get one cred coin per rupee of bill paid which can be used to avail rewards from brands like ixigo bookmyshow ubereats cult fit and more', 'new zealand defeated india by wickets in the fourth odi at hamilton on thursday to win their first match of the five match odi series india lost an international match under rohit sharma captaincy after consecutive victories dating back to march the match witnessed india getting all out for their seventh lowest total in odi cricket history', 'with aegon life iterm insurance plan customers can enjoy tax benefits on your premiums paid and save up to on taxes the plan provides life cover up to the age of years also customers have options to insure against critical illnesses disability and accidental death benefit rider with life cover up to the age of years', 'speaking about the sexual harassment allegations against rajkumar hirani sonam kapoor said have known hirani for many years what if it is not true the metoo movement will get derailed in the metoo movement always believe woman but in this case we need to reserve our judgment she added hirani has been accused by an assistant who worked in sanju']\n"
     ]
    }
   ],
   "source": [
    "# 전체 Text 데이터에 대한 전처리\n",
    "clean_headlines = []\n",
    "\n",
    "for headline in data['headlines']:\n",
    "    clean_headlines.append(preprocess_sentence(headline))\n",
    "\n",
    "# 전처리 후 출력\n",
    "print(\"Text 전처리 후 결과: \", clean_headlines[:5])\n",
    "\n",
    "# 전체 Headline 데이터에 대한 전처리 \n",
    "clean_texts = []\n",
    "\n",
    "for text in data['text']:\n",
    "    clean_texts.append(preprocess_sentence(text, False))\n",
    "\n",
    "print(\"Summary 전처리 후 결과: \", clean_texts[:5])"
   ]
  },
  {
   "cell_type": "code",
   "execution_count": 15,
   "id": "34ec631f",
   "metadata": {},
   "outputs": [],
   "source": [
    "# 전처리 된 결과를 데이터프레임에 담는다.\n",
    "data['headlines'] = clean_headlines\n",
    "data['text'] = clean_texts\n",
    "\n",
    "# 빈 값을 Null 값으로 변환\n",
    "data.replace('', np.nan, inplace=True)"
   ]
  },
  {
   "cell_type": "code",
   "execution_count": 16,
   "id": "a92450a6",
   "metadata": {},
   "outputs": [
    {
     "data": {
      "text/plain": [
       "headlines    0\n",
       "text         0\n",
       "dtype: int64"
      ]
     },
     "execution_count": 16,
     "metadata": {},
     "output_type": "execute_result"
    }
   ],
   "source": [
    "data.isnull().sum() # 실행해보면 null값은 없는 것을 알 수 있다."
   ]
  },
  {
   "cell_type": "code",
   "execution_count": 17,
   "id": "0e0429d9",
   "metadata": {},
   "outputs": [
    {
     "name": "stdout",
     "output_type": "stream",
     "text": [
      "헤드라인의 최소 길이 : 1\n",
      "헤드라인의 최대 길이 : 13\n",
      "헤드라인의 평균 길이 : 7.136787364393153\n",
      "텍스트의 최소 길이 : 1\n",
      "텍스트의 최대 길이 : 69\n",
      "텍스트의 평균 길이 : 56.18195233152185\n"
     ]
    },
    {
     "data": {
      "image/png": "[encoded data removed]",
      "text/plain": [
       "<Figure size 432x288 with 2 Axes>"
      ]
     },
     "metadata": {
      "needs_background": "light"
     },
     "output_type": "display_data"
    },
    {
     "data": {
      "image/png": "[encoded data removed]",
      "text/plain": [
       "<Figure size 432x288 with 1 Axes>"
      ]
     },
     "metadata": {
      "needs_background": "light"
     },
     "output_type": "display_data"
    },
    {
     "data": {
      "image/png": "[encoded data removed]",
      "text/plain": [
       "<Figure size 432x288 with 1 Axes>"
      ]
     },
     "metadata": {
      "needs_background": "light"
     },
     "output_type": "display_data"
    }
   ],
   "source": [
    "# 길이 분포 출력\n",
    "\n",
    "headline_len = [len(s.split()) for s in data['headlines']]\n",
    "text_len = [len(s.split()) for s in data['text']]\n",
    "\n",
    "print('헤드라인의 최소 길이 : {}'.format(np.min(headline_len)))\n",
    "print('헤드라인의 최대 길이 : {}'.format(np.max(headline_len)))\n",
    "print('헤드라인의 평균 길이 : {}'.format(np.mean(headline_len)))\n",
    "print('텍스트의 최소 길이 : {}'.format(np.min(text_len)))\n",
    "print('텍스트의 최대 길이 : {}'.format(np.max(text_len)))\n",
    "print('텍스트의 평균 길이 : {}'.format(np.mean(text_len)))\n",
    "\n",
    "plt.subplot(1,2,1)\n",
    "plt.boxplot(headline_len)\n",
    "plt.title('headlines')\n",
    "plt.subplot(1,2,2)\n",
    "plt.boxplot(text_len)\n",
    "plt.title('text')\n",
    "plt.tight_layout()\n",
    "plt.show()\n",
    "\n",
    "plt.title('headlines')\n",
    "plt.hist(headline_len, bins = 40)\n",
    "plt.xlabel('length of samples')\n",
    "plt.ylabel('number of samples')\n",
    "plt.show()\n",
    "\n",
    "plt.title('text')\n",
    "plt.hist(text_len, bins = 40)\n",
    "plt.xlabel('length of samples')\n",
    "plt.ylabel('number of samples')\n",
    "plt.show()"
   ]
  },
  {
   "cell_type": "code",
   "execution_count": 18,
   "id": "dc138d53",
   "metadata": {},
   "outputs": [],
   "source": [
    "headline_max_len = 10\n",
    "text_max_len = 60"
   ]
  },
  {
   "cell_type": "code",
   "execution_count": 19,
   "id": "dc0f97ac",
   "metadata": {},
   "outputs": [],
   "source": [
    "def below_threshold_len(max_len, nested_list):\n",
    "  cnt = 0\n",
    "  for s in nested_list:\n",
    "    if(len(s.split()) <= max_len):\n",
    "        cnt = cnt + 1\n",
    "  print('전체 샘플 중 길이가 %s 이하인 샘플의 비율: %s'%(max_len, (cnt / len(nested_list))))"
   ]
  },
  {
   "cell_type": "code",
   "execution_count": 20,
   "id": "5ed89686",
   "metadata": {},
   "outputs": [
    {
     "name": "stdout",
     "output_type": "stream",
     "text": [
      "전체 샘플 중 길이가 10 이하인 샘플의 비율: 0.9978323258228002\n",
      "전체 샘플 중 길이가 60 이하인 샘플의 비율: 0.9443528525778022\n"
     ]
    }
   ],
   "source": [
    "below_threshold_len(headline_max_len, data['headlines'])\n",
    "below_threshold_len(text_max_len,  data['text'])"
   ]
  },
  {
   "cell_type": "code",
   "execution_count": 21,
   "id": "16cb0526",
   "metadata": {},
   "outputs": [
    {
     "name": "stdout",
     "output_type": "stream",
     "text": [
      "전체 샘플수 : 92602\n"
     ]
    }
   ],
   "source": [
    "# headline_max_len, text_max_len보다 긴 문장들은 제외시킨다.\n",
    "\n",
    "data['headlines2'] = data['headlines'].apply(lambda x: len(x.split()) > headline_max_len)\n",
    "data['text2'] = data['text'].apply(lambda x: len(x.split()) > text_max_len)\n",
    "\n",
    "data.drop(data[data['headlines2'] == True].index, inplace=True)\n",
    "data.drop(data[data['text2'] == True].index, inplace=True)\n",
    "\n",
    "data.drop(labels='headlines2', axis=1, inplace=True)\n",
    "data.drop(labels='text2', axis=1, inplace=True)\n",
    "print('전체 샘플수 :', (len(data)))"
   ]
  },
  {
   "cell_type": "code",
   "execution_count": 22,
   "id": "c75108bf",
   "metadata": {},
   "outputs": [
    {
     "data": {
      "text/html": [
       "<div>\n",
       "<style scoped>\n",
       "    .dataframe tbody tr th:only-of-type {\n",
       "        vertical-align: middle;\n",
       "    }\n",
       "\n",
       "    .dataframe tbody tr th {\n",
       "        vertical-align: top;\n",
       "    }\n",
       "\n",
       "    .dataframe thead th {\n",
       "        text-align: right;\n",
       "    }\n",
       "</style>\n",
       "<table border=\"1\" class=\"dataframe\">\n",
       "  <thead>\n",
       "    <tr style=\"text-align: right;\">\n",
       "      <th></th>\n",
       "      <th>headlines</th>\n",
       "      <th>text</th>\n",
       "      <th>decoder_input</th>\n",
       "      <th>decoder_target</th>\n",
       "    </tr>\n",
       "  </thead>\n",
       "  <tbody>\n",
       "    <tr>\n",
       "      <th>0</th>\n",
       "      <td>upgrad learner switches career ml al salary hike</td>\n",
       "      <td>saurav kant an alumnus of upgrad and iiit pg p...</td>\n",
       "      <td>sostoken upgrad learner switches career ml al ...</td>\n",
       "      <td>upgrad learner switches career ml al salary hi...</td>\n",
       "    </tr>\n",
       "    <tr>\n",
       "      <th>1</th>\n",
       "      <td>delhi techie wins free food swiggy one year cred</td>\n",
       "      <td>kunal shah credit card bill payment platform c...</td>\n",
       "      <td>sostoken delhi techie wins free food swiggy on...</td>\n",
       "      <td>delhi techie wins free food swiggy one year cr...</td>\n",
       "    </tr>\n",
       "    <tr>\n",
       "      <th>2</th>\n",
       "      <td>new zealand end rohit sharma led india match w...</td>\n",
       "      <td>new zealand defeated india by wickets in the f...</td>\n",
       "      <td>sostoken new zealand end rohit sharma led indi...</td>\n",
       "      <td>new zealand end rohit sharma led india match w...</td>\n",
       "    </tr>\n",
       "    <tr>\n",
       "      <th>3</th>\n",
       "      <td>aegon life iterm insurance plan helps customer...</td>\n",
       "      <td>with aegon life iterm insurance plan customers...</td>\n",
       "      <td>sostoken aegon life iterm insurance plan helps...</td>\n",
       "      <td>aegon life iterm insurance plan helps customer...</td>\n",
       "    </tr>\n",
       "    <tr>\n",
       "      <th>4</th>\n",
       "      <td>known hirani yrs metoo claims true sonam</td>\n",
       "      <td>speaking about the sexual harassment allegatio...</td>\n",
       "      <td>sostoken known hirani yrs metoo claims true sonam</td>\n",
       "      <td>known hirani yrs metoo claims true sonam eostoken</td>\n",
       "    </tr>\n",
       "  </tbody>\n",
       "</table>\n",
       "</div>"
      ],
      "text/plain": [
       "                                           headlines  \\\n",
       "0   upgrad learner switches career ml al salary hike   \n",
       "1   delhi techie wins free food swiggy one year cred   \n",
       "2  new zealand end rohit sharma led india match w...   \n",
       "3  aegon life iterm insurance plan helps customer...   \n",
       "4           known hirani yrs metoo claims true sonam   \n",
       "\n",
       "                                                text  \\\n",
       "0  saurav kant an alumnus of upgrad and iiit pg p...   \n",
       "1  kunal shah credit card bill payment platform c...   \n",
       "2  new zealand defeated india by wickets in the f...   \n",
       "3  with aegon life iterm insurance plan customers...   \n",
       "4  speaking about the sexual harassment allegatio...   \n",
       "\n",
       "                                       decoder_input  \\\n",
       "0  sostoken upgrad learner switches career ml al ...   \n",
       "1  sostoken delhi techie wins free food swiggy on...   \n",
       "2  sostoken new zealand end rohit sharma led indi...   \n",
       "3  sostoken aegon life iterm insurance plan helps...   \n",
       "4  sostoken known hirani yrs metoo claims true sonam   \n",
       "\n",
       "                                      decoder_target  \n",
       "0  upgrad learner switches career ml al salary hi...  \n",
       "1  delhi techie wins free food swiggy one year cr...  \n",
       "2  new zealand end rohit sharma led india match w...  \n",
       "3  aegon life iterm insurance plan helps customer...  \n",
       "4  known hirani yrs metoo claims true sonam eostoken  "
      ]
     },
     "execution_count": 22,
     "metadata": {},
     "output_type": "execute_result"
    }
   ],
   "source": [
    "# 요약 데이터에는 시작 토큰과 종료 토큰을 추가한다.\n",
    "data['decoder_input'] = data['headlines'].apply(lambda x : 'sostoken '+ x)\n",
    "data['decoder_target'] = data['headlines'].apply(lambda x : x + ' eostoken')\n",
    "data.head()"
   ]
  },
  {
   "cell_type": "code",
   "execution_count": 23,
   "id": "175cbf4c",
   "metadata": {},
   "outputs": [],
   "source": [
    "encoder_input = np.array(data['text']) # 인코더의 입력\n",
    "decoder_input = np.array(data['decoder_input']) # 디코더의 입력\n",
    "decoder_target = np.array(data['decoder_target']) # 디코더의 레이블"
   ]
  },
  {
   "cell_type": "code",
   "execution_count": 24,
   "id": "5c925a74",
   "metadata": {},
   "outputs": [
    {
     "name": "stdout",
     "output_type": "stream",
     "text": [
      "[29155 15175 41407 ... 36383 23089 59318]\n"
     ]
    }
   ],
   "source": [
    "indices = np.arange(encoder_input.shape[0])\n",
    "np.random.shuffle(indices)\n",
    "print(indices)"
   ]
  },
  {
   "cell_type": "code",
   "execution_count": 37,
   "id": "99d6db80",
   "metadata": {},
   "outputs": [],
   "source": [
    "encoder_input = encoder_input[indices]\n",
    "decoder_input = decoder_input[indices]\n",
    "decoder_target = decoder_target[indices]"
   ]
  },
  {
   "cell_type": "code",
   "execution_count": 38,
   "id": "1736a8b1",
   "metadata": {},
   "outputs": [
    {
     "name": "stdout",
     "output_type": "stream",
     "text": [
      "테스트 데이터의 수 : 18520\n"
     ]
    }
   ],
   "source": [
    "n_of_val = int(len(encoder_input)*0.2)\n",
    "print('테스트 데이터의 수 :', n_of_val)"
   ]
  },
  {
   "cell_type": "code",
   "execution_count": 39,
   "id": "0ce48c46",
   "metadata": {},
   "outputs": [
    {
     "name": "stdout",
     "output_type": "stream",
     "text": [
      "훈련 데이터의 개수 : 74082\n",
      "훈련 레이블의 개수 : 74082\n",
      "테스트 데이터의 개수 : 18520\n",
      "테스트 레이블의 개수 : 18520\n"
     ]
    }
   ],
   "source": [
    "encoder_input_train = encoder_input[:-n_of_val]\n",
    "decoder_input_train = decoder_input[:-n_of_val]\n",
    "decoder_target_train = decoder_target[:-n_of_val]\n",
    "\n",
    "encoder_input_test = encoder_input[-n_of_val:]\n",
    "decoder_input_test = decoder_input[-n_of_val:]\n",
    "decoder_target_test = decoder_target[-n_of_val:]\n",
    "\n",
    "print('훈련 데이터의 개수 :', len(encoder_input_train))\n",
    "print('훈련 레이블의 개수 :', len(decoder_input_train))\n",
    "print('테스트 데이터의 개수 :', len(encoder_input_test))\n",
    "print('테스트 레이블의 개수 :', len(decoder_input_test))"
   ]
  },
  {
   "cell_type": "markdown",
   "id": "f301ecb2",
   "metadata": {},
   "source": [
    "### 정수 인코딩"
   ]
  },
  {
   "cell_type": "code",
   "execution_count": 40,
   "id": "cc5f57f5",
   "metadata": {},
   "outputs": [],
   "source": [
    "src_tokenizer = Tokenizer() # 토크나이저 정의\n",
    "src_tokenizer.fit_on_texts(encoder_input_train) # 입력된 데이터로부터 단어 집합 생성"
   ]
  },
  {
   "cell_type": "code",
   "execution_count": 41,
   "id": "0697c79a",
   "metadata": {},
   "outputs": [
    {
     "name": "stdout",
     "output_type": "stream",
     "text": [
      "단어 집합(vocabulary)의 크기 : 68185\n",
      "등장 빈도가 6번 이하인 희귀 단어의 수: 46483\n",
      "단어 집합에서 희귀 단어를 제외시킬 경우의 단어 집합의 크기 21702\n",
      "단어 집합에서 희귀 단어의 비율: 68.17188531201877\n",
      "전체 등장 빈도에서 희귀 단어 등장 빈도 비율: 2.274390640226142\n"
     ]
    }
   ],
   "source": [
    "threshold = 7\n",
    "total_cnt = len(src_tokenizer.word_index) # 단어의 수\n",
    "rare_cnt = 0 # 등장 빈도수가 threshold보다 작은 단어의 개수를 카운트\n",
    "total_freq = 0 # 훈련 데이터의 전체 단어 빈도수 총 합\n",
    "rare_freq = 0 # 등장 빈도수가 threshold보다 작은 단어의 등장 빈도수의 총 합\n",
    "\n",
    "# 단어와 빈도수의 쌍(pair)을 key와 value로 받는다.\n",
    "for key, value in src_tokenizer.word_counts.items():\n",
    "    total_freq = total_freq + value\n",
    "\n",
    "    # 단어의 등장 빈도수가 threshold보다 작으면\n",
    "    if(value < threshold):\n",
    "        rare_cnt = rare_cnt + 1\n",
    "        rare_freq = rare_freq + value\n",
    "\n",
    "print('단어 집합(vocabulary)의 크기 :', total_cnt)\n",
    "print('등장 빈도가 %s번 이하인 희귀 단어의 수: %s'%(threshold - 1, rare_cnt))\n",
    "print('단어 집합에서 희귀 단어를 제외시킬 경우의 단어 집합의 크기 %s'%(total_cnt - rare_cnt))\n",
    "print(\"단어 집합에서 희귀 단어의 비율:\", (rare_cnt / total_cnt)*100)\n",
    "print(\"전체 등장 빈도에서 희귀 단어 등장 빈도 비율:\", (rare_freq / total_freq)*100)"
   ]
  },
  {
   "cell_type": "code",
   "execution_count": 42,
   "id": "10ace0c9",
   "metadata": {},
   "outputs": [],
   "source": [
    "src_vocab = 21000\n",
    "src_tokenizer = Tokenizer(num_words=src_vocab) # 단어 집합의 크기를 21,000으로 제한\n",
    "src_tokenizer.fit_on_texts(encoder_input_train) # 단어 집합 재생성"
   ]
  },
  {
   "cell_type": "code",
   "execution_count": 43,
   "id": "ce7fd8bf",
   "metadata": {},
   "outputs": [
    {
     "name": "stdout",
     "output_type": "stream",
     "text": [
      "[[1, 74, 48, 7, 155, 126, 5, 87, 8, 112, 6804, 1877, 4, 278, 6, 1457, 2093, 8, 1340, 279, 1, 1779, 411, 5124, 43, 970, 4, 118, 129, 286, 4, 31, 97, 48, 542, 11, 256, 48, 356, 5366, 94, 18, 126, 1463, 10, 33, 221, 11, 76, 171, 6, 1457, 397, 292, 1428], [1, 48, 7, 690, 16271, 3, 1231, 3, 11539, 4634, 1286, 259, 334, 5, 930, 1, 48, 101, 49, 16271, 3, 1231, 4, 20280, 10966, 10018, 998, 6, 776, 425, 7467, 1014, 5, 10967, 1341, 19, 109, 344, 4, 1, 259, 17, 9, 7692, 21, 24, 9073, 15, 110, 2, 338, 91, 25, 32, 895], [1587, 404, 4497, 13950, 3694, 28, 11, 1, 46, 313, 12612, 2, 2462, 4040, 844, 3, 10968, 22, 1, 1676, 4289, 15002, 17101, 8, 5180, 1, 2721, 3, 29, 17, 12, 681, 2, 588, 12612, 92, 15002, 28, 11, 803, 2, 8923, 2954, 3, 96, 196, 91, 35, 117, 303, 52, 188, 3694, 9, 3, 23, 1127]]\n"
     ]
    }
   ],
   "source": [
    "# 텍스트 시퀀스를 정수 시퀀스로 변환\n",
    "encoder_input_train = src_tokenizer.texts_to_sequences(encoder_input_train) \n",
    "encoder_input_test = src_tokenizer.texts_to_sequences(encoder_input_test)\n",
    "\n",
    "# 잘 진행되었는지 샘플 출력\n",
    "print(encoder_input_train[:3])"
   ]
  },
  {
   "cell_type": "code",
   "execution_count": 44,
   "id": "2b151335",
   "metadata": {},
   "outputs": [],
   "source": [
    "tar_tokenizer = Tokenizer()\n",
    "tar_tokenizer.fit_on_texts(decoder_input_train)"
   ]
  },
  {
   "cell_type": "code",
   "execution_count": 45,
   "id": "14e3e108",
   "metadata": {},
   "outputs": [
    {
     "name": "stdout",
     "output_type": "stream",
     "text": [
      "단어 집합(vocabulary)의 크기 : 29330\n",
      "등장 빈도가 5번 이하인 희귀 단어의 수: 19371\n",
      "단어 집합에서 희귀 단어를 제외시킬 경우의 단어 집합의 크기 9959\n",
      "단어 집합에서 희귀 단어의 비율: 66.04500511421753\n",
      "전체 등장 빈도에서 희귀 단어 등장 빈도 비율: 6.138511189180745\n"
     ]
    }
   ],
   "source": [
    "threshold = 6\n",
    "total_cnt = len(tar_tokenizer.word_index) # 단어의 수\n",
    "rare_cnt = 0 # 등장 빈도수가 threshold보다 작은 단어의 개수를 카운트\n",
    "total_freq = 0 # 훈련 데이터의 전체 단어 빈도수 총 합\n",
    "rare_freq = 0 # 등장 빈도수가 threshold보다 작은 단어의 등장 빈도수의 총 합\n",
    "\n",
    "# 단어와 빈도수의 쌍(pair)을 key와 value로 받는다.\n",
    "for key, value in tar_tokenizer.word_counts.items():\n",
    "    total_freq = total_freq + value\n",
    "\n",
    "    # 단어의 등장 빈도수가 threshold보다 작으면\n",
    "    if(value < threshold):\n",
    "        rare_cnt = rare_cnt + 1\n",
    "        rare_freq = rare_freq + value\n",
    "\n",
    "print('단어 집합(vocabulary)의 크기 :', total_cnt)\n",
    "print('등장 빈도가 %s번 이하인 희귀 단어의 수: %s'%(threshold - 1, rare_cnt))\n",
    "print('단어 집합에서 희귀 단어를 제외시킬 경우의 단어 집합의 크기 %s'%(total_cnt - rare_cnt))\n",
    "print(\"단어 집합에서 희귀 단어의 비율:\", (rare_cnt / total_cnt)*100)\n",
    "print(\"전체 등장 빈도에서 희귀 단어 등장 빈도 비율:\", (rare_freq / total_freq)*100)"
   ]
  },
  {
   "cell_type": "code",
   "execution_count": 50,
   "id": "e5133570",
   "metadata": {},
   "outputs": [
    {
     "name": "stdout",
     "output_type": "stream",
     "text": [
      "input\n",
      "input  [[1, 9, 4876, 75, 3970, 129, 1084, 1561, 173], [1, 2539, 305, 2652], [1, 2420, 4877, 7731, 2653, 7242, 3], [1, 3971, 1215, 376, 367, 730, 148, 6448, 4227], [1, 102, 508, 34, 3491, 6449, 520, 106]]\n",
      "target\n",
      "decoder  [[9, 4876, 75, 3970, 129, 1084, 1561, 173, 2], [2539, 305, 2652, 2], [2420, 4877, 7731, 2653, 7242, 3, 2], [3971, 1215, 376, 367, 730, 148, 6448, 4227, 2], [102, 508, 34, 3491, 6449, 520, 106, 2]]\n"
     ]
    }
   ],
   "source": [
    "tar_vocab = 9900\n",
    "tar_tokenizer = Tokenizer(num_words=tar_vocab) \n",
    "tar_tokenizer.fit_on_texts(decoder_input_train)\n",
    "tar_tokenizer.fit_on_texts(decoder_target_train)\n",
    "\n",
    "# 텍스트 시퀀스를 정수 시퀀스로 변환\n",
    "decoder_input_train = tar_tokenizer.texts_to_sequences(decoder_input_train) \n",
    "decoder_target_train = tar_tokenizer.texts_to_sequences(decoder_target_train)\n",
    "decoder_input_test = tar_tokenizer.texts_to_sequences(decoder_input_test)\n",
    "decoder_target_test = tar_tokenizer.texts_to_sequences(decoder_target_test)\n",
    "\n",
    "# 잘 변환되었는지 확인\n",
    "print('input')\n",
    "print('input ',decoder_input_train[:5])\n",
    "print('target')\n",
    "print('decoder ',decoder_target_train[:5])"
   ]
  },
  {
   "cell_type": "code",
   "execution_count": 51,
   "id": "b1e4489d",
   "metadata": {},
   "outputs": [
    {
     "name": "stdout",
     "output_type": "stream",
     "text": [
      "삭제할 훈련 데이터의 개수 : 4\n",
      "삭제할 테스트 데이터의 개수 : 0\n",
      "훈련 데이터의 개수 : 74078\n",
      "훈련 레이블의 개수 : 74078\n",
      "테스트 데이터의 개수 : 18520\n",
      "테스트 레이블의 개수 : 18520\n"
     ]
    }
   ],
   "source": [
    "# 길이가 1인 headline을 삭제한다.\n",
    "\n",
    "drop_train = [index for index, sentence in enumerate(decoder_input_train) if len(sentence) == 1]\n",
    "drop_test = [index for index, sentence in enumerate(decoder_input_test) if len(sentence) == 1]\n",
    "\n",
    "print('삭제할 훈련 데이터의 개수 :', len(drop_train))\n",
    "print('삭제할 테스트 데이터의 개수 :', len(drop_test))\n",
    "\n",
    "encoder_input_train = [sentence for index, sentence in enumerate(encoder_input_train) if index not in drop_train]\n",
    "decoder_input_train = [sentence for index, sentence in enumerate(decoder_input_train) if index not in drop_train]\n",
    "decoder_target_train = [sentence for index, sentence in enumerate(decoder_target_train) if index not in drop_train]\n",
    "\n",
    "encoder_input_test = [sentence for index, sentence in enumerate(encoder_input_test) if index not in drop_test]\n",
    "decoder_input_test = [sentence for index, sentence in enumerate(decoder_input_test) if index not in drop_test]\n",
    "decoder_target_test = [sentence for index, sentence in enumerate(decoder_target_test) if index not in drop_test]\n",
    "\n",
    "print('훈련 데이터의 개수 :', len(encoder_input_train))\n",
    "print('훈련 레이블의 개수 :', len(decoder_input_train))\n",
    "print('테스트 데이터의 개수 :', len(encoder_input_test))\n",
    "print('테스트 레이블의 개수 :', len(decoder_input_test))"
   ]
  },
  {
   "cell_type": "code",
   "execution_count": 52,
   "id": "bdcb6ccf",
   "metadata": {},
   "outputs": [],
   "source": [
    "# 패딩하기\n",
    "encoder_input_train = pad_sequences(encoder_input_train, maxlen=text_max_len, padding='post')\n",
    "encoder_input_test = pad_sequences(encoder_input_test, maxlen=text_max_len, padding='post')\n",
    "decoder_input_train = pad_sequences(decoder_input_train, maxlen=headline_max_len, padding='post')\n",
    "decoder_target_train = pad_sequences(decoder_target_train, maxlen=headline_max_len, padding='post')\n",
    "decoder_input_test = pad_sequences(decoder_input_test, maxlen=headline_max_len, padding='post')\n",
    "decoder_target_test = pad_sequences(decoder_target_test, maxlen=headline_max_len, padding='post')"
   ]
  },
  {
   "cell_type": "markdown",
   "id": "2e424260",
   "metadata": {},
   "source": [
    "### 모델 설계 및 훈련"
   ]
  },
  {
   "cell_type": "code",
   "execution_count": 53,
   "id": "7c8c63df",
   "metadata": {},
   "outputs": [],
   "source": [
    "from tensorflow.keras.layers import Input, LSTM, Embedding, Dense, Concatenate, TimeDistributed\n",
    "from tensorflow.keras.models import Model\n",
    "from tensorflow.keras.callbacks import EarlyStopping, ModelCheckpoint\n",
    "\n",
    "\n",
    "# 인코더 설계 시작\n",
    "embedding_dim = 128\n",
    "hidden_size = 256\n",
    "\n",
    "# 인코더\n",
    "encoder_inputs = Input(shape=(text_max_len,))\n",
    "\n",
    "# 인코더의 임베딩 층\n",
    "enc_emb = Embedding(src_vocab, embedding_dim)(encoder_inputs)\n",
    "\n",
    "# 인코더의 LSTM 1\n",
    "# encoder_lstm1 = LSTM(hidden_size, return_sequences=True, return_state=True ,dropout = 0.4, recurrent_dropout = 0.4)\n",
    "encoder_lstm1 = LSTM(hidden_size, return_sequences=True, return_state=True ,dropout = 0.4)\n",
    "encoder_output1, state_h1, state_c1 = encoder_lstm1(enc_emb)\n",
    "\n",
    "# 인코더의 LSTM 2\n",
    "encoder_lstm2 = LSTM(hidden_size, return_sequences=True, return_state=True ,dropout = 0.4)\n",
    "encoder_output2, state_h2, state_c2 = encoder_lstm2(encoder_output1)\n",
    "# 인코더의 LSTM 3\n",
    "encoder_lstm3 = LSTM(hidden_size, return_sequences=True, return_state=True ,dropout = 0.4)\n",
    "encoder_outputs, state_h, state_c = encoder_lstm3(encoder_output2)"
   ]
  },
  {
   "cell_type": "code",
   "execution_count": 54,
   "id": "459e31ab",
   "metadata": {},
   "outputs": [],
   "source": [
    "# 디코더 설계\n",
    "decoder_inputs = Input(shape=(None,))\n",
    "\n",
    "# 디코더의 임베딩 층\n",
    "dec_emb_layer = Embedding(tar_vocab, embedding_dim)\n",
    "dec_emb = dec_emb_layer(decoder_inputs)\n",
    "\n",
    "# 디코더의 LSTM\n",
    "# decoder_lstm = LSTM(hidden_size, return_sequences=True, return_state=True, dropout=0.4, recurrent_dropout=0.2)\n",
    "decoder_lstm = LSTM(hidden_size, return_sequences=True, return_state=True, dropout=0.4)\n",
    "decoder_outputs, _, _ = decoder_lstm(dec_emb, initial_state=[state_h, state_c])"
   ]
  },
  {
   "cell_type": "code",
   "execution_count": 55,
   "id": "f8a3a8ec",
   "metadata": {},
   "outputs": [
    {
     "name": "stdout",
     "output_type": "stream",
     "text": [
      "Model: \"model\"\n",
      "__________________________________________________________________________________________________\n",
      "Layer (type)                    Output Shape         Param #     Connected to                     \n",
      "==================================================================================================\n",
      "input_1 (InputLayer)            [(None, 60)]         0                                            \n",
      "__________________________________________________________________________________________________\n",
      "embedding (Embedding)           (None, 60, 128)      2688000     input_1[0][0]                    \n",
      "__________________________________________________________________________________________________\n",
      "lstm (LSTM)                     [(None, 60, 256), (N 394240      embedding[0][0]                  \n",
      "__________________________________________________________________________________________________\n",
      "input_2 (InputLayer)            [(None, None)]       0                                            \n",
      "__________________________________________________________________________________________________\n",
      "lstm_1 (LSTM)                   [(None, 60, 256), (N 525312      lstm[0][0]                       \n",
      "__________________________________________________________________________________________________\n",
      "embedding_1 (Embedding)         (None, None, 128)    1267200     input_2[0][0]                    \n",
      "__________________________________________________________________________________________________\n",
      "lstm_2 (LSTM)                   [(None, 60, 256), (N 525312      lstm_1[0][0]                     \n",
      "__________________________________________________________________________________________________\n",
      "lstm_3 (LSTM)                   [(None, None, 256),  394240      embedding_1[0][0]                \n",
      "                                                                 lstm_2[0][1]                     \n",
      "                                                                 lstm_2[0][2]                     \n",
      "__________________________________________________________________________________________________\n",
      "dense (Dense)                   (None, None, 9900)   2544300     lstm_3[0][0]                     \n",
      "==================================================================================================\n",
      "Total params: 8,338,604\n",
      "Trainable params: 8,338,604\n",
      "Non-trainable params: 0\n",
      "__________________________________________________________________________________________________\n"
     ]
    }
   ],
   "source": [
    "# 디코더의 출력층\n",
    "decoder_softmax_layer = Dense(tar_vocab, activation='softmax')\n",
    "decoder_softmax_outputs = decoder_softmax_layer(decoder_outputs) \n",
    "\n",
    "# 모델 정의\n",
    "model = Model([encoder_inputs, decoder_inputs], decoder_softmax_outputs)\n",
    "model.summary()"
   ]
  },
  {
   "cell_type": "code",
   "execution_count": 56,
   "id": "50bf37ba",
   "metadata": {},
   "outputs": [
    {
     "name": "stdout",
     "output_type": "stream",
     "text": [
      "Model: \"model_1\"\n",
      "__________________________________________________________________________________________________\n",
      "Layer (type)                    Output Shape         Param #     Connected to                     \n",
      "==================================================================================================\n",
      "input_1 (InputLayer)            [(None, 60)]         0                                            \n",
      "__________________________________________________________________________________________________\n",
      "embedding (Embedding)           (None, 60, 128)      2688000     input_1[0][0]                    \n",
      "__________________________________________________________________________________________________\n",
      "lstm (LSTM)                     [(None, 60, 256), (N 394240      embedding[0][0]                  \n",
      "__________________________________________________________________________________________________\n",
      "input_2 (InputLayer)            [(None, None)]       0                                            \n",
      "__________________________________________________________________________________________________\n",
      "lstm_1 (LSTM)                   [(None, 60, 256), (N 525312      lstm[0][0]                       \n",
      "__________________________________________________________________________________________________\n",
      "embedding_1 (Embedding)         (None, None, 128)    1267200     input_2[0][0]                    \n",
      "__________________________________________________________________________________________________\n",
      "lstm_2 (LSTM)                   [(None, 60, 256), (N 525312      lstm_1[0][0]                     \n",
      "__________________________________________________________________________________________________\n",
      "lstm_3 (LSTM)                   [(None, None, 256),  394240      embedding_1[0][0]                \n",
      "                                                                 lstm_2[0][1]                     \n",
      "                                                                 lstm_2[0][2]                     \n",
      "__________________________________________________________________________________________________\n",
      "attention_layer (AdditiveAttent (None, None, 256)    256         lstm_3[0][0]                     \n",
      "                                                                 lstm_2[0][0]                     \n",
      "__________________________________________________________________________________________________\n",
      "concat_layer (Concatenate)      (None, None, 512)    0           lstm_3[0][0]                     \n",
      "                                                                 attention_layer[0][0]            \n",
      "__________________________________________________________________________________________________\n",
      "dense_1 (Dense)                 (None, None, 9900)   5078700     concat_layer[0][0]               \n",
      "==================================================================================================\n",
      "Total params: 10,873,260\n",
      "Trainable params: 10,873,260\n",
      "Non-trainable params: 0\n",
      "__________________________________________________________________________________________________\n"
     ]
    }
   ],
   "source": [
    "from tensorflow.keras.layers import AdditiveAttention\n",
    "\n",
    "# 어텐션 층(어텐션 함수)\n",
    "attn_layer = AdditiveAttention(name='attention_layer')\n",
    "\n",
    "# 인코더와 디코더의 모든 time step의 hidden state를 어텐션 층에 전달하고 결과를 리턴\n",
    "attn_out = attn_layer([decoder_outputs, encoder_outputs])\n",
    "\n",
    "\n",
    "# 어텐션의 결과와 디코더의 hidden state들을 연결\n",
    "decoder_concat_input = Concatenate(axis=-1, name='concat_layer')([decoder_outputs, attn_out])\n",
    "\n",
    "# 디코더의 출력층\n",
    "decoder_softmax_layer = Dense(tar_vocab, activation='softmax')\n",
    "decoder_softmax_outputs = decoder_softmax_layer(decoder_concat_input)\n",
    "\n",
    "# 모델 정의\n",
    "model = Model([encoder_inputs, decoder_inputs], decoder_softmax_outputs)\n",
    "model.summary()"
   ]
  },
  {
   "cell_type": "code",
   "execution_count": 57,
   "id": "fc4f756c",
   "metadata": {
    "scrolled": true
   },
   "outputs": [
    {
     "name": "stdout",
     "output_type": "stream",
     "text": [
      "Epoch 1/50\n",
      "290/290 [==============================] - 71s 106ms/step - loss: 5.6324 - val_loss: 5.2728\n",
      "Epoch 2/50\n",
      "290/290 [==============================] - 30s 105ms/step - loss: 5.1681 - val_loss: 4.9078\n",
      "Epoch 3/50\n",
      "290/290 [==============================] - 31s 108ms/step - loss: 4.8058 - val_loss: 4.6714\n",
      "Epoch 4/50\n",
      "290/290 [==============================] - 32s 110ms/step - loss: 4.5357 - val_loss: 4.4642\n",
      "Epoch 5/50\n",
      "290/290 [==============================] - 32s 109ms/step - loss: 4.3189 - val_loss: 4.2953\n",
      "Epoch 6/50\n",
      "290/290 [==============================] - 32s 110ms/step - loss: 4.1352 - val_loss: 4.1993\n",
      "Epoch 7/50\n",
      "290/290 [==============================] - 32s 110ms/step - loss: 3.9757 - val_loss: 4.0775\n",
      "Epoch 8/50\n",
      "290/290 [==============================] - 32s 110ms/step - loss: 3.8353 - val_loss: 4.0175\n",
      "Epoch 9/50\n",
      "290/290 [==============================] - 32s 110ms/step - loss: 3.7121 - val_loss: 3.9561\n",
      "Epoch 10/50\n",
      "290/290 [==============================] - 32s 110ms/step - loss: 3.5991 - val_loss: 3.9193\n",
      "Epoch 11/50\n",
      "290/290 [==============================] - 32s 110ms/step - loss: 3.4992 - val_loss: 3.8664\n",
      "Epoch 12/50\n",
      "290/290 [==============================] - 32s 110ms/step - loss: 3.4061 - val_loss: 3.8411\n",
      "Epoch 13/50\n",
      "290/290 [==============================] - 32s 110ms/step - loss: 3.3191 - val_loss: 3.8088\n",
      "Epoch 14/50\n",
      "290/290 [==============================] - 32s 110ms/step - loss: 3.2386 - val_loss: 3.7961\n",
      "Epoch 15/50\n",
      "290/290 [==============================] - 32s 110ms/step - loss: 3.1639 - val_loss: 3.7720\n",
      "Epoch 16/50\n",
      "290/290 [==============================] - 32s 110ms/step - loss: 3.0991 - val_loss: 3.7625\n",
      "Epoch 17/50\n",
      "290/290 [==============================] - 32s 110ms/step - loss: 3.0361 - val_loss: 3.7483\n",
      "Epoch 18/50\n",
      "290/290 [==============================] - 32s 110ms/step - loss: 2.9771 - val_loss: 3.7434\n",
      "Epoch 19/50\n",
      "290/290 [==============================] - 32s 110ms/step - loss: 2.9186 - val_loss: 3.7311\n",
      "Epoch 20/50\n",
      "290/290 [==============================] - 32s 110ms/step - loss: 2.8610 - val_loss: 3.7319\n",
      "Epoch 21/50\n",
      "290/290 [==============================] - 32s 110ms/step - loss: 2.8073 - val_loss: 3.7280\n",
      "Epoch 22/50\n",
      "290/290 [==============================] - 32s 110ms/step - loss: 2.7604 - val_loss: 3.7202\n",
      "Epoch 23/50\n",
      "290/290 [==============================] - 32s 110ms/step - loss: 2.7131 - val_loss: 3.7241\n",
      "Epoch 24/50\n",
      "290/290 [==============================] - 32s 110ms/step - loss: 2.6700 - val_loss: 3.7151\n",
      "Epoch 25/50\n",
      "290/290 [==============================] - 32s 110ms/step - loss: 2.6245 - val_loss: 3.7211\n",
      "Epoch 26/50\n",
      "290/290 [==============================] - 32s 110ms/step - loss: 2.5820 - val_loss: 3.7187\n",
      "Epoch 00026: early stopping\n"
     ]
    }
   ],
   "source": [
    "# 모델 컴파일\n",
    "model.compile(optimizer='rmsprop', loss='sparse_categorical_crossentropy')\n",
    "es = EarlyStopping(monitor='val_loss', patience=2, verbose=1)\n",
    "history = model.fit(x=[encoder_input_train, decoder_input_train], y=decoder_target_train, \\\n",
    "          validation_data=([encoder_input_test, decoder_input_test], decoder_target_test), \\\n",
    "          batch_size=256, callbacks=[es], epochs=50)"
   ]
  },
  {
   "cell_type": "code",
   "execution_count": 58,
   "id": "1bfacbcd",
   "metadata": {},
   "outputs": [
    {
     "data": {
      "image/png": "[encoded data removed]",
      "text/plain": [
       "<Figure size 432x288 with 1 Axes>"
      ]
     },
     "metadata": {
      "needs_background": "light"
     },
     "output_type": "display_data"
    }
   ],
   "source": [
    "plt.plot(history.history['loss'], label='train')\n",
    "plt.plot(history.history['val_loss'], label='test')\n",
    "plt.legend()\n",
    "plt.show()"
   ]
  },
  {
   "cell_type": "markdown",
   "id": "02b61cb3",
   "metadata": {},
   "source": [
    "### 인퍼런스 모델 구현하기"
   ]
  },
  {
   "cell_type": "code",
   "execution_count": 59,
   "id": "680a86c8",
   "metadata": {},
   "outputs": [],
   "source": [
    "src_index_to_word = src_tokenizer.index_word # 원문 단어 집합에서 정수 -> 단어를 얻음\n",
    "tar_word_to_index = tar_tokenizer.word_index # 요약 단어 집합에서 단어 -> 정수를 얻음\n",
    "tar_index_to_word = tar_tokenizer.index_word # 요약 단어 집합에서 정수 -> 단어를 얻음"
   ]
  },
  {
   "cell_type": "code",
   "execution_count": 60,
   "id": "d90582f6",
   "metadata": {},
   "outputs": [
    {
     "name": "stdout",
     "output_type": "stream",
     "text": [
      "=3\n"
     ]
    }
   ],
   "source": [
    "# 인코더 설계\n",
    "encoder_model = Model(inputs=encoder_inputs, outputs=[encoder_outputs, state_h, state_c])\n",
    "\n",
    "# 이전 시점의 상태들을 저장하는 텐서\n",
    "decoder_state_input_h = Input(shape=(hidden_size,))\n",
    "decoder_state_input_c = Input(shape=(hidden_size,))\n",
    "\n",
    "dec_emb2 = dec_emb_layer(decoder_inputs)\n",
    "\n",
    "# 문장의 다음 단어를 예측하기 위해서 초기 상태(initial_state)를 이전 시점의 상태로 사용. 이는 뒤의 함수 decode_sequence()에 구현\n",
    "# 훈련 과정에서와 달리 LSTM의 리턴하는 은닉 상태와 셀 상태인 state_h와 state_c를 버리지 않음.\n",
    "decoder_outputs2, state_h2, state_c2 = decoder_lstm(dec_emb2, initial_state=[decoder_state_input_h, decoder_state_input_c])\n"
   ]
  },
  {
   "cell_type": "code",
   "execution_count": 61,
   "id": "1ecc6d9b",
   "metadata": {},
   "outputs": [],
   "source": [
    "# 어텐션 함수\n",
    "decoder_hidden_state_input = Input(shape=(text_max_len, hidden_size))\n",
    "attn_out_inf = attn_layer([decoder_outputs2, decoder_hidden_state_input])\n",
    "decoder_inf_concat = Concatenate(axis=-1, name='concat')([decoder_outputs2, attn_out_inf])\n",
    "\n",
    "# 디코더의 출력층\n",
    "decoder_outputs2 = decoder_softmax_layer(decoder_inf_concat) \n",
    "\n",
    "# 최종 디코더 모델\n",
    "decoder_model = Model(\n",
    "    [decoder_inputs] + [decoder_hidden_state_input,decoder_state_input_h, decoder_state_input_c],\n",
    "    [decoder_outputs2] + [state_h2, state_c2])"
   ]
  },
  {
   "cell_type": "code",
   "execution_count": 65,
   "id": "e0030533",
   "metadata": {},
   "outputs": [],
   "source": [
    "def decode_sequence(input_seq):\n",
    "    # 입력으로부터 인코더의 상태를 얻음\n",
    "    e_out, e_h, e_c = encoder_model.predict(input_seq)\n",
    "\n",
    "     # <SOS>에 해당하는 토큰 생성\n",
    "    target_seq = np.zeros((1,1))\n",
    "    target_seq[0, 0] = tar_word_to_index['sostoken']\n",
    "\n",
    "    stop_condition = False\n",
    "    decoded_sentence = ''\n",
    "    while not stop_condition: # stop_condition이 True가 될 때까지 루프 반복\n",
    "\n",
    "        output_tokens, h, c = decoder_model.predict([target_seq] + [e_out, e_h, e_c])\n",
    "        sampled_token_index = np.argmax(output_tokens[0, -1, :])\n",
    "        sampled_token = tar_index_to_word[sampled_token_index]\n",
    "\n",
    "        if (sampled_token!='eostoken'):\n",
    "            decoded_sentence += ' '+sampled_token\n",
    "\n",
    "        #  <eos>에 도달하거나 최대 길이를 넘으면 중단.\n",
    "        if (sampled_token == 'eostoken'  or len(decoded_sentence.split()) >= (headline_max_len-1)):\n",
    "            stop_condition = True\n",
    "\n",
    "        # 길이가 1인 타겟 시퀀스를 업데이트\n",
    "        target_seq = np.zeros((1,1))\n",
    "        target_seq[0, 0] = sampled_token_index\n",
    "\n",
    "        # 상태를 업데이트 합니다.\n",
    "        e_h, e_c = h, c\n",
    "\n",
    "    return decoded_sentence"
   ]
  },
  {
   "cell_type": "code",
   "execution_count": 72,
   "id": "0950ff01",
   "metadata": {},
   "outputs": [
    {
     "name": "stdout",
     "output_type": "stream",
     "text": [
      "=3\n"
     ]
    }
   ],
   "source": [
    "# 원문의 정수 시퀀스를 텍스트 시퀀스로 변환\n",
    "def seq2text(input_seq):\n",
    "    temp=''\n",
    "    for i in input_seq:\n",
    "        if (i!=0):\n",
    "            temp = temp + src_index_to_word[i]+' '\n",
    "    return temp\n",
    "\n",
    "# 요약문의 정수 시퀀스를 텍스트 시퀀스로 변환\n",
    "def seq2summary(input_seq):\n",
    "    temp=''\n",
    "    for i in input_seq:\n",
    "        if (i!=0):\n",
    "            temp = temp + tar_index_to_word[i]+' '\n",
    "    temp = temp.replace(\"sostoken\", \"\").replace(\"eostoken\", \"\")\n",
    "    return temp"
   ]
  },
  {
   "cell_type": "code",
   "execution_count": 73,
   "id": "84b4921d",
   "metadata": {
    "scrolled": false
   },
   "outputs": [
    {
     "name": "stdout",
     "output_type": "stream",
     "text": [
      "원문 : saif ali khan will reportedly make comeback in the race franchise by starring in race saif who starred in race and race has been approached by ramesh taurani to join the race franchise again as per reports race which was directed by remo souza starred salman khan anil kapoor bobby deol jacqueline fernandez and daisy shah \n",
      "실제 요약 :  saif ali khan join race franchise reports \n",
      "예측 요약 :  katrina shares pic saif sets race\n",
      "\n",
      "\n",
      "원문 : while speaking about the roles written for older women in indian films veteran actress said after certain age you are given nothing to do same old thing again and again do mother role here and mother role there the actress added will be seen playing grandmother in upcoming horror web series \n",
      "실제 요약 :  certain age given role mother \n",
      "예측 요약 :  think girl life days\n",
      "\n",
      "\n",
      "원문 : the anti corruption bureau has said ex delhi minister kapil mishra has submitted no concrete evidence against cm arvind kejriwal report stated mishra had submitted drafted by him about the tanker scam documents he had earlier submitted an official reportedly said mishra has alleged he saw delhi minister satyendar jain giving crore to kejriwal \n",
      "실제 요약 :  mishra concrete proof kejriwal \n",
      "예측 요약 :  kejriwal kapil mishra sent judicial custody\n",
      "\n",
      "\n",
      "원문 : the release date of shahid kapoor half brother ishaan khatter debut film beyond the clouds has been postponed to april the film was earlier scheduled to release on march beyond the clouds has been directed by iranian filmmaker majid majidi and also stars actress malavika mohanan who is playing ishaan sister \n",
      "실제 요약 :  release date ishaan khatter debut film postponed \n",
      "예측 요약 :  release date shahid kapoor starrer announced\n",
      "\n",
      "\n",
      "원문 : researchers have identified two post ice age climate events in uk based archaeological site which saw average temperatures drop by over within decade without impacting human activity the community left several pieces of worked wood animal bones and tools layered in mud as evidence of their continued productivity and endurance years ago noted researchers \n",
      "실제 요약 :  humans survived climate change yrs ago study \n",
      "예측 요약 :  scientists find human eating year old\n",
      "\n",
      "\n",
      "원문 : as many as people were arrested by the uttar pradesh police on thursday for writing answers on behalf of students in class up board exams students were present in examination halls but people were found solving their papers in nearby residence police said this comes after up government installed cctvs in examination halls to curb cheating \n",
      "실제 요약 :  arrested mass cheating class exams \n",
      "예측 요약 :  arrested class students exam\n",
      "\n",
      "\n",
      "원문 : the trailer of band the film which marks the debut of raj kapoor grandson aadar jain and singh was released today the film revolves around who come together to form band in jail written and directed by habib faisal the film is scheduled to release on august \n",
      "실제 요약 :  trailer debut film raj kapoor grandson \n",
      "예측 요약 :  trailer rishi kapoor starrer released\n",
      "\n",
      "\n",
      "원문 : former personal assistant to chinese born billionaire guo has filed million lawsuit in new york accusing him of raping her the year old woman said she was lured to new york under the guise of one week business trip she said she was held captive and subjected to repeated acts of mental cruelty and sexual violence \n",
      "실제 요약 :  chinese billionaire sued crore raping assistant \n",
      "예측 요약 :  ex employee sues ex employee stealing\n",
      "\n",
      "\n",
      "원문 : using electron whose developers won the chemistry nobel swedish researchers have identified new inside human sperm tail the method produced images by freezing the sperm to about which showed spiral structure stretching in from the tip scientists believe it prevents the sperm from growing and shrinking helping them swim towards the egg \n",
      "실제 요약 :  new feature found human sperm using nobel winning method \n",
      "예측 요약 :  scientists discover new human cells\n",
      "\n",
      "\n",
      "원문 : the danish parliament on thursday voted in favour of ban on full face veils in public including islamic veils such as the or burqa the government said the ban which will come into force on august is not aimed at any religion violations of the anti veil law will result in fine \n",
      "실제 요약 :  denmark imposes ban burqa public \n",
      "예측 요약 :  spain passes resolution anti anti terror ban\n",
      "\n",
      "\n",
      "원문 : french software major india operations ceo srinivas has said india is source of innovation rather than merely source of cheaper workforce its structure may change but india will remain hub for software services for us and for the whole world he said adding they have started on the business transformation to focus more on innovation \n",
      "실제 요약 :  india source innovation cheap labour \n",
      "예측 요약 :  india invest us market tcs\n",
      "\n",
      "\n",
      "원문 : french ice dancers and took second place in monday short program at winter olympics despite wardrobe malfunction the duo was performing on ed sheeran shape of you when costume from around her neck and exposed her left breast for part of the routine my worst nightmare happened at the olympics later said \n",
      "실제 요약 :  ice dancer suffers malfunction still finishes nd \n",
      "예측 요약 :  boxer olympic opponent\n",
      "\n",
      "\n",
      "원문 : mobile advertising startup inmobi co founder mohit saxena has announced his decision to step down as its chief technology officer saxena along with iit graduates naveen tewari abhay singhal and amit gupta had co founded inmobi in inmobi is one of the first india based firms that japanese telecommunications major softbank invested in \n",
      "실제 요약 :  co founder step cto \n",
      "예측 요약 :  founder co founder founder quits\n",
      "\n",
      "\n",
      "원문 : saudi arabia has arrested an egyptian national after video of him eating with female colleague went viral on social media according to saudi laws women at workplaces must sit in private setting separate from men saudi accused the egyptian who worked at hotel of committing several violations and working in profession exclusively reserved for saudis \n",
      "실제 요약 :  saudi arabia arrests man ate female colleague \n",
      "예측 요약 :  saudi arabia arrests women dog\n",
      "\n",
      "\n",
      "원문 : the cbi has booked securities and its owner sanjay gupta for allegedly hacking nse server architecture sanjay gupta developed software and allegedly colluded with nse officials to get market feeds from the exchange server faster than others in high frequency trading an edge of few seconds can make huge difference to officials said \n",
      "실제 요약 :  cbi books hacking nse fast access \n",
      "예측 요약 :  cbi books former employee stealing theft\n",
      "\n",
      "\n",
      "원문 : arun jaitley has resumed charge as the finance minister and minister of corporate affairs after taking break for three months to undergo kidney transplant in jaitley absence railways minister piyush goyal held additional charges of his ministry his return comes amid indian rupee slump which went past against the dollar earlier this month \n",
      "실제 요약 :  arun jaitley returns finance minister kidney transplant \n",
      "예측 요약 :  govt jaitley finance budget\n",
      "\n",
      "\n",
      "원문 : asteroid cc estimated to be around metres in size safely flew past earth on wednesday at am ist at distance of about km nearly half the average earth moon distance nasa revealed meanwhile another same sized asteroid would make its closest approach of less than one fifth the average earth moon distance on february nasa added \n",
      "실제 요약 :  asteroid zooms past earth half distance moon \n",
      "예측 요약 :  asteroid asteroid past earth moon\n",
      "\n",
      "\n",
      "원문 : the film mother india starring nargis sunil dutt and rajendra kumar was the first indian film to be nominated for the best foreign language film category at the oscars however the film did not win the award and lost out to italian movie nights of mother india won several awards in india including the filmfare award for best film \n",
      "실제 요약 :  st indian film nominated oscars \n",
      "예측 요약 :  best film actress best film release\n",
      "\n",
      "\n",
      "원문 : indian football team captain sunil chhetri marked his th international appearance with two goals in india victory over kenya in the intercontinental cup on monday chhetri who is the third best active international goal scorer after cristiano ronaldo and lionel messi has now scored international goals notably all the tickets for the match were sold out following chhetri plea \n",
      "실제 요약 :  chhetri scores twice th match india beat kenya \n",
      "예측 요약 :  chhetri chhetri chhetri th straight year\n",
      "\n",
      "\n",
      "원문 : parineeti chopra while speaking on pakistani actress mahira khan being slut shamed for wearing dress and smoking with actor ranbir kapoor said it is unfair everybody knows it is unfair and it will stop she added parineeti further said that in today time everything becomes too big deal because of social media \n",
      "실제 요약 :  unfair parineeti mahira khan slut shamed \n",
      "예측 요약 :  want work ranbir kapoor\n",
      "\n",
      "\n",
      "원문 : mumbai indians mayank who is the ipl current purple cap holder was just years old when the first edition of the tournament took place in the year old leg spinner from punjab was bought by mumbai indians for lakh at the auction in january ms dhoni shikhar dhawan and manish pandey are among his scalps this season \n",
      "실제 요약 :  ipl current cap holder ipl started \n",
      "예측 요약 :  mi ipl captain mi captain\n",
      "\n",
      "\n",
      "원문 : seven men were booked on charges of attempting to rape year old it professional in gurugram building on thursday night two brothers living in an apartment had invited five others for party and were drunk said the police the woman was allegedly assaulted by the accused near the staircase but managed to escape and inform her parents \n",
      "실제 요약 :  men attempt rape year old woman gurugram \n",
      "예측 요약 :  gang gang raped men months jail\n",
      "\n",
      "\n",
      "원문 : crpf personnel pankaj misra who had deserted the force after posting facebook video against home minister rajnath singh after the recent naxal attack in sukma surrendered in delhi on saturday misra who lost one of his relatives in the attack was asked by the delhi high court to surrender after he claimed being assaulted by his \n",
      "실제 요약 :  crpf slammed home min fb video surrenders \n",
      "예측 요약 :  crpf jawan suspended rajnath singh attack\n",
      "\n",
      "\n",
      "원문 : delhi based tailor rahul anwar who on thursday was arrested for murdering year old fashion designer mala had left the house around four years ago after regular fights with his father his mother said anwar assaulted his father year ago for objecting to his liquor and gambling police said anwar also has case of sexually assaulting minor \n",
      "실제 요약 :  left yrs ago fight mother killed designer \n",
      "예측 요약 :  delhi man arrested raping woman\n",
      "\n",
      "\n",
      "원문 : union home minister rajnath singh on saturday said he is not ready to believe that stone pelters in jammu and kashmir are terrorists he also asserted that he does not believe kashmir or kashmiris are india enemies the centre policy was to withdraw cases against first time stone pelters especially the youth he added \n",
      "실제 요약 :  ready believe stone pelters terrorists rajnath \n",
      "예측 요약 :  people rajnath rajnath singh\n",
      "\n",
      "\n",
      "원문 : speaking about the pakistan general elections congress leader shashi tharoor said that pakistan tehreek insaf leader imran khan expected win will not necessarily be weather for indo pak relations for the last year also we have been hearing that the military wants change that they see imran khan as the most potential he added \n",
      "실제 요약 :  imran khan win affect indo pak relations tharoor \n",
      "예측 요약 :  imran khan offers peace pak world imran khan\n",
      "\n",
      "\n",
      "원문 : the supreme court has ruled that woman can file complaint against her ex husband for committing cruelty under the domestic violence law even after securing divorce the sc refused to interfere in rajasthan high court order which held that the absence of domestic relationship will not stop the court from providing relief to the affected woman \n",
      "실제 요약 :  domestic violence complaint filed divorce sc \n",
      "예측 요약 :  sc rejects plea woman year old son\n",
      "\n",
      "\n",
      "원문 : congress spokesperson kk mishra has blamed for the party election loss in madhya pradesh according to reports expert who was asked to survey the congress headquarters has advised the party to change the on the building third floor because they are facing the wrong direction congress has not won elections in madhya pradesh since \n",
      "실제 요약 :  congress blames election loss mp \n",
      "예측 요약 :  cong cong party posts party\n",
      "\n",
      "\n",
      "원문 : the karnataka cabinet on tuesday cleared the anti superstition bill to prevent inhuman evil practices and said it would be tabled in the next state assembly session the bill makes involvement in practices like walking on fire and rods through offences punishable with two to five years imprisonment however and are considered acceptable under the bill \n",
      "실제 요약 :  karnataka cabinet clears anti bill \n",
      "예측 요약 :  taka govt issues anti drug treatment\n",
      "\n",
      "\n",
      "원문 : at least four policemen have been killed while two have been seriously injured in an improvised explosive device blast on saturday in jammu and kashmir baramulla district reportedly the explosive was planted beneath shop damaging nearby shops as well no individual or group has claimed responsibility for the blast as of now \n",
      "실제 요약 :  policemen killed blast jammu kashmir \n",
      "예측 요약 :  killed injured explosion explosion kashmir\n",
      "\n",
      "\n",
      "원문 : bill gates backed startup sciences which uses food waste and plant material to keep fruits and vegetables has raised million in funding the series round was led by viking global investors with participation from upfront ventures and ventures as part of the round former whole foods executive walter has joined the startup board \n",
      "실제 요약 :  bill gates backed startup gets mn keep fruits \n",
      "예측 요약 :  time startup backed cars\n",
      "\n",
      "\n",
      "원문 : bali on saturday shut down the internet service on mobiles and television and radio across the territory for hours to mark its annual day of silence new year according to the calendar the indonesian island has also closed its international airport and its citizens are supposed to stay indoors throughout the day with all lights switched off \n",
      "실제 요약 :  bali shuts internet airport hrs day silence \n",
      "예측 요약 :  noida bans bullet train\n",
      "\n",
      "\n",
      "원문 : disney india is set to launch style musical based on aladdin in said officials we feel aladdin has universal appeal and the musical will bring the magical story alive making it truly memorable for our audiences here read statement disney india had earlier staged beauty and the beast as musical in india \n",
      "실제 요약 :  disney launch musical india \n",
      "예측 요약 :  india launches new zealand astronauts\n",
      "\n",
      "\n",
      "원문 : vishva hindu parishad secretary sharan has said that it is not wrong to beat up girl who is drinking and dancing in pub can we just sit quiet and watch mangalore is cultural place with good that is why the youth want to put an end to such things he further said \n",
      "실제 요약 :  wrong beat girls dance drink vhp leader \n",
      "예측 요약 :  would surgery girl wearing surgery\n",
      "\n",
      "\n",
      "원문 : indian women cricket team captain mithali raj has become the first ever woman to smash fifties in odi cricket achieving the feat against england on thursday the year old who is the most capped women odi player slammed off balls to help india win the series mithali is the leading run getter with runs in women odis \n",
      "실제 요약 :  mithali raj becomes st woman ever hit fifties odis \n",
      "예측 요약 :  mithali raj st indian slam woman hit int cricket\n",
      "\n",
      "\n",
      "원문 : union minister of state jitendra singh on sunday said mainstream politicians of kashmir are more dangerous than separatist leaders stand taken by separatists is relatively while the so called mainstream leaders turn separatists or by convenience he added he also slammed the selective condemnation of human rights violation by kashmir centric parties \n",
      "실제 요약 :  kashmir leaders dangerous separatists union min \n",
      "예측 요약 :  constitution constitution union minister\n",
      "\n",
      "\n",
      "원문 : former england cricket team captain kevin pietersen took to twitter to slam sky sports commentators for in on the indian premier league despite being against the tournament initially adding the same commentators played major part in ending his england career pietersen said hilarious how the ipl is not viewed as tournament for who only care about cash \n",
      "실제 요약 :  kevin pietersen slams ipl \n",
      "예측 요약 :  ex england captain captain captain ipl\n",
      "\n",
      "\n",
      "원문 : officials in china xinjiang region have released list of banned baby names which includes muslim religious names like quran saddam and mecca all children having names banned under the new legislation will not be entitled to household registration which will also deny them facilities like government education and healthcare notably around half of chinese muslims live in xinjiang \n",
      "실제 요약 :  china bans muslim religious names babies \n",
      "예측 요약 :  china bans child child muslim muslim muslim muslim muslim\n",
      "\n",
      "\n",
      "원문 : indian medical association president dr ravi has said the reduced cost of treatments under the national health protection mission dubbed as will lead to compromised quality of services adding that the rates will expose patients to danger he said the scheme will breed corruption treatments and surgeries will be provided at cheaper rates under the initiative \n",
      "실제 요약 :  low rates modicare reduce quality medical body \n",
      "예측 요약 :  govt announces jobs months\n",
      "\n",
      "\n",
      "원문 : bse chairman ravi has been booked in the case against former aircel promoter companies for allegedly defrauding idbi bank of crore ravi is an independent director and chairman of audit committee of idbi bank the cbi has named idbi bank officials who worked at senior levels between when loans were sanctioned to firms \n",
      "실제 요약 :  bse chairman ravi named cr idbi loan fraud case \n",
      "예측 요약 :  cbi probe former infosys head cr fraud case\n",
      "\n",
      "\n",
      "원문 : taking dig at opposition parties up cm yogi adityanath has said that sort of movement is presently underway in the state he added that the opposition parties stall the proceedings of the house people have given these parties right to sit on the opposition benches but they fear they will lose that as well up cm said further \n",
      "실제 요약 :  movement happening cm opposition parties \n",
      "예측 요약 :  people adityanath adityanath\n",
      "\n",
      "\n",
      "원문 : actor ranbir kapoor on being asked about his relationships said have had less than girlfriends like love stories am more on the romantic side not he added ranbir who earlier dated deepika padukone and katrina kaif is said to be dating his brahm stra co star alia bhatt currently \n",
      "실제 요약 :  less girlfriends ranbir \n",
      "예측 요약 :  ranbir kapoor ranbir kapoor ranbir\n",
      "\n",
      "\n",
      "원문 : three days after vishal sikka resignation as infosys ceo and md the company has slipped out of the list of top companies by market capitalisation on bse notably in just two days of trading infosys has lost about crore state owned oil producer ongc has replaced infosys to become the th most valuable company \n",
      "실제 요약 :  infosys drops india top valued companies \n",
      "예측 요약 :  infosys ceo sikka resigns years\n",
      "\n",
      "\n",
      "원문 : after man accused him of rash driving his suv on beach ex goa minister francisco alias said he was trying to save friend life denied allegations he assaulted the man who uploaded video of himself confronting the minister in the video is showing his middle finger and allegedly attempting to assault the man \n",
      "실제 요약 :  beach save life ex minister viral video \n",
      "예측 요약 :  man caught molesting woman goa cm\n",
      "\n",
      "\n",
      "원문 : the number of paramilitary jawans who have committed suicide is more than those killed in action according to home ministry data for various time periods while bsf jawans have committed suicide jawans have been killed in action since the cisf has lost only one jawan in action while cisf personnel have killed themselves since \n",
      "실제 요약 :  paramilitary jawans commit suicide deaths action \n",
      "예측 요약 :  jawans killed suicide crpf jawan\n",
      "\n",
      "\n",
      "원문 : thousands of people took to the streets in london on saturday for protest calling for referendum on the final brexit deal the protesters waved eu flags and held up to brexit banners prime minister theresa may has already said another referendum is not an option and ruled out such vote \n",
      "실제 요약 :  thousands take streets london demanding nd brexit vote \n",
      "예측 요약 :  thousands march amid protest amid crisis\n",
      "\n",
      "\n",
      "원문 : american chipmaker intel which was founded years ago in california on july has an asteroid named after its in france observatory named main belt asteroid intel in honour of the invention which was the first bit processor and soon became industry standard interestingly intel santa phone number ends with \n",
      "실제 요약 :  asteroid named intel chip \n",
      "예측 요약 :  microsoft shares oldest earth years\n",
      "\n",
      "\n",
      "원문 : year old boy blew himself up at the office of russia federal security service the country main domestic security and intelligence service on wednesday the bomber reportedly described himself as communist and wrote on social media that he would target the because it cases and people three employees were injured in the blast \n",
      "실제 요약 :  yr old blows russia intelligence agency office \n",
      "예측 요약 :  year old mexican boy killed anti terror attack\n",
      "\n",
      "\n",
      "원문 : day after congress president rahul gandhi said that he was ready to be the next indian prime minister in pm narendra modi said how can someone just declare himself as the pm this is simply nothing but arrogance calling him modi added congress culture communalism casteism corruption crime and contract system have destroyed karnataka \n",
      "실제 요약 :  pm modi calls rahul arrogant pm remark \n",
      "예측 요약 :  pm modi calls india good pm\n",
      "\n",
      "\n",
      "원문 : after the icc announced that the world will be known as world cup from edition former england captain michael vaughan mocked the decision tweeting that is the best news heard all year it been affecting me so much such huge change no more nights user wrote reacting to vaughan tweet \n",
      "실제 요약 :  huge change ex england captain renaming world \n",
      "예측 요약 :  icc world cup winning player\n",
      "\n",
      "\n"
     ]
    }
   ],
   "source": [
    "for i in range(50, 100):\n",
    "    print(\"원문 :\", seq2text(encoder_input_test[i]))\n",
    "    print(\"실제 요약 :\", seq2summary(decoder_input_test[i]))\n",
    "    print(\"예측 요약 :\", decode_sequence(encoder_input_test[i].reshape(1, text_max_len)))\n",
    "    print(\"\\n\")"
   ]
  },
  {
   "cell_type": "markdown",
   "id": "92c78860",
   "metadata": {},
   "source": [
    "### 인퍼런스 모델 리뷰\n",
    "- 생각보다 요약이 잘 되는 것 같지는 않다. 예측 요약으로 원문 텍스트의 내용을 파악하기보다는, 원문 텍스트가 다루는 주제만 간신히 짐작할 수 있다.\n",
    "- 요약된 문장에서 불용어와 부호가 제거된 모습을 볼 수 있다. 이를 어법에 맞도록 되돌리는 것이 필요해 보인다."
   ]
  },
  {
   "cell_type": "markdown",
   "id": "21b0521b",
   "metadata": {},
   "source": [
    "### Summa를 이용한 추출적 요약 구현"
   ]
  },
  {
   "cell_type": "code",
   "execution_count": 101,
   "id": "6c59556b",
   "metadata": {},
   "outputs": [],
   "source": [
    "from summa.summarizer import summarize"
   ]
  },
  {
   "cell_type": "code",
   "execution_count": 102,
   "id": "3645a9bc",
   "metadata": {},
   "outputs": [],
   "source": [
    "orig_data = pd.read_csv('news_summary_more.csv', encoding='iso-8859-1')"
   ]
  },
  {
   "cell_type": "code",
   "execution_count": 111,
   "id": "f3446307",
   "metadata": {},
   "outputs": [],
   "source": [
    "texts = list(orig_data[:10]['text'].to_dict().values())\n",
    "summaries = list(orig_data[:10]['headlines'].to_dict().values())"
   ]
  },
  {
   "cell_type": "code",
   "execution_count": 136,
   "id": "d680e1e2",
   "metadata": {
    "scrolled": false
   },
   "outputs": [
    {
     "name": "stdout",
     "output_type": "stream",
     "text": [
      "# 1\n",
      "원문 텍스트: Saurav Kant, an alumnus of upGrad and IIIT-B's PG Program in Machine learning and Artificial Intelligence, was a Sr Systems Engineer at Infosys with almost 5 years of work experience. The program and upGrad's 360-degree career support helped him transition to a Data Scientist at Tech Mahindra with 90% salary hike. upGrad's Online Power Learning has powered 3 lakh+ careers.\n",
      "실제 요약: upGrad learner switches to career in ML & Al with 90% salary hike\n",
      "summa 추출 요약: upGrad's Online Power Learning has powered 3 lakh+ careers.\n",
      "\n",
      "# 2\n",
      "원문 텍스트: Kunal Shah's credit card bill payment platform, CRED, gave users a chance to win free food from Swiggy for one year. Pranav Kaushik, a Delhi techie, bagged this reward after spending 2000 CRED coins. Users get one CRED coin per rupee of bill paid, which can be used to avail rewards from brands like Ixigo, BookMyShow, UberEats, Cult.Fit and more.\n",
      "실제 요약: Delhi techie wins free food from Swiggy for one year on CRED\n",
      "summa 추출 요약: Users get one CRED coin per rupee of bill paid, which can be used to avail rewards from brands like Ixigo, BookMyShow, UberEats, Cult.Fit and more.\n",
      "\n",
      "# 3\n",
      "원문 텍스트: New Zealand defeated India by 8 wickets in the fourth ODI at Hamilton on Thursday to win their first match of the five-match ODI series. India lost an international match under Rohit Sharma's captaincy after 12 consecutive victories dating back to March 2018. The match witnessed India getting all out for 92, their seventh lowest total in ODI cricket history.\n",
      "실제 요약: New Zealand end Rohit Sharma-led India's 12-match winning streak\n",
      "summa 추출 요약: The match witnessed India getting all out for 92, their seventh lowest total in ODI cricket history.\n",
      "\n",
      "# 4\n",
      "원문 텍스트: With Aegon Life iTerm Insurance plan, customers can enjoy tax benefits on your premiums paid and save up to Ã¢ÂÂ¹46,800^ on taxes. The plan provides life cover up to the age of 100 years. Also, customers have options to insure against Critical Illnesses, Disability and Accidental Death Benefit Rider with a life cover up to the age of 80 years.\n",
      "실제 요약: Aegon life iTerm insurance plan helps customers save tax\n",
      "summa 추출 요약: Also, customers have options to insure against Critical Illnesses, Disability and Accidental Death Benefit Rider with a life cover up to the age of 80 years.\n",
      "\n",
      "# 5\n",
      "원문 텍스트: Speaking about the sexual harassment allegations against Rajkumar Hirani, Sonam Kapoor said, \"I've known Hirani for many years...What if it's not true, the [#MeToo] movement will get derailed.\" \"In the #MeToo movement, I always believe a woman. But in this case, we need to reserve our judgment,\" she added. Hirani has been accused by an assistant who worked in 'Sanju'.\n",
      "실제 요약: Have known Hirani for yrs, what if MeToo claims are not true: Sonam\n",
      "summa 추출 요약: Speaking about the sexual harassment allegations against Rajkumar Hirani, Sonam Kapoor said, \"I've known Hirani for many years...What if it's not true, the [#MeToo] movement will get derailed.\" \"In the #MeToo movement, I always believe a woman.\n",
      "\n",
      "# 6\n",
      "원문 텍스트: Pakistani singer Rahat Fateh Ali Khan has denied receiving any notice from the Enforcement Directorate over allegedly smuggling foreign currency out of India. \"It would have been better if the authorities would have served the notice first if any and then publicised this,\" reads a press release issued on behalf of Rahat. The statement further called the allegation \"bizarre\".\n",
      "실제 요약: Rahat Fateh Ali Khan denies getting notice for smuggling currency\n",
      "summa 추출 요약: Pakistani singer Rahat Fateh Ali Khan has denied receiving any notice from the Enforcement Directorate over allegedly smuggling foreign currency out of India.\n",
      "\n",
      "# 7\n",
      "원문 텍스트: India recorded their lowest ODI total in New Zealand after getting all out for 92 runs in 30.5 overs in the fourth ODI at Hamilton on Thursday. Seven of India's batsmen were dismissed for single-digit scores, while their number ten batsman Yuzvendra Chahal top-scored with 18*(37). India's previous lowest ODI total in New Zealand was 108.\n",
      "실제 요약: India get all out for 92, their lowest ODI total in New Zealand\n",
      "summa 추출 요약: India's previous lowest ODI total in New Zealand was 108.\n",
      "\n",
      "# 8\n",
      "원문 텍스트: Weeks after ex-CBI Director Alok Verma told the Department of Personnel and Training to consider him retired, the Home Ministry asked him to join work on the last day of his fixed tenure as Director on Thursday. The ministry directed him to immediately join as DG, Fire Services, the post he was transferred to after his removal as CBI chief.\n",
      "실제 요약: Govt directs Alok Verma to join work 1 day before his retirement\n",
      "summa 추출 요약: Weeks after ex-CBI Director Alok Verma told the Department of Personnel and Training to consider him retired, the Home Ministry asked him to join work on the last day of his fixed tenure as Director on Thursday.\n",
      "\n",
      "# 9\n",
      "원문 텍스트: Andhra Pradesh CM N Chandrababu Naidu has said, \"When I met then US President Bill Clinton, I addressed him as Mr Clinton, not as 'sir'. (PM Narendra) Modi is my junior in politics...I addressed him as sir 10 times.\" \"I did this...to satisfy his ego in the hope that he will do justice to the state,\" he added.\n",
      "실제 요약: Called PM Modi 'sir' 10 times to satisfy his ego: Andhra CM\n",
      "summa 추출 요약: Andhra Pradesh CM N Chandrababu Naidu has said, \"When I met then US President Bill Clinton, I addressed him as Mr Clinton, not as 'sir'.\n",
      "\n",
      "# 10\n",
      "원문 텍스트: Congress candidate Shafia Zubair won the Ramgarh Assembly seat in Rajasthan, by defeating BJP's Sukhwant Singh with a margin of 12,228 votes in the bypoll. With this victory, Congress has taken its total to 100 seats in the 200-member assembly. The election to the Ramgarh seat was delayed due to the death of sitting MLA and BSP candidate Laxman Singh.\n",
      "실제 요약: Cong wins Ramgarh bypoll in Rajasthan, takes total to 100 seats\n",
      "summa 추출 요약: Congress candidate Shafia Zubair won the Ramgarh Assembly seat in Rajasthan, by defeating BJP's Sukhwant Singh with a margin of 12,228 votes in the bypoll.\n",
      "\n"
     ]
    }
   ],
   "source": [
    "for i in range(len(texts)):\n",
    "    print(f\"# {i + 1}\")\n",
    "    print(\"원문 텍스트:\", texts[i])\n",
    "    print(\"실제 요약:\", summaries[i])\n",
    "    print(\"summa 추출 요약:\", summarize(texts[i], ratio=0.5))\n",
    "    print()\n",
    "    \n"
   ]
  },
  {
   "cell_type": "markdown",
   "id": "65379348",
   "metadata": {},
   "source": [
    "### summa 추출적 요약 리뷰\n",
    "\n",
    "- ratio가 0.5보다 작아지는 경우, 요약 자체가 진행이 되지 않는 경우가 있는 것을 확인하였다. summa 리뷰의 경우 원문 텍스트가 길어야 요약이 적절하게 되는 것 같다고 생각한다. \n",
    "- 원본 텍스트의 내용을 그대로 발췌하여 요약하는 모습을 확인할 수 있었다."
   ]
  }
 ],
 "metadata": {
  "kernelspec": {
   "display_name": "Python 3 (ipykernel)",
   "language": "python",
   "name": "python3"
  },
  "language_info": {
   "codemirror_mode": {
    "name": "ipython",
    "version": 3
   },
   "file_extension": ".py",
   "mimetype": "text/x-python",
   "name": "python",
   "nbconvert_exporter": "python",
   "pygments_lexer": "ipython3",
   "version": "3.9.7"
  }
 },
 "nbformat": 4,
 "nbformat_minor": 5
}
