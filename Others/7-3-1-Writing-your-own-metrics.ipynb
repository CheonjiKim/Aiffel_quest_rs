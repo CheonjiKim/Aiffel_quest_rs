{
 "cells": [
  {
   "cell_type": "markdown",
   "metadata": {},
   "source": [
    "# 사용자 정의 지표 만들기  \n",
    "<p>케라스에서 모델의 성능을 평가하는 지표를 사용자가 직접 정의할 수 있다.</p>\n",
    "<p>IMDB 데이터셋으로 영화 리뷰가 긍정적인지 부정적인지를 판별하는 이진 분류 모델을 만들고,</p>\n",
    "<p>직접 정의한 지표를 통해 모델의 학습 과정을 평가해보도록 하자.</p>"
   ]
  },
  {
   "cell_type": "code",
   "execution_count": 1,
   "metadata": {},
   "outputs": [],
   "source": [
    "# 필요한 라이브러리 불러오기\n",
    "from tensorflow.keras.datasets import imdb\n",
    "from tensorflow.keras import layers\n",
    "from tensorflow import keras\n",
    "import tensorflow as tf\n",
    "import numpy as np"
   ]
  },
  {
   "cell_type": "code",
   "execution_count": 2,
   "metadata": {},
   "outputs": [],
   "source": [
    "# 데이터 로드 및 전처리\n",
    "(train_data, train_labels), (test_data, test_labels) = imdb.load_data(num_words=10000)\n",
    "\n",
    "def vectorize_sequences(sequences, dimension=10000):\n",
    "    results = np.zeros((len(sequences), dimension))\n",
    "    for i, sequence in enumerate(sequences):\n",
    "        results[i, sequence] = 1.\n",
    "    return results\n",
    "train_data = vectorize_sequences(train_data)"
   ]
  },
  {
   "cell_type": "code",
   "execution_count": 3,
   "metadata": {},
   "outputs": [
    {
     "data": {
      "text/plain": [
       "array([1, 0, 0, ..., 0, 1, 0], dtype=int64)"
      ]
     },
     "execution_count": 3,
     "metadata": {},
     "output_type": "execute_result"
    }
   ],
   "source": [
    "train_labels"
   ]
  },
  {
   "cell_type": "code",
   "execution_count": 4,
   "metadata": {},
   "outputs": [],
   "source": [
    "# 모델 구축하기\n",
    "def build_model():\n",
    "    model = keras.Sequential([\n",
    "        layers.Dense(8, activation=\"relu\"),\n",
    "        layers.Dense(8, activation=\"relu\"),\n",
    "        layers.Dense(1, activation=\"sigmoid\")\n",
    "    ])\n",
    "    return model"
   ]
  },
  {
   "cell_type": "markdown",
   "metadata": {},
   "source": [
    "### 사용자 정의 지표 만들기\n",
    "\n",
    "<p>클래스를 만들고, keras.metrics.Metric을 상속하여 만든다.</p>\n",
    "\n",
    "<p>아래 코드 블럭 세 개는 각각 accuracy, Precision, Recall을 직접 정의한 것이다.</p>"
   ]
  },
  {
   "cell_type": "code",
   "execution_count": 5,
   "metadata": {},
   "outputs": [],
   "source": [
    "# Accuracy 클래스 정의하기\n",
    "class MyAccuracy(keras.metrics.Metric):\n",
    "    def __init__(self, name=\"my_accuracy\", **kwargs):\n",
    "        super().__init__(name=name, **kwargs)\n",
    "        self.true_positives = self.add_weight(\n",
    "            name=\"true_positives\", initializer=\"zeros\")\n",
    "        self.true_negatives = self.add_weight(\n",
    "            name=\"true_negatives\", initializer=\"zeros\")\n",
    "        self.false_positives = self.add_weight(\n",
    "            name=\"false_positives\", initializer=\"zeros\")\n",
    "        self.false_negatives = self.add_weight(\n",
    "            name=\"false_negatives\", initializer=\"zeros\")\n",
    "\n",
    "    def update_state(self, y_true, y_pred, sample_weight=None):\n",
    "        y_true = tf.squeeze(tf.cast(y_true, tf.float32))\n",
    "        y_pred = tf.squeeze(tf.cast(y_pred >= 0.5, tf.float32))\n",
    "\n",
    "        true_pos = tf.reduce_sum(y_true * y_pred)\n",
    "        true_neg = tf.reduce_sum((1 - y_true) * (1 - y_pred))\n",
    "        false_pos = tf.reduce_sum((1 - y_true) * y_pred)\n",
    "        false_neg = tf.reduce_sum(y_true * (1 - y_pred))\n",
    "\n",
    "        self.true_positives.assign_add(true_pos)\n",
    "        self.true_negatives.assign_add(true_neg)\n",
    "        self.false_positives.assign_add(false_pos)\n",
    "        self.false_negatives.assign_add(false_neg)\n",
    "                                \n",
    "    def result(self):\n",
    "        # 정확도 계산\n",
    "        return  ((self.true_positives) + (self.true_negatives)) / (self.true_positives + self.true_negatives + self.false_positives + self.false_negatives)           \n",
    "    \n",
    "    def reset_state(self):\n",
    "        self.true_positives.assign(0)\n",
    "        self.true_negatives.assign(0)\n",
    "        self.false_positives.assign(0)\n",
    "        self.false_negatives.assign(0)"
   ]
  },
  {
   "cell_type": "code",
   "execution_count": 6,
   "metadata": {},
   "outputs": [],
   "source": [
    "# Precision 클래스 정의하기\n",
    "class MyPrecision(keras.metrics.Metric):\n",
    "    def __init__(self, name=\"my_precision\", **kwargs):\n",
    "        super().__init__(name=name, **kwargs)\n",
    "        self.true_positives = self.add_weight(name=\"true_positives\", initializer=\"zeros\")\n",
    "        self.predicted_positives = self.add_weight(name=\"predicted_positives\", initializer=\"zeros\") \n",
    "\n",
    "    def update_state(self, y_true, y_pred, sample_weight=None):\n",
    "        # For binary classification, threshold predictions at 0.5\n",
    "        y_pred_classes = tf.squeeze(tf.cast(y_pred >= 0.5, \"float32\"))\n",
    "        y_true = tf.squeeze(tf.cast(y_true, \"float32\"))\n",
    "        \n",
    "        true_positives = tf.reduce_sum(y_true * y_pred_classes)\n",
    "        predicted_positives = tf.reduce_sum(y_pred_classes)\n",
    "        \n",
    "        self.true_positives.assign_add(true_positives)\n",
    "        self.predicted_positives.assign_add(predicted_positives)     \n",
    "        \n",
    "    def result(self):\n",
    "        # Precision 계산\n",
    "        return  (self.true_positives)/(self.predicted_positives + tf.keras.backend.epsilon())\n",
    "    \n",
    "    def reset_state(self):\n",
    "        self.true_positives.assign(0)\n",
    "        self.predicted_positives.assign(0)"
   ]
  },
  {
   "cell_type": "code",
   "execution_count": 7,
   "metadata": {},
   "outputs": [],
   "source": [
    "# Precision 클래스 정의하기\n",
    "class MyRecall(keras.metrics.Metric):\n",
    "    def __init__(self, name=\"my_recall\", **kwargs):\n",
    "        super().__init__(name=name, **kwargs)\n",
    "        self.true_positives = self.add_weight(name=\"true_positives\", initializer=\"zeros\")\n",
    "        self.actual_positives = self.add_weight(name=\"actual_positives\", initializer=\"zeros\") \n",
    "\n",
    "    def update_state(self, y_true, y_pred, sample_weight=None):\n",
    "        # For binary classification, threshold predictions at 0.5\n",
    "        y_pred_classes =  tf.squeeze(tf.cast(y_pred >= 0.5, \"float32\"))\n",
    "        y_true = tf.squeeze(tf.cast(y_true, \"float32\"))\n",
    "        \n",
    "        true_positives = tf.reduce_sum(y_true * y_pred_classes)\n",
    "        actual_positives = tf.reduce_sum(y_true)\n",
    "        \n",
    "        self.true_positives.assign_add(true_positives)\n",
    "        self.actual_positives.assign_add(actual_positives)     \n",
    "        \n",
    "    def result(self):\n",
    "        # Recall 계산\n",
    "        return  (self.true_positives)/(self.actual_positives + tf.keras.backend.epsilon())\n",
    "    \n",
    "    def reset_state(self):\n",
    "        self.true_positives.assign(0)\n",
    "        self.actual_positives.assign(0)"
   ]
  },
  {
   "cell_type": "code",
   "execution_count": 8,
   "metadata": {},
   "outputs": [
    {
     "name": "stdout",
     "output_type": "stream",
     "text": [
      "Epoch 1/5\n",
      "\u001b[1m938/938\u001b[0m \u001b[32m━━━━━━━━━━━━━━━━━━━━\u001b[0m\u001b[37m\u001b[0m \u001b[1m10s\u001b[0m 5ms/step - accuracy: 0.8068 - loss: 0.4370 - my_accuracy: 0.8068 - my_precision: 0.7961 - my_recall: 0.8229 - val_accuracy: 0.8880 - val_loss: 0.2858 - val_my_accuracy: 0.8880 - val_my_precision: 0.8550 - val_my_recall: 0.9328\n",
      "Epoch 2/5\n",
      "\u001b[1m938/938\u001b[0m \u001b[32m━━━━━━━━━━━━━━━━━━━━\u001b[0m\u001b[37m\u001b[0m \u001b[1m5s\u001b[0m 5ms/step - accuracy: 0.9208 - loss: 0.2045 - my_accuracy: 0.9208 - my_precision: 0.9156 - my_recall: 0.9270 - val_accuracy: 0.8889 - val_loss: 0.2884 - val_my_accuracy: 0.8889 - val_my_precision: 0.8961 - val_my_recall: 0.8782\n",
      "Epoch 3/5\n",
      "\u001b[1m938/938\u001b[0m \u001b[32m━━━━━━━━━━━━━━━━━━━━\u001b[0m\u001b[37m\u001b[0m \u001b[1m6s\u001b[0m 6ms/step - accuracy: 0.9433 - loss: 0.1584 - my_accuracy: 0.9433 - my_precision: 0.9421 - my_recall: 0.9440 - val_accuracy: 0.8867 - val_loss: 0.3115 - val_my_accuracy: 0.8867 - val_my_precision: 0.9026 - val_my_recall: 0.8653\n",
      "Epoch 4/5\n",
      "\u001b[1m938/938\u001b[0m \u001b[32m━━━━━━━━━━━━━━━━━━━━\u001b[0m\u001b[37m\u001b[0m \u001b[1m5s\u001b[0m 5ms/step - accuracy: 0.9533 - loss: 0.1306 - my_accuracy: 0.9533 - my_precision: 0.9526 - my_recall: 0.9546 - val_accuracy: 0.8861 - val_loss: 0.3304 - val_my_accuracy: 0.8861 - val_my_precision: 0.8799 - val_my_recall: 0.8925\n",
      "Epoch 5/5\n",
      "\u001b[1m938/938\u001b[0m \u001b[32m━━━━━━━━━━━━━━━━━━━━\u001b[0m\u001b[37m\u001b[0m \u001b[1m4s\u001b[0m 4ms/step - accuracy: 0.9604 - loss: 0.1136 - my_accuracy: 0.9604 - my_precision: 0.9584 - my_recall: 0.9618 - val_accuracy: 0.8840 - val_loss: 0.3516 - val_my_accuracy: 0.8840 - val_my_precision: 0.8708 - val_my_recall: 0.8999\n"
     ]
    }
   ],
   "source": [
    "# 모델 학습\n",
    "model_new = build_model()\n",
    "model_new.compile(optimizer=\"rmsprop\",\n",
    "              loss=\"binary_crossentropy\",\n",
    "\n",
    "              # 'accuracy'는 기본으로 제공되는 지표이다.\n",
    "              # 'MyAccuracy()', 'MyPrecision()', 'MyRecall()'은 위 블럭에서 직접 정의한 지표이다.\n",
    "              # 'accuracy'값과 'MyAccuracy()'값이 동일하게 나오는 것을 확인할 수 있다.\n",
    "              metrics=['accuracy', MyAccuracy(), MyPrecision(), MyRecall()]) \n",
    "history_original = model_new.fit(train_data, train_labels,\n",
    "                             epochs=5, batch_size=16, validation_split=0.4)"
   ]
  },
  {
   "cell_type": "code",
   "execution_count": null,
   "metadata": {},
   "outputs": [],
   "source": []
  }
 ],
 "metadata": {
  "kernelspec": {
   "display_name": "Python 3",
   "language": "python",
   "name": "python3"
  },
  "language_info": {
   "codemirror_mode": {
    "name": "ipython",
    "version": 3
   },
   "file_extension": ".py",
   "mimetype": "text/x-python",
   "name": "python",
   "nbconvert_exporter": "python",
   "pygments_lexer": "ipython3",
   "version": "3.11.0"
  }
 },
 "nbformat": 4,
 "nbformat_minor": 2
}
