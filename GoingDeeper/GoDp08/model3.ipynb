{
 "cells": [
  {
   "cell_type": "markdown",
   "id": "5954866b",
   "metadata": {},
   "source": [
    "# HuggingFace 프로젝트"
   ]
  },
  {
   "cell_type": "markdown",
   "id": "4fdd05a5",
   "metadata": {},
   "source": [
    "### 프로젝트 내용\n",
    "- HuggingFace의 Transformers와 Datasets를 활용하여 네이버 영화 감성 분석을 시행하여 90% 이상의 accuracy를 얻어낸다.  \n",
    "\n",
    "\n",
    "- KLUE를 활용한다.\n",
    "    - https://huggingface.co/klue/bert-base  \n",
    "    \n",
    "- 데이터셋:\n",
    "    - https://github.com/e9t/nsmc\n",
    "- 버켓팅을 적용한다."
   ]
  },
  {
   "cell_type": "markdown",
   "id": "e4db93cc",
   "metadata": {},
   "source": [
    "### 데이터셋 불러오기\n",
    "- 1. txt 파일을 pandas의 dataFrame으로 불러온다.\n",
    "- 2. Dataset.from_pandas()를 이용하여 허깅페이스 데이터셋으로 변환한다."
   ]
  },
  {
   "cell_type": "code",
   "execution_count": 1,
   "id": "cc803ae5",
   "metadata": {
    "scrolled": false
   },
   "outputs": [],
   "source": [
    "import tensorflow\n",
    "import numpy\n",
    "import transformers\n",
    "import datasets\n",
    "from datasets import load_dataset\n",
    "import os"
   ]
  },
  {
   "cell_type": "code",
   "execution_count": 2,
   "id": "c90eb8fc",
   "metadata": {
    "scrolled": true
   },
   "outputs": [
    {
     "name": "stderr",
     "output_type": "stream",
     "text": [
      "Using custom data configuration default\n",
      "Reusing dataset nsmc (/aiffel/.cache/huggingface/datasets/nsmc/default/1.1.0/bfd4729bf1a67114e5267e6916b9e4807010aeb238e4a3c2b95fbfa3a014b5f3)\n"
     ]
    },
    {
     "data": {
      "application/vnd.jupyter.widget-view+json": {
       "model_id": "259b5749b3b14302a36b04e5309be162",
       "version_major": 2,
       "version_minor": 0
      },
      "text/plain": [
       "  0%|          | 0/2 [00:00<?, ?it/s]"
      ]
     },
     "metadata": {},
     "output_type": "display_data"
    },
    {
     "name": "stdout",
     "output_type": "stream",
     "text": [
      "DatasetDict({\n",
      "    train: Dataset({\n",
      "        features: ['id', 'document', 'label'],\n",
      "        num_rows: 150000\n",
      "    })\n",
      "    test: Dataset({\n",
      "        features: ['id', 'document', 'label'],\n",
      "        num_rows: 50000\n",
      "    })\n",
      "})\n"
     ]
    },
    {
     "data": {
      "text/plain": [
       "{'id': ['9976970',\n",
       "  '3819312',\n",
       "  '10265843',\n",
       "  '9045019',\n",
       "  '6483659',\n",
       "  '5403919',\n",
       "  '7797314',\n",
       "  '9443947',\n",
       "  '7156791',\n",
       "  '5912145'],\n",
       " 'document': ['아 더빙.. 진짜 짜증나네요 목소리',\n",
       "  '흠...포스터보고 초딩영화줄....오버연기조차 가볍지 않구나',\n",
       "  '너무재밓었다그래서보는것을추천한다',\n",
       "  '교도소 이야기구먼 ..솔직히 재미는 없다..평점 조정',\n",
       "  '사이몬페그의 익살스런 연기가 돋보였던 영화!스파이더맨에서 늙어보이기만 했던 커스틴 던스트가 너무나도 이뻐보였다',\n",
       "  '막 걸음마 뗀 3세부터 초등학교 1학년생인 8살용영화.ㅋㅋㅋ...별반개도 아까움.',\n",
       "  '원작의 긴장감을 제대로 살려내지못했다.',\n",
       "  '별 반개도 아깝다 욕나온다 이응경 길용우 연기생활이몇년인지..정말 발로해도 그것보단 낫겟다 납치.감금만반복반복..이드라마는 가족도없다 연기못하는사람만모엿네',\n",
       "  '액션이 없는데도 재미 있는 몇안되는 영화',\n",
       "  '왜케 평점이 낮은건데? 꽤 볼만한데.. 헐리우드식 화려함에만 너무 길들여져 있나?'],\n",
       " 'label': [0, 1, 0, 0, 1, 0, 0, 0, 1, 1]}"
      ]
     },
     "execution_count": 2,
     "metadata": {},
     "output_type": "execute_result"
    }
   ],
   "source": [
    "# NSMC 데이터셋 로드\n",
    "dataset = load_dataset(\"nsmc\")\n",
    "\n",
    "# 데이터셋 정보 확인\n",
    "print(dataset)\n",
    "dataset['train'][:10]"
   ]
  },
  {
   "cell_type": "code",
   "execution_count": 3,
   "id": "35c10de1",
   "metadata": {
    "scrolled": true
   },
   "outputs": [
    {
     "name": "stdout",
     "output_type": "stream",
     "text": [
      "Dataset({\n",
      "    features: ['document', 'label'],\n",
      "    num_rows: 150000\n",
      "})\n",
      "Dataset({\n",
      "    features: ['document', 'label'],\n",
      "    num_rows: 50000\n",
      "})\n"
     ]
    }
   ],
   "source": [
    "# id 라는 피처는 필요가 없으니까 지우자.\n",
    "\n",
    "train_dataset = dataset['train'].remove_columns('id')\n",
    "test_dataset = dataset['test'].remove_columns('id')\n",
    "print(train_dataset)\n",
    "print(test_dataset)\n"
   ]
  },
  {
   "cell_type": "code",
   "execution_count": 4,
   "id": "032e6706",
   "metadata": {},
   "outputs": [
    {
     "name": "stdout",
     "output_type": "stream",
     "text": [
      "훈련 세트 크기: 20000\n",
      "검증 세트 크기: 4000\n",
      "테스트 세트 크기: 4000\n"
     ]
    }
   ],
   "source": [
    "# 데이터 양이 많으면 학습 시간이 오래 걸린다.\n",
    "# 모델 학습에 쓸 데이터 양을 좀 줄여보자.\n",
    "# 훈련 세트: 20000개\n",
    "# 검증 세트: 4000개\n",
    "# 테스트 세트: 4000개\n",
    "\n",
    "train_final = train_dataset.select(range(20000))\n",
    "eval_final = train_dataset.select(range(20000, 20000 + 4000))\n",
    "test_final = test_dataset.select(range(4000))\n",
    "\n",
    "print(\"훈련 세트 크기:\", len(train_final))\n",
    "print(\"검증 세트 크기:\", len(eval_final))\n",
    "print(\"테스트 세트 크기:\", len(test_final))"
   ]
  },
  {
   "cell_type": "markdown",
   "id": "d86a7e51",
   "metadata": {},
   "source": [
    "### 모델과 토크나이저 불러오기\n",
    "- AutoModelForSequenceClassification과 AutoTokenizer를 활용하여 klue/bert-base를 불러온다.\n",
    "- AutoModel을 사용하기보다는 어떤 태스크를 할지 명확하게 지정하는 게 좋다.\n",
    "- AutoModel로 하면 classification이라고 인식을 못하네.\n"
   ]
  },
  {
   "cell_type": "code",
   "execution_count": 5,
   "id": "b7e0e528",
   "metadata": {
    "scrolled": true
   },
   "outputs": [
    {
     "name": "stderr",
     "output_type": "stream",
     "text": [
      "Some weights of the model checkpoint at klue/bert-base were not used when initializing BertForSequenceClassification: ['cls.predictions.transform.LayerNorm.bias', 'cls.predictions.decoder.bias', 'cls.predictions.transform.LayerNorm.weight', 'cls.predictions.bias', 'cls.predictions.decoder.weight', 'cls.seq_relationship.bias', 'cls.predictions.transform.dense.weight', 'cls.predictions.transform.dense.bias', 'cls.seq_relationship.weight']\n",
      "- This IS expected if you are initializing BertForSequenceClassification from the checkpoint of a model trained on another task or with another architecture (e.g. initializing a BertForSequenceClassification model from a BertForPreTraining model).\n",
      "- This IS NOT expected if you are initializing BertForSequenceClassification from the checkpoint of a model that you expect to be exactly identical (initializing a BertForSequenceClassification model from a BertForSequenceClassification model).\n",
      "Some weights of BertForSequenceClassification were not initialized from the model checkpoint at klue/bert-base and are newly initialized: ['classifier.weight', 'classifier.bias']\n",
      "You should probably TRAIN this model on a down-stream task to be able to use it for predictions and inference.\n"
     ]
    }
   ],
   "source": [
    "from transformers import AutoModelForSequenceClassification, AutoTokenizer\n",
    "model = AutoModelForSequenceClassification.from_pretrained(\"klue/bert-base\", num_labels=2)\n",
    "tokenizer = AutoTokenizer.from_pretrained(\"klue/bert-base\")"
   ]
  },
  {
   "cell_type": "markdown",
   "id": "7528e2cd",
   "metadata": {},
   "source": [
    "### 전처리 하기"
   ]
  },
  {
   "cell_type": "code",
   "execution_count": 6,
   "id": "df8a25ae",
   "metadata": {},
   "outputs": [],
   "source": [
    "def tokenize_function(data):\n",
    "    return tokenizer(\n",
    "        data['document'],\n",
    "        truncation=True,\n",
    "        # 토크나이저 단계에서 패딩을 하지 않는다.\n",
    "        # 패딩은 데이터 콜레이터가 동적으로 하도록 한다.\n",
    "        padding=False, \n",
    "        max_length=128,\n",
    "        return_token_type_ids=False\n",
    "    )"
   ]
  },
  {
   "cell_type": "code",
   "execution_count": 7,
   "id": "db55c541",
   "metadata": {
    "scrolled": true
   },
   "outputs": [
    {
     "data": {
      "application/vnd.jupyter.widget-view+json": {
       "model_id": "b7f35c4f143c44b4a4c6ac289ac35cd4",
       "version_major": 2,
       "version_minor": 0
      },
      "text/plain": [
       "  0%|          | 0/20 [00:00<?, ?ba/s]"
      ]
     },
     "metadata": {},
     "output_type": "display_data"
    },
    {
     "data": {
      "application/vnd.jupyter.widget-view+json": {
       "model_id": "e5b721d2fd4f4798997f8a45a3e94ce0",
       "version_major": 2,
       "version_minor": 0
      },
      "text/plain": [
       "  0%|          | 0/4 [00:00<?, ?ba/s]"
      ]
     },
     "metadata": {},
     "output_type": "display_data"
    },
    {
     "data": {
      "application/vnd.jupyter.widget-view+json": {
       "model_id": "00695122daec4dccb69d8a13c3a39983",
       "version_major": 2,
       "version_minor": 0
      },
      "text/plain": [
       "  0%|          | 0/4 [00:00<?, ?ba/s]"
      ]
     },
     "metadata": {},
     "output_type": "display_data"
    }
   ],
   "source": [
    "# Tokenize the dataset\n",
    "train_final = train_final.map(tokenize_function, batched=True)\n",
    "eval_final = eval_final.map(tokenize_function, batched=True)\n",
    "test_final = test_final.map(tokenize_function, batched=True)"
   ]
  },
  {
   "cell_type": "code",
   "execution_count": 8,
   "id": "e1051a69",
   "metadata": {
    "scrolled": false
   },
   "outputs": [
    {
     "name": "stdout",
     "output_type": "stream",
     "text": [
      "[[1, 1, 1, 1, 1, 1, 1, 1, 1, 1, 1, 1, 1]]\n",
      "['아 더빙.. 진짜 짜증나네요 목소리']\n",
      "[[2, 1376, 831, 2604, 18, 18, 4229, 9801, 2075, 2203, 2182, 4243, 3]]\n",
      "[0]\n",
      "\n",
      "\n",
      "[[1, 1, 1]]\n",
      "['4']\n",
      "[[2, 24, 3]]\n",
      "[0]\n",
      "\n",
      "\n",
      "[[1, 1, 1, 1]]\n",
      "['굳 ㅋ']\n",
      "[[2, 618, 191, 3]]\n",
      "[1]\n"
     ]
    }
   ],
   "source": [
    "# 전처리 결과 확인하기.\n",
    "for element in train_final[:1].values():\n",
    "    print(element)\n",
    "print('\\n')    \n",
    "for element in eval_final[:1].values():\n",
    "    print(element)\n",
    "print('\\n')    \n",
    "for element in test_final[:1].values():\n",
    "    print(element)"
   ]
  },
  {
   "cell_type": "code",
   "execution_count": 9,
   "id": "ecd2cc54",
   "metadata": {},
   "outputs": [
    {
     "data": {
      "text/plain": [
       "{'attention_mask': [[1, 1, 1, 1, 1, 1, 1, 1, 1, 1, 1, 1, 1]],\n",
       " 'document': ['아 더빙.. 진짜 짜증나네요 목소리'],\n",
       " 'input_ids': [[2,\n",
       "   1376,\n",
       "   831,\n",
       "   2604,\n",
       "   18,\n",
       "   18,\n",
       "   4229,\n",
       "   9801,\n",
       "   2075,\n",
       "   2203,\n",
       "   2182,\n",
       "   4243,\n",
       "   3]],\n",
       " 'label': [0]}"
      ]
     },
     "execution_count": 9,
     "metadata": {},
     "output_type": "execute_result"
    }
   ],
   "source": [
    "train_final[:1]"
   ]
  },
  {
   "cell_type": "code",
   "execution_count": 10,
   "id": "7b38895c",
   "metadata": {},
   "outputs": [],
   "source": [
    "# 데이터 콜레이터\n",
    "# 동적 패딩을 사용하기 위한 과정이라고 생각하자.\n",
    "\n",
    "from transformers import DataCollatorWithPadding \n",
    "data_collator = DataCollatorWithPadding(tokenizer=tokenizer, padding=\"longest\")"
   ]
  },
  {
   "cell_type": "markdown",
   "id": "001cc5fc",
   "metadata": {},
   "source": [
    "### Trainer를 통한 학습 진행하기"
   ]
  },
  {
   "cell_type": "code",
   "execution_count": 11,
   "id": "c6d2773a",
   "metadata": {},
   "outputs": [
    {
     "name": "stdout",
     "output_type": "stream",
     "text": [
      "/aiffel/aiffel/HuggingFace_custom_project\n"
     ]
    }
   ],
   "source": [
    "import numpy as np\n",
    "from transformers import Trainer, TrainingArguments\n",
    "\n",
    "\n",
    "output_dir = os.getcwd()\n",
    "print(output_dir)\n",
    "\n",
    "training_args = TrainingArguments(\n",
    "    output_dir,\n",
    "    evaluation_strategy=\"epoch\",\n",
    "    learning_rate = 2e-5,\n",
    "    per_device_train_batch_size = 64,\n",
    "    per_device_eval_batch_size = 64,\n",
    "    num_train_epochs = 3,\n",
    "    weight_decay = 0.01,\n",
    "    group_by_length=True\n",
    ")"
   ]
  },
  {
   "cell_type": "code",
   "execution_count": 12,
   "id": "c7d36560",
   "metadata": {},
   "outputs": [],
   "source": [
    "from datasets import load_metric\n",
    "metric = load_metric('glue', 'mrpc') # 이진 분류에 맞는 평가 지표를 선택한다.\n",
    "\n",
    "def compute_metrics(eval_pred):\n",
    "    predictions, labels = eval_pred\n",
    "    predictions = np.argmax(predictions, axis=1)\n",
    "    return metric.compute(predictions=predictions, references = labels)\n"
   ]
  },
  {
   "cell_type": "code",
   "execution_count": 13,
   "id": "47fb2212",
   "metadata": {
    "scrolled": true
   },
   "outputs": [
    {
     "name": "stderr",
     "output_type": "stream",
     "text": [
      "The following columns in the training set  don't have a corresponding argument in `BertForSequenceClassification.forward` and have been ignored: document.\n",
      "***** Running training *****\n",
      "  Num examples = 20000\n",
      "  Num Epochs = 3\n",
      "  Instantaneous batch size per device = 64\n",
      "  Total train batch size (w. parallel, distributed & accumulation) = 64\n",
      "  Gradient Accumulation steps = 1\n",
      "  Total optimization steps = 939\n"
     ]
    },
    {
     "data": {
      "text/html": [
       "\n",
       "    <div>\n",
       "      \n",
       "      <progress value='939' max='939' style='width:300px; height:20px; vertical-align: middle;'></progress>\n",
       "      [939/939 05:32, Epoch 3/3]\n",
       "    </div>\n",
       "    <table border=\"1\" class=\"dataframe\">\n",
       "  <thead>\n",
       "    <tr style=\"text-align: left;\">\n",
       "      <th>Epoch</th>\n",
       "      <th>Training Loss</th>\n",
       "      <th>Validation Loss</th>\n",
       "      <th>Accuracy</th>\n",
       "      <th>F1</th>\n",
       "    </tr>\n",
       "  </thead>\n",
       "  <tbody>\n",
       "    <tr>\n",
       "      <td>1</td>\n",
       "      <td>No log</td>\n",
       "      <td>0.299676</td>\n",
       "      <td>0.872500</td>\n",
       "      <td>0.862829</td>\n",
       "    </tr>\n",
       "    <tr>\n",
       "      <td>2</td>\n",
       "      <td>0.307400</td>\n",
       "      <td>0.296178</td>\n",
       "      <td>0.879500</td>\n",
       "      <td>0.884079</td>\n",
       "    </tr>\n",
       "    <tr>\n",
       "      <td>3</td>\n",
       "      <td>0.307400</td>\n",
       "      <td>0.294611</td>\n",
       "      <td>0.890500</td>\n",
       "      <td>0.889894</td>\n",
       "    </tr>\n",
       "  </tbody>\n",
       "</table><p>"
      ],
      "text/plain": [
       "<IPython.core.display.HTML object>"
      ]
     },
     "metadata": {},
     "output_type": "display_data"
    },
    {
     "name": "stderr",
     "output_type": "stream",
     "text": [
      "The following columns in the evaluation set  don't have a corresponding argument in `BertForSequenceClassification.forward` and have been ignored: document.\n",
      "***** Running Evaluation *****\n",
      "  Num examples = 4000\n",
      "  Batch size = 64\n",
      "Saving model checkpoint to /aiffel/aiffel/HuggingFace_custom_project/checkpoint-500\n",
      "Configuration saved in /aiffel/aiffel/HuggingFace_custom_project/checkpoint-500/config.json\n",
      "Model weights saved in /aiffel/aiffel/HuggingFace_custom_project/checkpoint-500/pytorch_model.bin\n",
      "tokenizer config file saved in /aiffel/aiffel/HuggingFace_custom_project/checkpoint-500/tokenizer_config.json\n",
      "Special tokens file saved in /aiffel/aiffel/HuggingFace_custom_project/checkpoint-500/special_tokens_map.json\n",
      "The following columns in the evaluation set  don't have a corresponding argument in `BertForSequenceClassification.forward` and have been ignored: document.\n",
      "***** Running Evaluation *****\n",
      "  Num examples = 4000\n",
      "  Batch size = 64\n",
      "The following columns in the evaluation set  don't have a corresponding argument in `BertForSequenceClassification.forward` and have been ignored: document.\n",
      "***** Running Evaluation *****\n",
      "  Num examples = 4000\n",
      "  Batch size = 64\n",
      "\n",
      "\n",
      "Training completed. Do not forget to share your model on huggingface.co/models =)\n",
      "\n",
      "\n"
     ]
    },
    {
     "data": {
      "text/plain": [
       "TrainOutput(global_step=939, training_loss=0.25080446643443405, metrics={'train_runtime': 333.8165, 'train_samples_per_second': 179.739, 'train_steps_per_second': 2.813, 'total_flos': 732435400358400.0, 'train_loss': 0.25080446643443405, 'epoch': 3.0})"
      ]
     },
     "execution_count": 13,
     "metadata": {},
     "output_type": "execute_result"
    }
   ],
   "source": [
    "trainer = Trainer(\n",
    "    model=model,           # 학습시킬 model\n",
    "    args=training_args,           # TrainingArguments을 통해 설정한 arguments\n",
    "    train_dataset=train_final,    # training dataset\n",
    "    eval_dataset=eval_final,       # evaluation dataset\n",
    "    compute_metrics=compute_metrics,\n",
    "    data_collator=data_collator,\n",
    "    tokenizer=tokenizer\n",
    ")\n",
    "trainer.train()"
   ]
  },
  {
   "cell_type": "code",
   "execution_count": 14,
   "id": "d8710632",
   "metadata": {
    "scrolled": true
   },
   "outputs": [
    {
     "name": "stderr",
     "output_type": "stream",
     "text": [
      "Saving model checkpoint to /aiffel/aiffel/HuggingFace_custom_project/manual_saved_model\n",
      "Configuration saved in /aiffel/aiffel/HuggingFace_custom_project/manual_saved_model/config.json\n",
      "Model weights saved in /aiffel/aiffel/HuggingFace_custom_project/manual_saved_model/pytorch_model.bin\n",
      "tokenizer config file saved in /aiffel/aiffel/HuggingFace_custom_project/manual_saved_model/tokenizer_config.json\n",
      "Special tokens file saved in /aiffel/aiffel/HuggingFace_custom_project/manual_saved_model/special_tokens_map.json\n"
     ]
    }
   ],
   "source": [
    "trainer.save_model(output_dir + \"/manual_saved_model\")"
   ]
  },
  {
   "cell_type": "code",
   "execution_count": 15,
   "id": "2b3a76f6",
   "metadata": {
    "scrolled": true
   },
   "outputs": [
    {
     "name": "stderr",
     "output_type": "stream",
     "text": [
      "The following columns in the evaluation set  don't have a corresponding argument in `BertForSequenceClassification.forward` and have been ignored: document.\n",
      "***** Running Evaluation *****\n",
      "  Num examples = 4000\n",
      "  Batch size = 64\n"
     ]
    },
    {
     "data": {
      "text/html": [
       "\n",
       "    <div>\n",
       "      \n",
       "      <progress value='63' max='63' style='width:300px; height:20px; vertical-align: middle;'></progress>\n",
       "      [63/63 00:18]\n",
       "    </div>\n",
       "    "
      ],
      "text/plain": [
       "<IPython.core.display.HTML object>"
      ]
     },
     "metadata": {},
     "output_type": "display_data"
    },
    {
     "data": {
      "text/plain": [
       "{'eval_loss': 0.29879769682884216,\n",
       " 'eval_accuracy': 0.8845,\n",
       " 'eval_f1': 0.8843264897346019,\n",
       " 'eval_runtime': 18.4113,\n",
       " 'eval_samples_per_second': 217.258,\n",
       " 'eval_steps_per_second': 3.422,\n",
       " 'epoch': 3.0}"
      ]
     },
     "execution_count": 15,
     "metadata": {},
     "output_type": "execute_result"
    }
   ],
   "source": [
    "trainer.evaluate(test_final)"
   ]
  },
  {
   "attachments": {
    "image.png": {
     "image/png": "[encoded data removed]"
    }
   },
   "cell_type": "markdown",
   "id": "edc5b83f",
   "metadata": {},
   "source": [
    "![image.png](attachment:image.png)\n",
    "- 동적 패딩을 사용하지 않은 훈련 시간: 20분\n",
    "- 동적 패딩을 사용한 훈련 시간: 5분 30초"
   ]
  },
  {
   "cell_type": "markdown",
   "id": "e4490aab",
   "metadata": {},
   "source": []
  }
 ],
 "metadata": {
  "kernelspec": {
   "display_name": "Python 3 (ipykernel)",
   "language": "python",
   "name": "python3"
  },
  "language_info": {
   "codemirror_mode": {
    "name": "ipython",
    "version": 3
   },
   "file_extension": ".py",
   "mimetype": "text/x-python",
   "name": "python",
   "nbconvert_exporter": "python",
   "pygments_lexer": "ipython3",
   "version": "3.9.7"
  }
 },
 "nbformat": 4,
 "nbformat_minor": 5
}
